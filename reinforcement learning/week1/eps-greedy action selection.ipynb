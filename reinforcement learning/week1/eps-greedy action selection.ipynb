{
 "cells": [
  {
   "cell_type": "code",
   "execution_count": 338,
   "metadata": {},
   "outputs": [],
   "source": [
    "import torch\n",
    "import numpy as np"
   ]
  },
  {
   "cell_type": "code",
   "execution_count": 339,
   "metadata": {},
   "outputs": [],
   "source": [
    "def get_mean():\n",
    "    x = torch.empty(1, 10).normal_(5, 10).numpy().reshape(10, )\n",
    "    return x"
   ]
  },
  {
   "cell_type": "code",
   "execution_count": 340,
   "metadata": {},
   "outputs": [
    {
     "data": {
      "text/plain": [
       "array([ 17.678488 ,   6.6607943,   8.580836 , -15.874854 ,   7.077008 ,\n",
       "        -6.1272836,  -2.6700227,   6.427684 ,   6.8842673,  10.548766 ],\n",
       "      dtype=float32)"
      ]
     },
     "execution_count": 340,
     "metadata": {},
     "output_type": "execute_result"
    }
   ],
   "source": [
    "get_mean()"
   ]
  },
  {
   "cell_type": "code",
   "execution_count": 341,
   "metadata": {},
   "outputs": [
    {
     "data": {
      "text/plain": [
       "0.5"
      ]
     },
     "execution_count": 341,
     "metadata": {},
     "output_type": "execute_result"
    }
   ],
   "source": [
    "# Get reward with mean, there are total 10 action -> 10 means\n",
    "def get_reward(mean):\n",
    "    # return torch.empty(1, 1).normal_(mean, std = 1).reshape(-1).numpy().item()\n",
    "    # return np.random.normal(loc = mean, scale = 1)\n",
    "    return mean\n",
    "get_reward(0.5)"
   ]
  },
  {
   "cell_type": "code",
   "execution_count": 342,
   "metadata": {},
   "outputs": [],
   "source": [
    "def argmax(q_values):\n",
    "    \"\"\"\n",
    "    Takes in a list of q_values and returns the index\n",
    "    of the item with the highest value. Breaks ties randomly.\n",
    "    returns: int - the index of the highest value in q_values\n",
    "    \"\"\"\n",
    "    top = float(\"-inf\")\n",
    "    ties = []\n",
    "    \n",
    "    for i in range(len(q_values)):\n",
    "        # if a value in q_values is greater than the highest value, then update top and reset ties to zero\n",
    "        # if a value is equal to top value, then add the index to ties (hint: do this no matter what)\n",
    "        # return a random selection from ties. (hint: look at np.random.choice)\n",
    "        ### START CODE HERE ###\n",
    "        if q_values[i] > top:\n",
    "            top = q_values[i]\n",
    "            ties = [i]\n",
    "        elif q_values[i] == top:\n",
    "            ties.append(i)\n",
    "        ### END CODE HERE ###\n",
    "    return ties[np.random.choice(len(ties))]"
   ]
  },
  {
   "cell_type": "code",
   "execution_count": 343,
   "metadata": {},
   "outputs": [
    {
     "data": {
      "text/plain": [
       "9"
      ]
     },
     "execution_count": 343,
     "metadata": {},
     "output_type": "execute_result"
    }
   ],
   "source": [
    "import random\n",
    "def get_action(Q_t, epsilon):\n",
    "    x = np.random.uniform(0, 1)\n",
    "    if x > epsilon:\n",
    "        return argmax(Q_t)\n",
    "    else:\n",
    "        return random.choice(list(range(0, 10)))\n",
    "    \n",
    "Q_t = [1, 2, 3, 4, 5, 6, 7, 8, 9, 10]\n",
    "epsilon = 0.5\n",
    "get_action(Q_t, epsilon)"
   ]
  },
  {
   "cell_type": "code",
   "execution_count": null,
   "metadata": {},
   "outputs": [],
   "source": [
    "# step_size = 0.1\n",
    "num_steps = 2500\n",
    "means = get_mean()\n",
    "def get_reward_list(epsilon):\n",
    "    Q_t = np.zeros(shape = (10, ))\n",
    "    total_reward = []\n",
    "    arm_count = np.zeros(shape = (10, ))\n",
    "    for i in range(num_steps):\n",
    "        # means = get_mean()\n",
    "        action = get_action(Q_t, epsilon)\n",
    "        reward = get_reward(means[action])\n",
    "        arm_count[action] += 1\n",
    "        step_size = 1.0/(arm_count[action])\n",
    "        # step_size = 0.1\n",
    "        Q_t[action] = step_size * reward + (1 - step_size)*Q_t[action]\n",
    "        sum = np.sum([Q_t[j] * arm_count[j] for j in range(0, 10)])\n",
    "        total_reward.append(sum/(i + 1))\n",
    "    return total_reward\n",
    "def get_mean_reward(epsilon, num_list):\n",
    "    result = []\n",
    "    for i in range(num_list):\n",
    "        result.append(get_reward_list(epsilon))\n",
    "    result = np.mean(result, axis = 0)\n",
    "    return result\n"
   ]
  },
  {
   "cell_type": "code",
   "execution_count": 345,
   "metadata": {},
   "outputs": [],
   "source": [
    "# means[means.argmax()], means[means.argmin()], means.argmax()"
   ]
  },
  {
   "cell_type": "code",
   "execution_count": 346,
   "metadata": {},
   "outputs": [
    {
     "data": {
      "text/plain": [
       "array([21.374561  , -7.2259474 ,  0.96479076,  4.4590726 , -1.5774335 ,\n",
       "       -1.2199454 ,  1.0068934 ,  6.6075583 , 16.829075  ,  4.5821195 ],\n",
       "      dtype=float32)"
      ]
     },
     "execution_count": 346,
     "metadata": {},
     "output_type": "execute_result"
    }
   ],
   "source": [
    "means"
   ]
  },
  {
   "cell_type": "code",
   "execution_count": 347,
   "metadata": {},
   "outputs": [
    {
     "data": {
      "text/plain": [
       "19.485148267626727"
      ]
     },
     "execution_count": 347,
     "metadata": {},
     "output_type": "execute_result"
    }
   ],
   "source": [
    "x = get_reward_list(0.1)\n",
    "x[-1]"
   ]
  },
  {
   "cell_type": "code",
   "execution_count": 348,
   "metadata": {},
   "outputs": [
    {
     "data": {
      "text/plain": [
       "4.981938218760492"
      ]
     },
     "execution_count": 348,
     "metadata": {},
     "output_type": "execute_result"
    }
   ],
   "source": [
    "x = get_reward_list(0.99)\n",
    "x[-1]"
   ]
  },
  {
   "cell_type": "code",
   "execution_count": 349,
   "metadata": {},
   "outputs": [
    {
     "data": {
      "image/png": "[encoded data removed]",
      "text/plain": [
       "<Figure size 550x350 with 1 Axes>"
      ]
     },
     "metadata": {},
     "output_type": "display_data"
    }
   ],
   "source": [
    "from matplotlib import pyplot as plt\n",
    "\n",
    "plt.figure(figsize = (5.5, 3.5))\n",
    "num_list = 20\n",
    "plt.title(f\"Epsion greedy action selection with {num_list} run times\")\n",
    "plt.plot(get_mean_reward(0, num_list))\n",
    "plt.plot(get_mean_reward(0.1, num_list))\n",
    "plt.plot(get_mean_reward(0.4, num_list))\n",
    "plt.plot(get_mean_reward(0.99, num_list))\n",
    "plt.legend([\"eps = 0\", \"eps = 0.1\",\"eps = 0.4\", \"eps = 0.99\"])\n",
    "plt.grid(True)\n",
    "plt.xlabel(\"Time steps\")\n",
    "plt.ylabel(\"Average reward\")\n",
    "plt.show()"
   ]
  },
  {
   "cell_type": "code",
   "execution_count": null,
   "metadata": {},
   "outputs": [],
   "source": []
  }
 ],
 "metadata": {
  "kernelspec": {
   "display_name": "Python 3",
   "language": "python",
   "name": "python3"
  },
  "language_info": {
   "codemirror_mode": {
    "name": "ipython",
    "version": 3
   },
   "file_extension": ".py",
   "mimetype": "text/x-python",
   "name": "python",
   "nbconvert_exporter": "python",
   "pygments_lexer": "ipython3",
   "version": "3.9.21"
  }
 },
 "nbformat": 4,
 "nbformat_minor": 2
}
