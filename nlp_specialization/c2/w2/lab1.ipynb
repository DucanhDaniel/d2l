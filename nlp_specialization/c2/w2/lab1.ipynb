{
 "cells": [
  {
   "cell_type": "markdown",
   "id": "309f36fb",
   "metadata": {},
   "source": [
    "### Part-of-Speech Tagging - First steps: Working with text files, Creating a vocabulary and Handling unknown words"
   ]
  },
  {
   "cell_type": "code",
   "execution_count": 6,
   "id": "bd0fd2ec",
   "metadata": {},
   "outputs": [],
   "source": [
    "import string\n",
    "from collections import defaultdict\n",
    "import numpy as np"
   ]
  },
  {
   "cell_type": "code",
   "execution_count": 2,
   "id": "91ff40db",
   "metadata": {},
   "outputs": [],
   "source": [
    "# Read text data\n",
    "# A tagged dataset taken from the Wall Street Journal is provided in the file WSJ_02-21.pos\n",
    "# Read lines from 'WSJ_02-21.pos' file and save them into the 'lines' variable\n",
    "with open(\"WSJ_02-21.pos\", 'r') as f:\n",
    "    lines = f.readlines()"
   ]
  },
  {
   "cell_type": "code",
   "execution_count": 5,
   "id": "59de5a89",
   "metadata": {},
   "outputs": [
    {
     "data": {
      "text/plain": [
       "['In\\tIN\\n',\n",
       " 'an\\tDT\\n',\n",
       " 'Oct.\\tNNP\\n',\n",
       " '19\\tCD\\n',\n",
       " 'review\\tNN\\n',\n",
       " 'of\\tIN\\n',\n",
       " '``\\t``\\n',\n",
       " 'The\\tDT\\n',\n",
       " 'Misanthrope\\tNN\\n',\n",
       " \"''\\t''\\n\"]"
      ]
     },
     "execution_count": 5,
     "metadata": {},
     "output_type": "execute_result"
    }
   ],
   "source": [
    "lines[:10]"
   ]
  },
  {
   "cell_type": "code",
   "execution_count": 3,
   "id": "e9342a04",
   "metadata": {},
   "outputs": [],
   "source": [
    "# We only use 3 tags. In real word application, there are many more tags.\n",
    "# https://www.ling.upenn.edu/courses/Fall_2003/ling001/penn_treebank_pos.html\n",
    "tags = ['RB', 'NN', 'TO']"
   ]
  },
  {
   "cell_type": "code",
   "execution_count": 4,
   "id": "1cb76c82",
   "metadata": {},
   "outputs": [],
   "source": [
    "# transition_counts: Count the number of times a particular tag happened next\n",
    "# to another. The keys of this dictionary have the form (previous_tag, tag) and\n",
    "# the values are the frequency of occurences.\n",
    "# Define 'transition_counts' dictionary\n",
    "# Note: values are the same as the ones in the assignment\n",
    "transition_counts = {\n",
    "    ('NN', 'NN'): 16241,\n",
    "    ('RB', 'RB'): 2263,\n",
    "    ('TO', 'TO'): 2,\n",
    "    ('NN', 'TO'): 5256,\n",
    "    ('RB', 'TO'): 855,\n",
    "    ('TO', 'NN'): 734,\n",
    "    ('NN', 'RB'): 2431,\n",
    "    ('RB', 'NN'): 358,\n",
    "    ('TO', 'RB'): 200\n",
    "}\n"
   ]
  },
  {
   "cell_type": "code",
   "execution_count": 7,
   "id": "3a35c82e",
   "metadata": {},
   "outputs": [
    {
     "data": {
      "text/plain": [
       "array([[0., 0., 0.],\n",
       "       [0., 0., 0.],\n",
       "       [0., 0., 0.]])"
      ]
     },
     "execution_count": 7,
     "metadata": {},
     "output_type": "execute_result"
    }
   ],
   "source": [
    "num_tags = len(tags)\n",
    "\n",
    "transition_matrix = np.zeros((num_tags, num_tags))\n",
    "transition_matrix"
   ]
  },
  {
   "cell_type": "code",
   "execution_count": 9,
   "id": "72198e1c",
   "metadata": {},
   "outputs": [
    {
     "data": {
      "text/plain": [
       "['NN', 'RB', 'TO']"
      ]
     },
     "execution_count": 9,
     "metadata": {},
     "output_type": "execute_result"
    }
   ],
   "source": [
    "sorted_tags = sorted(tags)\n",
    "sorted_tags"
   ]
  },
  {
   "cell_type": "code",
   "execution_count": 10,
   "id": "65add429",
   "metadata": {},
   "outputs": [
    {
     "data": {
      "text/plain": [
       "array([[1.6241e+04, 2.4310e+03, 5.2560e+03],\n",
       "       [3.5800e+02, 2.2630e+03, 8.5500e+02],\n",
       "       [7.3400e+02, 2.0000e+02, 2.0000e+00]])"
      ]
     },
     "execution_count": 10,
     "metadata": {},
     "output_type": "execute_result"
    }
   ],
   "source": [
    "for i in range(num_tags):\n",
    "    for j in range(num_tags):\n",
    "        tag_tuple = (sorted_tags[i], sorted_tags[j])\n",
    "        # Get frequency from transition_counts dict and assign to (i, j) position in the matrix\n",
    "        transition_matrix[i, j] = transition_counts.get(tag_tuple)\n",
    "transition_matrix"
   ]
  },
  {
   "cell_type": "code",
   "execution_count": 11,
   "id": "aaf15f3b",
   "metadata": {},
   "outputs": [
    {
     "name": "stdout",
     "output_type": "stream",
     "text": [
      "         NN      RB      TO\n",
      "NN  16241.0  2431.0  5256.0\n",
      "RB    358.0  2263.0   855.0\n",
      "TO    734.0   200.0     2.0\n"
     ]
    }
   ],
   "source": [
    "import pandas as pd\n",
    "def print_matrix(matrix):\n",
    "    print(pd.DataFrame(matrix, index = sorted_tags, columns=sorted_tags))\n",
    "\n",
    "print_matrix(transition_matrix)"
   ]
  },
  {
   "cell_type": "code",
   "execution_count": 12,
   "id": "f7213e94",
   "metadata": {},
   "outputs": [
    {
     "name": "stdout",
     "output_type": "stream",
     "text": [
      "        NN     RB     TO\n",
      "NN  1624.1  243.1  525.6\n",
      "RB    35.8  226.3   85.5\n",
      "TO    73.4   20.0    0.2\n"
     ]
    }
   ],
   "source": [
    "# Working with Numpy for matrix manipulation\n",
    "# Sacle transition matrix\n",
    "transition_matrix = transition_matrix / 10\n",
    "\n",
    "print_matrix(transition_matrix)"
   ]
  },
  {
   "cell_type": "code",
   "execution_count": 13,
   "id": "0b5f8edb",
   "metadata": {},
   "outputs": [
    {
     "data": {
      "text/plain": [
       "array([[2392.8],\n",
       "       [ 347.6],\n",
       "       [  93.6]])"
      ]
     },
     "execution_count": 13,
     "metadata": {},
     "output_type": "execute_result"
    }
   ],
   "source": [
    "# axis = 1 -> sum for each row\n",
    "rows_sum = transition_matrix.sum(axis = 1, keepdims=True)\n",
    "rows_sum"
   ]
  },
  {
   "cell_type": "code",
   "execution_count": 14,
   "id": "1dd19d40",
   "metadata": {},
   "outputs": [
    {
     "name": "stdout",
     "output_type": "stream",
     "text": [
      "          NN        RB        TO\n",
      "NN  0.678745  0.101596  0.219659\n",
      "RB  0.102992  0.651036  0.245972\n",
      "TO  0.784188  0.213675  0.002137\n"
     ]
    }
   ],
   "source": [
    "transition_matrix = transition_matrix / rows_sum\n",
    "print_matrix(transition_matrix)"
   ]
  },
  {
   "cell_type": "code",
   "execution_count": 15,
   "id": "a125ef7c",
   "metadata": {},
   "outputs": [
    {
     "data": {
      "text/plain": [
       "array([[1.],\n",
       "       [1.],\n",
       "       [1.]])"
      ]
     },
     "execution_count": 15,
     "metadata": {},
     "output_type": "execute_result"
    }
   ],
   "source": [
    "transition_matrix.sum(axis = 1, keepdims=True)"
   ]
  },
  {
   "cell_type": "code",
   "execution_count": 16,
   "id": "1dd13bb3",
   "metadata": {},
   "outputs": [],
   "source": [
    "# You are asked to modify each value of the diagonal of the matrix so that \n",
    "# they are equal to the log of the sum of the current row plus the current value. \n",
    "import math\n",
    "\n",
    "# Copy transition matrix for for-loop example\n",
    "t_matrix_for = np.copy(transition_matrix)\n",
    "\n",
    "# Copy transition matrix for numpy function example\n",
    "t_matrix_np = np.copy(transition_matrix)"
   ]
  },
  {
   "cell_type": "code",
   "execution_count": 17,
   "id": "62f3845c",
   "metadata": {},
   "outputs": [
    {
     "name": "stdout",
     "output_type": "stream",
     "text": [
      "          NN        RB        TO\n",
      "NN  8.458964  0.101596  0.219659\n",
      "RB  0.102992  6.502088  0.245972\n",
      "TO  0.784188  0.213675  4.541167\n"
     ]
    }
   ],
   "source": [
    "for i in range(num_tags):\n",
    "    t_matrix_for[i, i] = transition_matrix[i, i] + math.log(rows_sum[i])\n",
    "\n",
    "print_matrix(t_matrix_for)"
   ]
  },
  {
   "cell_type": "code",
   "execution_count": 19,
   "id": "c6f1d65c",
   "metadata": {},
   "outputs": [
    {
     "data": {
      "text/plain": [
       "(3,)"
      ]
     },
     "execution_count": 19,
     "metadata": {},
     "output_type": "execute_result"
    }
   ],
   "source": [
    "# Using vectorization\n",
    "d = np.diagonal(t_matrix_np)\n",
    "d.shape"
   ]
  },
  {
   "cell_type": "code",
   "execution_count": null,
   "id": "d313a779",
   "metadata": {},
   "outputs": [
    {
     "data": {
      "text/plain": [
       "(array([[0.67874457, 0.10159646, 0.21965898],\n",
       "        [0.10299194, 0.65103567, 0.24597238],\n",
       "        [0.78418803, 0.21367521, 0.00213675]]),\n",
       " array([0.67874457, 0.65103567, 0.00213675]))"
      ]
     },
     "execution_count": 20,
     "metadata": {},
     "output_type": "execute_result"
    }
   ],
   "source": [
    "t_matrix_np, d # Lấy các phần tử đường chéo"
   ]
  },
  {
   "cell_type": "code",
   "execution_count": 21,
   "id": "9ffe3282",
   "metadata": {},
   "outputs": [
    {
     "name": "stdout",
     "output_type": "stream",
     "text": [
      "          NN        RB        TO\n",
      "NN  8.458964  0.101596  0.219659\n",
      "RB  0.102992  8.431255  0.245972\n",
      "TO  0.784188  0.213675  7.782356\n"
     ]
    }
   ],
   "source": [
    "d = d + np.vectorize(math.log)(rows_sum)\n",
    "np.fill_diagonal(t_matrix_np, d)\n",
    "\n",
    "print_matrix(t_matrix_np)"
   ]
  }
 ],
 "metadata": {
  "kernelspec": {
   "display_name": "Python 3",
   "language": "python",
   "name": "python3"
  },
  "language_info": {
   "codemirror_mode": {
    "name": "ipython",
    "version": 3
   },
   "file_extension": ".py",
   "mimetype": "text/x-python",
   "name": "python",
   "nbconvert_exporter": "python",
   "pygments_lexer": "ipython3",
   "version": "3.9.21"
  }
 },
 "nbformat": 4,
 "nbformat_minor": 5
}
