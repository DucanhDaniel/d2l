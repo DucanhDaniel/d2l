{
 "cells": [
  {
   "cell_type": "code",
   "execution_count": 1,
   "id": "88f3feff",
   "metadata": {},
   "outputs": [],
   "source": [
    "word = \"dearz\""
   ]
  },
  {
   "cell_type": "code",
   "execution_count": null,
   "id": "3aabb68d",
   "metadata": {},
   "outputs": [
    {
     "name": "stdout",
     "output_type": "stream",
     "text": [
      "[['', 'dearz'], ['d', 'earz'], ['de', 'arz'], ['dea', 'rz'], ['dear', 'z'], ['dearz', '']]\n"
     ]
    }
   ],
   "source": [
    "# Split\n",
    "splits_a = []\n",
    "for i in range(len(word) + 1):\n",
    "    splits_a.append([word[:i], word[i:]])\n",
    "print(splits_a)"
   ]
  },
  {
   "cell_type": "code",
   "execution_count": 4,
   "id": "ea2b0839",
   "metadata": {},
   "outputs": [
    {
     "name": "stdout",
     "output_type": "stream",
     "text": [
      "('', 'dearz')\n",
      "('d', 'earz')\n",
      "('de', 'arz')\n",
      "('dea', 'rz')\n",
      "('dear', 'z')\n",
      "('dearz', '')\n"
     ]
    }
   ],
   "source": [
    "# same splits, done using a list comprehension\n",
    "splits_b = [(word[:i], word[i:]) for i in range(len(word) + 1)]\n",
    "\n",
    "for i in splits_b:\n",
    "    print(i)"
   ]
  },
  {
   "cell_type": "code",
   "execution_count": 5,
   "id": "a3902cdd",
   "metadata": {},
   "outputs": [
    {
     "name": "stdout",
     "output_type": "stream",
     "text": [
      "word:  dearz\n",
      "earz <-- deleted  d\n",
      "darz <-- deleted  e\n",
      "derz <-- deleted  a\n",
      "deaz <-- deleted  r\n",
      "dear <-- deleted  z\n"
     ]
    }
   ],
   "source": [
    "# Delete\n",
    "splits = splits_a\n",
    "deletes = []\n",
    "\n",
    "print('word: ', word)\n",
    "for L, R in splits:\n",
    "    if R:\n",
    "        print(L + R[1:], '<-- deleted ', R[0])"
   ]
  },
  {
   "cell_type": "code",
   "execution_count": 7,
   "id": "29ba32f6",
   "metadata": {},
   "outputs": [
    {
     "name": "stdout",
     "output_type": "stream",
     "text": [
      "['earz', 'darz', 'derz', 'deaz', 'dear']\n"
     ]
    }
   ],
   "source": [
    "# deletes with a list comprehension\n",
    "splits = splits_a\n",
    "deletes = [L + R[1:] for L, R in splits if R]\n",
    "\n",
    "print(deletes)\n"
   ]
  },
  {
   "cell_type": "code",
   "execution_count": 8,
   "id": "231daef3",
   "metadata": {},
   "outputs": [
    {
     "name": "stdout",
     "output_type": "stream",
     "text": [
      "vocab :  ['dean', 'deer', 'dear', 'fries', 'and', 'coke']\n",
      "edits :  ['earz', 'darz', 'derz', 'deaz', 'dear']\n",
      "candidate words :  {'dear'}\n"
     ]
    }
   ],
   "source": [
    "vocab = ['dean','deer','dear','fries','and','coke']\n",
    "edits = list(deletes)\n",
    "\n",
    "print('vocab : ', vocab)\n",
    "print('edits : ', edits)\n",
    "\n",
    "candidates=[]\n",
    "\n",
    "### START CODE HERE ###\n",
    "#candidates = ??  # hint: 'set.intersection'\n",
    "candidates = set(vocab).intersection(edits)\n",
    "### END CODE HERE ###\n",
    "\n",
    "print('candidate words : ', candidates)\n"
   ]
  }
 ],
 "metadata": {
  "kernelspec": {
   "display_name": "Python 3",
   "language": "python",
   "name": "python3"
  },
  "language_info": {
   "codemirror_mode": {
    "name": "ipython",
    "version": 3
   },
   "file_extension": ".py",
   "mimetype": "text/x-python",
   "name": "python",
   "nbconvert_exporter": "python",
   "pygments_lexer": "ipython3",
   "version": "3.9.21"
  }
 },
 "nbformat": 4,
 "nbformat_minor": 5
}
