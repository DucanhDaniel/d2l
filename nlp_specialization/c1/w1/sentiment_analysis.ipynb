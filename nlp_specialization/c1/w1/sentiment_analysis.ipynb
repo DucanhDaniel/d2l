{
 "cells": [
  {
   "cell_type": "code",
   "execution_count": 112,
   "id": "3104e9e3",
   "metadata": {},
   "outputs": [],
   "source": [
    "from utils import process_tweet, build_freqs\n",
    "import nltk \n",
    "from nltk.corpus import twitter_samples\n",
    "import matplotlib.pyplot as plt\n",
    "import numpy as np\n",
    "import os"
   ]
  },
  {
   "cell_type": "code",
   "execution_count": 113,
   "id": "45c97e2b",
   "metadata": {},
   "outputs": [
    {
     "data": {
      "text/plain": [
       "(10000,)"
      ]
     },
     "execution_count": 113,
     "metadata": {},
     "output_type": "execute_result"
    }
   ],
   "source": [
    "positive_tweets = twitter_samples.strings('positive_tweets.json')\n",
    "negative_tweets = twitter_samples.strings('negative_tweets.json')\n",
    "\n",
    "tweets = positive_tweets + negative_tweets\n",
    "labels = np.concatenate(\n",
    "    (np.ones(len(positive_tweets)),\n",
    "    np.zeros(len(negative_tweets)))\n",
    ")\n",
    "labels.shape"
   ]
  },
  {
   "cell_type": "code",
   "execution_count": 114,
   "id": "0df489cc",
   "metadata": {},
   "outputs": [],
   "source": [
    "frequencies = build_freqs(tweets, labels)"
   ]
  },
  {
   "cell_type": "code",
   "execution_count": 115,
   "id": "99274e41",
   "metadata": {},
   "outputs": [],
   "source": [
    "data = []\n",
    "for tweet in tweets:\n",
    "    pos = 0\n",
    "    neg = 0\n",
    "    for word in process_tweet(tweet):\n",
    "        if (word, 1) in frequencies:\n",
    "            pos += frequencies[(word, 1)]\n",
    "        if (word, 0) in frequencies:\n",
    "            neg += frequencies[(word, 0)]\n",
    "    data.append([1, pos, neg])"
   ]
  },
  {
   "cell_type": "code",
   "execution_count": 136,
   "id": "bd672493",
   "metadata": {},
   "outputs": [],
   "source": [
    "def get_data(tweets, frequencies):\n",
    "    data = []\n",
    "    for tweet in tweets:\n",
    "        pos = 0\n",
    "        neg = 0\n",
    "        for word in process_tweet(tweet):\n",
    "            if (word, 1) in frequencies:\n",
    "                pos += frequencies[(word, 1)]\n",
    "            if (word, 0) in frequencies:\n",
    "                neg += frequencies[(word, 0)]\n",
    "        data.append([1, pos, neg])\n",
    "    return data"
   ]
  },
  {
   "cell_type": "code",
   "execution_count": 116,
   "id": "d7784630",
   "metadata": {},
   "outputs": [
    {
     "data": {
      "text/plain": [
       "([1, 34, 4624], 0.0)"
      ]
     },
     "execution_count": 116,
     "metadata": {},
     "output_type": "execute_result"
    }
   ],
   "source": [
    "data[6000], labels[6000]"
   ]
  },
  {
   "cell_type": "code",
   "execution_count": 117,
   "id": "8c4f0816",
   "metadata": {},
   "outputs": [],
   "source": [
    "import random\n",
    "\n",
    "# Kết hợp data và labels thành một list các tuple\n",
    "combined = list(zip(data, labels))\n",
    "\n",
    "# Shuffle list kết hợp\n",
    "random.shuffle(combined)\n",
    "\n",
    "# Tách lại thành data và labels\n",
    "data, labels = zip(*combined)\n",
    "\n",
    "# Chuyển đổi về kiểu ban đầu (nếu cần)\n",
    "data = list(data)\n",
    "labels = list(labels)"
   ]
  },
  {
   "cell_type": "code",
   "execution_count": 118,
   "id": "cf167cfa",
   "metadata": {},
   "outputs": [],
   "source": [
    "total_samples = 10000\n",
    "train_data = data[:8000]\n",
    "train_labels = labels[:8000]\n",
    "\n",
    "test_data = data[8000:]\n",
    "test_labels = labels[8000:]"
   ]
  },
  {
   "cell_type": "code",
   "execution_count": 119,
   "id": "0ac4a8c4",
   "metadata": {},
   "outputs": [],
   "source": [
    "import torch\n",
    "import torch.nn as nn\n",
    "import torch.nn.functional as F\n",
    "from torch.utils.data import TensorDataset, DataLoader"
   ]
  },
  {
   "cell_type": "code",
   "execution_count": 120,
   "id": "9aa9f74d",
   "metadata": {},
   "outputs": [],
   "source": [
    "def get_dataloader(data, labels, batch_size = 64):\n",
    "    data = torch.tensor(data, dtype = torch.float)\n",
    "    labels = torch.tensor(labels, dtype = torch.int64)\n",
    "    dataset = TensorDataset(data, labels)\n",
    "    dataloader = DataLoader(dataset, batch_size = batch_size, shuffle = True)\n",
    "    return dataloader"
   ]
  },
  {
   "cell_type": "code",
   "execution_count": 121,
   "id": "dae2b072",
   "metadata": {},
   "outputs": [
    {
     "name": "stderr",
     "output_type": "stream",
     "text": [
      "C:\\Users\\Duc Anh\\AppData\\Local\\Temp\\ipykernel_1544\\2801704304.py:3: DeprecationWarning: an integer is required (got type numpy.float64).  Implicit conversion to integers using __int__ is deprecated, and may be removed in a future version of Python.\n",
      "  labels = torch.tensor(labels, dtype = torch.int64)\n"
     ]
    }
   ],
   "source": [
    "train_dataloader = get_dataloader(train_data, train_labels)\n",
    "test_dataloader = get_dataloader(test_data, test_labels)"
   ]
  },
  {
   "cell_type": "code",
   "execution_count": 122,
   "id": "bde2032a",
   "metadata": {},
   "outputs": [
    {
     "name": "stdout",
     "output_type": "stream",
     "text": [
      "torch.Size([64, 3]) torch.Size([64])\n"
     ]
    }
   ],
   "source": [
    "for batch in train_dataloader:\n",
    "    print(batch[0].shape, batch[1].shape)\n",
    "    break"
   ]
  },
  {
   "cell_type": "code",
   "execution_count": 123,
   "id": "cbe4fa01",
   "metadata": {},
   "outputs": [],
   "source": [
    "class MLP_classifier(nn.Module):\n",
    "    def __init__(self, device, hidden_size = 32):\n",
    "        super().__init__()\n",
    "        self.net = nn.Sequential(\n",
    "            nn.Linear(3, hidden_size),\n",
    "            nn.ReLU(),\n",
    "            nn.Linear(hidden_size, 2)\n",
    "        )\n",
    "        self.to(device)\n",
    "\n",
    "    def forward(self, X):\n",
    "        y_hat = self.net(X)\n",
    "        return y_hat\n",
    "    \n",
    "    def save_model(self, path = \"../w1/model_ckpt.pth\"):\n",
    "        # dir_path = os.path.dirname(path)\n",
    "        # if not os.path.exists(dir_path):\n",
    "        #     os.makedirs(dir_path)\n",
    "        torch.save(self.state_dict(), path)\n",
    "        print(f\"Model saved to {path}\")\n",
    "\n",
    "\n",
    "    def load_model(self, path = \"../w1/model_ckpt.pth\"):\n",
    "        self.load_state_dict(torch.load(path, weights_only=True))\n",
    "\n",
    "        self.eval() \n",
    "        print(f\"Model loaded from {path}\")\n"
   ]
  },
  {
   "cell_type": "code",
   "execution_count": 124,
   "id": "684cb69d",
   "metadata": {},
   "outputs": [],
   "source": [
    "def training_step(model, batch, loss_fn, optimizer, device):\n",
    "    X = batch[0]\n",
    "    y = batch[1]\n",
    "    X = X.to(device)\n",
    "    y = y.to(device)\n",
    "\n",
    "    y_hat = model(X)\n",
    "    l = loss_fn(y_hat, y)\n",
    "    optimizer.zero_grad()\n",
    "    l.backward()\n",
    "    optimizer.step()\n",
    "\n",
    "    training_loss = l.item()\n",
    "    return training_loss\n",
    "\n",
    "def validation_step(model, batch, loss_fn, device):\n",
    "    X = batch[0]\n",
    "    y = batch[1]\n",
    "    X = X.to(device)\n",
    "    y = y.to(device)\n",
    "\n",
    "    with torch.no_grad():\n",
    "        y_hat = model(X)\n",
    "        l = loss_fn(y_hat, y)\n",
    "    valid_loss = l.item()\n",
    "    return valid_loss\n",
    "\n",
    "def accuracy(model, test_dataloader, device, maximum_test = 1000):\n",
    "    true_cnt = 0\n",
    "    total = 0\n",
    "    for batch_idx, (X, y) in enumerate(test_dataloader):\n",
    "        X = X.to(device)\n",
    "        y = y.to(device)\n",
    "        with torch.no_grad():\n",
    "            y_hat = model(X)\n",
    "        choice = torch.argmax(y_hat, dim = -1)\n",
    "\n",
    "        for i in range(len(y)):\n",
    "            true_choice = y[i]\n",
    "            model_choice = choice[i]\n",
    "            # print(true_choice, model_choice)\n",
    "            if model_choice == true_choice:\n",
    "                true_cnt+=1\n",
    "            total += 1\n",
    "        if total > maximum_test:\n",
    "            break\n",
    "    return 1.0 * true_cnt / total\n"
   ]
  },
  {
   "cell_type": "code",
   "execution_count": 131,
   "id": "ae62dfef",
   "metadata": {},
   "outputs": [
    {
     "data": {
      "text/plain": [
       "0.509765625"
      ]
     },
     "execution_count": 131,
     "metadata": {},
     "output_type": "execute_result"
    }
   ],
   "source": [
    "device = \"cuda\" if torch.cuda.is_available() else \"cpu\"\n",
    "model = MLP_classifier(device)\n",
    "accuracy(model, test_dataloader, device)"
   ]
  },
  {
   "cell_type": "code",
   "execution_count": 132,
   "id": "54aa8315",
   "metadata": {},
   "outputs": [],
   "source": [
    "def training(model, device = \"cuda\", num_epochs = 50):\n",
    "    loss = nn.CrossEntropyLoss()\n",
    "    optim = torch.optim.SGD(model.parameters(), lr = 0.001)\n",
    "    best_acc = 0.0\n",
    "    for i in range(num_epochs):\n",
    "        training_loss, validation_loss = 0, 0\n",
    "        for batch_idx, batch in enumerate(train_dataloader):\n",
    "            training_loss += training_step(model, batch, loss, optim, device)\n",
    "        for batch_idx, batch in enumerate(test_dataloader):\n",
    "            validation_loss += validation_step(model, batch, loss, device)\n",
    "        acc = accuracy(model, test_dataloader, device, 2000)\n",
    "        print(f\"Epoch: {i + 1}, Training Loss: {training_loss}, Validation Loss: {validation_loss}, Accuracy: {acc}\")\n",
    "        if acc > best_acc:\n",
    "            best_acc = acc\n",
    "            model.save_model()"
   ]
  },
  {
   "cell_type": "code",
   "execution_count": 133,
   "id": "266ea87b",
   "metadata": {},
   "outputs": [
    {
     "name": "stdout",
     "output_type": "stream",
     "text": [
      "Epoch: 1, Training Loss: 3277.597546484829, Validation Loss: 184.07309337747378, Accuracy: 0.991\n",
      "Model saved to ../w1/model_ckpt.pth\n",
      "Epoch: 2, Training Loss: 531.6754729520636, Validation Loss: 239.47046018837136, Accuracy: 0.9925\n",
      "Model saved to ../w1/model_ckpt.pth\n",
      "Epoch: 3, Training Loss: 364.48960233558256, Validation Loss: 198.3581577670081, Accuracy: 0.9925\n",
      "Epoch: 4, Training Loss: 194.61841696381765, Validation Loss: 145.99206844996473, Accuracy: 0.99\n",
      "Epoch: 5, Training Loss: 111.36062544077069, Validation Loss: 132.13289597325357, Accuracy: 0.9915\n",
      "Epoch: 6, Training Loss: 467.2432198937237, Validation Loss: 256.92088440517546, Accuracy: 0.994\n",
      "Model saved to ../w1/model_ckpt.pth\n",
      "Epoch: 7, Training Loss: 511.5178278275489, Validation Loss: 190.34884889516977, Accuracy: 0.994\n",
      "Epoch: 8, Training Loss: 284.5044182341051, Validation Loss: 481.2810952127741, Accuracy: 0.993\n",
      "Epoch: 9, Training Loss: 205.3697558249366, Validation Loss: 111.58604412781267, Accuracy: 0.9925\n",
      "Epoch: 10, Training Loss: 220.281253784728, Validation Loss: 103.86664148278106, Accuracy: 0.994\n",
      "Epoch: 11, Training Loss: 530.1754353614195, Validation Loss: 273.9533826477127, Accuracy: 0.9935\n",
      "Epoch: 12, Training Loss: 583.9725269256403, Validation Loss: 221.1163992933262, Accuracy: 0.9935\n",
      "Epoch: 13, Training Loss: 411.22905064826654, Validation Loss: 192.56812062035897, Accuracy: 0.9925\n",
      "Epoch: 14, Training Loss: 247.59479539308228, Validation Loss: 139.6240270449771, Accuracy: 0.9935\n",
      "Epoch: 15, Training Loss: 167.23372847629335, Validation Loss: 123.83827486793598, Accuracy: 0.9915\n",
      "Epoch: 16, Training Loss: 105.51048214277989, Validation Loss: 104.63576111133258, Accuracy: 0.994\n",
      "Epoch: 17, Training Loss: 50.69455520299788, Validation Loss: 87.88544759889464, Accuracy: 0.993\n",
      "Epoch: 18, Training Loss: 27.263755119878088, Validation Loss: 86.73615024242599, Accuracy: 0.9925\n",
      "Epoch: 19, Training Loss: 19.109146928725885, Validation Loss: 86.48313722109344, Accuracy: 0.9925\n",
      "Epoch: 20, Training Loss: 13.531434529519496, Validation Loss: 86.38806930426017, Accuracy: 0.9925\n",
      "Epoch: 21, Training Loss: 10.44656174172232, Validation Loss: 86.05037045715022, Accuracy: 0.993\n",
      "Epoch: 22, Training Loss: 8.970044661155043, Validation Loss: 85.99536976524541, Accuracy: 0.993\n",
      "Epoch: 23, Training Loss: 7.875373146856873, Validation Loss: 85.75530207493836, Accuracy: 0.992\n",
      "Epoch: 24, Training Loss: 6.958033664835966, Validation Loss: 85.78773162700236, Accuracy: 0.9925\n",
      "Epoch: 25, Training Loss: 6.11595843086252, Validation Loss: 85.56759789479838, Accuracy: 0.9905\n",
      "Epoch: 26, Training Loss: 5.676617922770674, Validation Loss: 85.62840354273521, Accuracy: 0.9905\n",
      "Epoch: 27, Training Loss: 5.402737981523387, Validation Loss: 85.48349879003945, Accuracy: 0.99\n",
      "Epoch: 28, Training Loss: 5.218897141516209, Validation Loss: 85.46637250506319, Accuracy: 0.99\n",
      "Epoch: 29, Training Loss: 5.231830459320918, Validation Loss: 85.76679027631872, Accuracy: 0.9905\n",
      "Epoch: 30, Training Loss: 4.989465351905125, Validation Loss: 85.47502629895459, Accuracy: 0.9905\n",
      "Epoch: 31, Training Loss: 11.34383684522274, Validation Loss: 85.51166793695302, Accuracy: 0.9905\n",
      "Epoch: 32, Training Loss: 9.173940029179079, Validation Loss: 85.6023973781339, Accuracy: 0.9905\n",
      "Epoch: 33, Training Loss: 7.827695813298305, Validation Loss: 85.54008244816205, Accuracy: 0.99\n",
      "Epoch: 34, Training Loss: 6.898501950451191, Validation Loss: 85.7066050578407, Accuracy: 0.9905\n",
      "Epoch: 35, Training Loss: 6.07153585521155, Validation Loss: 85.72288174390724, Accuracy: 0.9905\n",
      "Epoch: 36, Training Loss: 5.520372753126139, Validation Loss: 85.8461922830902, Accuracy: 0.991\n",
      "Epoch: 37, Training Loss: 5.180622262720135, Validation Loss: 85.66061038704356, Accuracy: 0.99\n",
      "Epoch: 38, Training Loss: 5.178634785814211, Validation Loss: 339.9489414743148, Accuracy: 0.9905\n",
      "Epoch: 39, Training Loss: 5.116759348748019, Validation Loss: 85.94978298107162, Accuracy: 0.9925\n",
      "Epoch: 40, Training Loss: 5.705411694903887, Validation Loss: 85.38704953060915, Accuracy: 0.9905\n",
      "Epoch: 41, Training Loss: 11.399469611332009, Validation Loss: 85.65319927948622, Accuracy: 0.991\n",
      "Epoch: 42, Training Loss: 9.393054215164652, Validation Loss: 85.66648614034057, Accuracy: 0.9905\n",
      "Epoch: 43, Training Loss: 8.254774606321005, Validation Loss: 85.6684424651321, Accuracy: 0.9905\n",
      "Epoch: 44, Training Loss: 7.429108124375473, Validation Loss: 85.68442792943097, Accuracy: 0.9905\n",
      "Epoch: 45, Training Loss: 6.780738328619464, Validation Loss: 85.72675184905528, Accuracy: 0.991\n",
      "Epoch: 46, Training Loss: 6.17731231367361, Validation Loss: 85.66630457322026, Accuracy: 0.992\n",
      "Epoch: 47, Training Loss: 5.563059722992875, Validation Loss: 85.54498552381119, Accuracy: 0.9905\n",
      "Epoch: 48, Training Loss: 5.150389412388904, Validation Loss: 85.39869088648993, Accuracy: 0.99\n",
      "Epoch: 49, Training Loss: 4.970964595529949, Validation Loss: 85.46359370974824, Accuracy: 0.99\n",
      "Epoch: 50, Training Loss: 4.949295302312294, Validation Loss: 85.5093918905186, Accuracy: 0.9905\n"
     ]
    }
   ],
   "source": [
    "training(model, device = device)"
   ]
  },
  {
   "cell_type": "code",
   "execution_count": 134,
   "id": "0d4d63df",
   "metadata": {},
   "outputs": [
    {
     "name": "stdout",
     "output_type": "stream",
     "text": [
      "Model saved to ../w1/model_ckpt.pth\n"
     ]
    }
   ],
   "source": [
    "model.save_model()"
   ]
  },
  {
   "cell_type": "code",
   "execution_count": 148,
   "id": "1d06f660",
   "metadata": {},
   "outputs": [],
   "source": [
    "def test(text):\n",
    "    data = torch.tensor(get_data([text], frequencies), dtype = torch.float, device = device)\n",
    "    with torch.no_grad():\n",
    "        model.eval()\n",
    "        y_pred = model(data)\n",
    "    pred = torch.argmax(y_pred).item()\n",
    "    if pred == 0:\n",
    "        print(f\"<{text}> ----> Negative!\")\n",
    "    else:\n",
    "        print(f\"<{text}> ----> Positive!\")"
   ]
  },
  {
   "cell_type": "code",
   "execution_count": 158,
   "id": "5f939511",
   "metadata": {},
   "outputs": [
    {
     "data": {
      "text/plain": [
       "0.9921875"
      ]
     },
     "execution_count": 158,
     "metadata": {},
     "output_type": "execute_result"
    }
   ],
   "source": [
    "accuracy(model, test_dataloader, device)"
   ]
  },
  {
   "cell_type": "code",
   "execution_count": 160,
   "id": "07f5ca8b",
   "metadata": {},
   "outputs": [
    {
     "name": "stdout",
     "output_type": "stream",
     "text": [
      "<oh god, my babies' faces :( https://t.co/9fcwGvaki0> ----> Negative!\n"
     ]
    }
   ],
   "source": [
    "test(negative_tweets[5])\n"
   ]
  }
 ],
 "metadata": {
  "kernelspec": {
   "display_name": "Python 3",
   "language": "python",
   "name": "python3"
  },
  "language_info": {
   "codemirror_mode": {
    "name": "ipython",
    "version": 3
   },
   "file_extension": ".py",
   "mimetype": "text/x-python",
   "name": "python",
   "nbconvert_exporter": "python",
   "pygments_lexer": "ipython3",
   "version": "3.9.21"
  }
 },
 "nbformat": 4,
 "nbformat_minor": 5
}
