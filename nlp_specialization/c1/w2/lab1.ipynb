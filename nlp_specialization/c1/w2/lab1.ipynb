{
 "cells": [
  {
   "cell_type": "markdown",
   "id": "d2c54bc7",
   "metadata": {},
   "source": [
    "### Trực quan hóa Naive Bayes\n",
    "- "
   ]
  },
  {
   "cell_type": "code",
   "execution_count": 3,
   "id": "81935d01",
   "metadata": {},
   "outputs": [],
   "source": [
    "import numpy as np\n",
    "import pandas as pd\n",
    "\n",
    "import matplotlib.pyplot as plt\n",
    "from utils import confidence_ellipse\n",
    "from utils import process_tweet\n",
    "import nltk \n",
    "from nltk.corpus import twitter_samples\n"
   ]
  },
  {
   "attachments": {
    "image.png": {
     "image/png": "[encoded data removed]"
    }
   },
   "cell_type": "markdown",
   "id": "5ab58140",
   "metadata": {},
   "source": [
    "- Tính likelihood cho từng tweet:\n",
    "![image.png](attachment:image.png)"
   ]
  },
  {
   "cell_type": "code",
   "execution_count": 4,
   "id": "f7e765ff",
   "metadata": {},
   "outputs": [],
   "source": [
    "class NaiveBayesModel():\n",
    "    def __init__(self):\n",
    "        self.positive_raw = twitter_samples.strings(\"positive_tweets.json\")\n",
    "        self.negative_raw = twitter_samples.strings(\"negative_tweets.json\")\n",
    "\n",
    "        self.init_freq_vocab()\n",
    "        self.calc_lamda()\n",
    "\n",
    "    def init_freq_vocab(self):\n",
    "        self.freq = {}\n",
    "        self.vocab = set()\n",
    "        for data in self.positive_raw:\n",
    "            positive = process_tweet(data)\n",
    "            for word in positive:\n",
    "                self.vocab.add(word)\n",
    "                if (word, 1) in self.freq:\n",
    "                    self.freq[(word, 1)] += 1\n",
    "                else:\n",
    "                    self.freq[(word, 1)] = 1\n",
    "        for data in self.negative_raw:\n",
    "            negative = process_tweet(data)\n",
    "            for word in negative:\n",
    "                if (word, 0) in self.freq:\n",
    "                    self.freq[(word, 0)] += 1\n",
    "                else:\n",
    "                    self.freq[(word, 0)] = 1\n",
    "                self.vocab.add(word)\n",
    "\n",
    "        for word in self.vocab:\n",
    "            if (word, 1) not in self.freq:\n",
    "                self.freq[(word, 1)] = 0\n",
    "            if (word, 0) not in self.freq:\n",
    "                self.freq[(word, 0)] = 0\n",
    "                \n",
    "    def calc_lamda(self):\n",
    "        self.lamda = {}\n",
    "        for word in self.vocab:\n",
    "            self.lamda[word] = np.log((self.freq[(word, 1)] + 1) / (len(self.positive_raw) + len(self.vocab))) \\\n",
    "                             - np.log((self.freq[(word, 0)] + 1) / (len(self.negative_raw) + len(self.vocab)))\n",
    "    \n",
    "    def predict(self, text):\n",
    "        text = process_tweet(text)\n",
    "        score = 0.0\n",
    "        for word in text:\n",
    "            if word in self.lamda:\n",
    "                score += self.lamda[word]\n",
    "        return 1 if score > 0 else 0"
   ]
  },
  {
   "cell_type": "code",
   "execution_count": 5,
   "id": "44b5b268",
   "metadata": {},
   "outputs": [],
   "source": [
    "model = NaiveBayesModel()"
   ]
  },
  {
   "cell_type": "code",
   "execution_count": 6,
   "id": "e5e5d044",
   "metadata": {},
   "outputs": [
    {
     "data": {
      "text/plain": [
       "7.08142843482205"
      ]
     },
     "execution_count": 6,
     "metadata": {},
     "output_type": "execute_result"
    }
   ],
   "source": [
    "model.lamda[':)']"
   ]
  },
  {
   "cell_type": "code",
   "execution_count": 9,
   "id": "134b8e84",
   "metadata": {},
   "outputs": [],
   "source": [
    "import random\n",
    "labels = np.concatenate((\n",
    "    np.ones(len(model.positive_raw)), \n",
    "    np.zeros(len(model.negative_raw))))\n",
    "\n",
    "tweets = model.positive_raw + model.negative_raw\n",
    "\n",
    "combined = list(zip(tweets, labels))\n",
    "random.shuffle(combined)"
   ]
  },
  {
   "cell_type": "code",
   "execution_count": 11,
   "id": "7d2fb5c5",
   "metadata": {},
   "outputs": [
    {
     "data": {
      "text/plain": [
       "[('@GeenaEhlich I know fml :(', 0.0),\n",
       " ('You mean Aamir Khan is one out of them.  :)  https://t.co/uQ7DRil5bj', 1.0),\n",
       " ('@sarahbournex me too :( determined not to feel ill for tonight!!!', 0.0),\n",
       " (\"@MrsManfyDiston Thanks for following! Do get in touch if you'd like any more info about our project: youth@bipolaruk.org.uk :)\",\n",
       "  1.0),\n",
       " ('Walking alone is not difficult. But when we walked a mile someone... Then coming back alone is Very Difficult.. :( : (\\n#S #h #O #n #U',\n",
       "  0.0)]"
      ]
     },
     "execution_count": 11,
     "metadata": {},
     "output_type": "execute_result"
    }
   ],
   "source": [
    "combined[:5]"
   ]
  },
  {
   "cell_type": "code",
   "execution_count": 12,
   "id": "26def98a",
   "metadata": {},
   "outputs": [],
   "source": [
    "def accuracy(model, combined, num_examples = 1000):\n",
    "    random.shuffle(combined)\n",
    "    acc = 0\n",
    "    for i in range(num_examples):\n",
    "        text, label = combined[i]\n",
    "        model_pred = model.predict(text)\n",
    "        if (label == model_pred):\n",
    "            acc += 1\n",
    "    return 1.0 * acc / num_examples"
   ]
  },
  {
   "cell_type": "code",
   "execution_count": 17,
   "id": "9e800b32",
   "metadata": {},
   "outputs": [
    {
     "data": {
      "text/plain": [
       "0.998"
      ]
     },
     "execution_count": 17,
     "metadata": {},
     "output_type": "execute_result"
    }
   ],
   "source": [
    "accuracy(model, combined)"
   ]
  }
 ],
 "metadata": {
  "kernelspec": {
   "display_name": "Python 3",
   "language": "python",
   "name": "python3"
  },
  "language_info": {
   "codemirror_mode": {
    "name": "ipython",
    "version": 3
   },
   "file_extension": ".py",
   "mimetype": "text/x-python",
   "name": "python",
   "nbconvert_exporter": "python",
   "pygments_lexer": "ipython3",
   "version": "3.9.21"
  }
 },
 "nbformat": 4,
 "nbformat_minor": 5
}
