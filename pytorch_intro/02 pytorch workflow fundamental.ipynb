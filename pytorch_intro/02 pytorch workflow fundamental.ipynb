{
 "cells": [
  {
   "cell_type": "code",
   "execution_count": 267,
   "metadata": {},
   "outputs": [
    {
     "data": {
      "text/plain": [
       "'2.6.0+cu124'"
      ]
     },
     "execution_count": 267,
     "metadata": {},
     "output_type": "execute_result"
    }
   ],
   "source": [
    "import torch\n",
    "from torch import nn\n",
    "from matplotlib import pyplot as plt\n",
    "import numpy as np\n",
    "torch.__version__"
   ]
  },
  {
   "cell_type": "markdown",
   "metadata": {},
   "source": [
    "#### 1. Data (Preparing and loading)\n",
    "1. Turn data into numbers\n",
    "2. Build a model to learn the presentation as best as possible"
   ]
  },
  {
   "cell_type": "code",
   "execution_count": 268,
   "metadata": {},
   "outputs": [],
   "source": [
    "weight, bias = 0.7, 0.3\n",
    "X = torch.arange(\n",
    "    start = 0, end = 1, step = 0.01\n",
    ").unsqueeze(dim = 1)\n",
    "X.shape\n",
    "y = X * weight + bias\n",
    "noise = torch.rand_like(y) * 0.1\n",
    "y += noise"
   ]
  },
  {
   "cell_type": "markdown",
   "metadata": {},
   "source": [
    "#### Split data into training and test sets\n",
    "- Training set: The model learns from this data, amound of total data: 60 - 80%\n",
    "- Validation set: The model gets tuned on this data, amound: 10 - 20%\n",
    "- Testing set: The model get evaluated on this data to test what is has learned, amound: 10 - 20%"
   ]
  },
  {
   "cell_type": "code",
   "execution_count": 269,
   "metadata": {},
   "outputs": [
    {
     "data": {
      "text/plain": [
       "(torch.Size([60, 1]), torch.Size([20, 1]), torch.Size([80, 1]))"
      ]
     },
     "execution_count": 269,
     "metadata": {},
     "output_type": "execute_result"
    }
   ],
   "source": [
    "# Create train/valid/test split\n",
    "train_size, val_size, test_size = int(len(y) * 0.6), int(len(y) * 0.2), int(len(y) * 0.2)\n",
    "train_data = X[:train_size]\n",
    "test_data = X[train_size:(train_size + test_size)]\n",
    "val_data = X[len(test_data):]\n",
    "\n",
    "train_label = y[:train_size]\n",
    "test_label = y[train_size:(train_size + test_size)]\n",
    "val_label = y[len(test_data):]\n",
    "\n",
    "train_data.shape, test_data.shape, val_data.shape"
   ]
  },
  {
   "cell_type": "code",
   "execution_count": 270,
   "metadata": {},
   "outputs": [
    {
     "data": {
      "image/png": "[encoded data removed]",
      "text/plain": [
       "<Figure size 350x250 with 1 Axes>"
      ]
     },
     "metadata": {},
     "output_type": "display_data"
    }
   ],
   "source": [
    "def plot(\n",
    "        train_data, train_label,\n",
    "        test_data, test_label, \n",
    "        # valid_data, valid_label, \n",
    "        pred = None\n",
    "):\n",
    "    plt.figure(figsize = (3.5, 2.5))\n",
    "\n",
    "    # Plot training data in blue\n",
    "    plt.scatter(train_data, train_label, c = 'b', s = 4, label = 'training data')\n",
    "\n",
    "    plt.scatter(test_data, test_label, c = 'r', s = 4, label = 'test data')\n",
    "    \n",
    "    if pred is not None:\n",
    "        # Plot the predictions in red (predictions were made on the test data)\n",
    "        plt.plot(np.concatenate((train_data, test_data)), pred, c=\"g\", label=\"Predictions\")\n",
    "\n",
    "    # Show the legend\n",
    "    plt.legend(prop={\"size\": 9})\n",
    "\n",
    "plot(train_data, train_label, test_data, test_label)"
   ]
  },
  {
   "cell_type": "code",
   "execution_count": 271,
   "metadata": {},
   "outputs": [],
   "source": [
    "from torch import tensor\n",
    "\n",
    "class LinearRegressionModel(nn.Module):\n",
    "    def __init__(self):\n",
    "        super().__init__()\n",
    "        self.weight = nn.Parameter(torch.randn(1, dtype = torch.float32), requires_grad=True)\n",
    "        self.bias = nn.Parameter(torch.randn(1, dtype = torch.float32), requires_grad = True)\n",
    "    def forward(self, x: torch.Tensor):\n",
    "        return self.weight * x + self.bias\n"
   ]
  },
  {
   "cell_type": "markdown",
   "metadata": {},
   "source": [
    "#### Pytorch module:\n",
    "- torch.nn: Contains all of the building blocks for computational graph\n",
    "- torch.nn.Parameter: Stores tensors that can be used with nn.Module. If require_grad = True then gradients will be calculated automatically.\n",
    "- torch.nn.Module: The base class of all neural network modules, all the building blocks for neural networks are subclasses. If you are building a neural netword in PyTorch, your models should subclass nn.Module, requires a forward() method to be implemented.\n",
    "- torch.optim: Contains various optimization algorithm which impove gradient descent and in turn reduce the loss."
   ]
  },
  {
   "cell_type": "code",
   "execution_count": 272,
   "metadata": {},
   "outputs": [
    {
     "data": {
      "text/plain": [
       "[Parameter containing:\n",
       " tensor([0.3367], requires_grad=True),\n",
       " Parameter containing:\n",
       " tensor([0.1288], requires_grad=True)]"
      ]
     },
     "execution_count": 272,
     "metadata": {},
     "output_type": "execute_result"
    }
   ],
   "source": [
    "torch.manual_seed(seed = 42)\n",
    "\n",
    "model = LinearRegressionModel()\n",
    "\n",
    "list(model.parameters())"
   ]
  },
  {
   "cell_type": "code",
   "execution_count": 273,
   "metadata": {},
   "outputs": [
    {
     "data": {
      "text/plain": [
       "OrderedDict([('weight', tensor([0.3367])), ('bias', tensor([0.1288]))])"
      ]
     },
     "execution_count": 273,
     "metadata": {},
     "output_type": "execute_result"
    }
   ],
   "source": [
    "model.state_dict()"
   ]
  },
  {
   "cell_type": "markdown",
   "metadata": {},
   "source": [
    "#### Make predictions with model\n",
    "- Using torch.inference_mode()\n",
    "- torch.inference_mode() is used when using a model for inference (making predictions). It turns off a bunch of things (like gradient tracking, which is necessary for training but not for inference) to make forward-passes faster.\n",
    "-  In older PyTorch code, you may also see torch.no_grad() being used for inference. While torch.inference_mode() and torch.no_grad() do similar things, torch.inference_mode() is newer, potentially faster and preferred. See this Tweet from PyTorch for more."
   ]
  },
  {
   "cell_type": "code",
   "execution_count": 274,
   "metadata": {},
   "outputs": [
    {
     "data": {
      "image/png": "[encoded data removed]",
      "text/plain": [
       "<Figure size 350x250 with 1 Axes>"
      ]
     },
     "metadata": {},
     "output_type": "display_data"
    }
   ],
   "source": [
    "with torch.inference_mode():\n",
    "    y_pred = model(np.concatenate((train_data, test_data)))\n",
    "plot(\n",
    "    train_data, train_label, test_data, test_label, pred = y_pred\n",
    ")"
   ]
  },
  {
   "cell_type": "markdown",
   "metadata": {},
   "source": [
    "- Loss function: Measure how wrong your model's prediction are compare to the truth labels. __Lower the better__\n",
    "- Optimizer: Tells your model how to update its internal parameters to best lower the loss."
   ]
  },
  {
   "cell_type": "code",
   "execution_count": 275,
   "metadata": {},
   "outputs": [],
   "source": [
    "loss_fn = nn.L1Loss()\n",
    "\n",
    "optimizer = torch.optim.SGD(params = model.parameters(), lr = 0.01)\n"
   ]
  },
  {
   "cell_type": "markdown",
   "metadata": {},
   "source": [
    "#### Training loop\n",
    "1. Forward pass: The model goes through all the training data once performing its forward() function calculations.\n",
    "2. Calculate the loss: The model output are compared to the ground truth and evaluate to see how wrong they are.\n",
    "3. Zero gradient: The optimizers gradient are set to zero so they can be recalculated for the specific training step.\n",
    "4. Backpropagation: Compute the gradient of the loss with respect to every model paramater to be updated.\n",
    "5. Update the optimizer: Update the parameters with requires_grad = True.\n",
    "\n",
    "#### Testing loop\n",
    "1. Forward pass\n",
    "2. Calculate the loss\n",
    "3. Calculate evaluation metrics"
   ]
  },
  {
   "cell_type": "code",
   "execution_count": 276,
   "metadata": {},
   "outputs": [
    {
     "name": "stdout",
     "output_type": "stream",
     "text": [
      "Epochs: 0 | MSE Train Loss: 0.33340051770210266 | MSE Test Loss: 0.45914825797080994\n",
      "Epochs: 10 | MSE Train Loss: 0.22469790279865265 | MSE Test Loss: 0.33864569664001465\n",
      "Epochs: 20 | MSE Train Loss: 0.11599542200565338 | MSE Test Loss: 0.21814313530921936\n",
      "Epochs: 30 | MSE Train Loss: 0.04881672561168671 | MSE Test Loss: 0.13121671974658966\n",
      "Epochs: 40 | MSE Train Loss: 0.042827192693948746 | MSE Test Loss: 0.10535764694213867\n",
      "Epochs: 50 | MSE Train Loss: 0.04050393030047417 | MSE Test Loss: 0.09324774146080017\n",
      "Epochs: 60 | MSE Train Loss: 0.038838643580675125 | MSE Test Loss: 0.08791683614253998\n",
      "Epochs: 70 | MSE Train Loss: 0.03717335686087608 | MSE Test Loss: 0.08258593827486038\n",
      "Epochs: 80 | MSE Train Loss: 0.0355113260447979 | MSE Test Loss: 0.07689851522445679\n",
      "Epochs: 90 | MSE Train Loss: 0.03402118384838104 | MSE Test Loss: 0.07174846529960632\n",
      "Epochs: 100 | MSE Train Loss: 0.03269578143954277 | MSE Test Loss: 0.066395103931427\n",
      "Epochs: 110 | MSE Train Loss: 0.03174654766917229 | MSE Test Loss: 0.06262378394603729\n",
      "Epochs: 120 | MSE Train Loss: 0.030862770974636078 | MSE Test Loss: 0.0602787621319294\n",
      "Epochs: 130 | MSE Train Loss: 0.030057689175009727 | MSE Test Loss: 0.05788535997271538\n",
      "Epochs: 140 | MSE Train Loss: 0.029411261901259422 | MSE Test Loss: 0.054881177842617035\n",
      "Epochs: 150 | MSE Train Loss: 0.028765499591827393 | MSE Test Loss: 0.05187699943780899\n",
      "Epochs: 160 | MSE Train Loss: 0.028206735849380493 | MSE Test Loss: 0.04891013726592064\n",
      "Epochs: 170 | MSE Train Loss: 0.027820924296975136 | MSE Test Loss: 0.046687088906764984\n",
      "Epochs: 180 | MSE Train Loss: 0.027537038549780846 | MSE Test Loss: 0.04438558965921402\n",
      "Epochs: 190 | MSE Train Loss: 0.027257900685071945 | MSE Test Loss: 0.04182262346148491\n",
      "Epochs: 200 | MSE Train Loss: 0.027042241767048836 | MSE Test Loss: 0.03951742500066757\n",
      "Epochs: 210 | MSE Train Loss: 0.026856981217861176 | MSE Test Loss: 0.03804565221071243\n",
      "Epochs: 220 | MSE Train Loss: 0.026747900992631912 | MSE Test Loss: 0.03650727495551109\n",
      "Epochs: 230 | MSE Train Loss: 0.026652520522475243 | MSE Test Loss: 0.03521839156746864\n",
      "Epochs: 240 | MSE Train Loss: 0.026556842029094696 | MSE Test Loss: 0.033953405916690826\n",
      "Epochs: 250 | MSE Train Loss: 0.026461046189069748 | MSE Test Loss: 0.03262825682759285\n",
      "Epochs: 260 | MSE Train Loss: 0.026365669444203377 | MSE Test Loss: 0.03185180574655533\n",
      "Epochs: 270 | MSE Train Loss: 0.026269562542438507 | MSE Test Loss: 0.031206998974084854\n",
      "Epochs: 280 | MSE Train Loss: 0.026174193248152733 | MSE Test Loss: 0.03083159402012825\n",
      "Epochs: 290 | MSE Train Loss: 0.026078810915350914 | MSE Test Loss: 0.030492130666971207\n",
      "Epochs: 300 | MSE Train Loss: 0.025982709601521492 | MSE Test Loss: 0.030115732923150063\n",
      "Epochs: 310 | MSE Train Loss: 0.02589074894785881 | MSE Test Loss: 0.0299777090549469\n",
      "Epochs: 320 | MSE Train Loss: 0.025803444907069206 | MSE Test Loss: 0.029886577278375626\n",
      "Epochs: 330 | MSE Train Loss: 0.025715595111250877 | MSE Test Loss: 0.029754528775811195\n",
      "Epochs: 340 | MSE Train Loss: 0.02562972530722618 | MSE Test Loss: 0.02966340444982052\n",
      "Epochs: 350 | MSE Train Loss: 0.02554386481642723 | MSE Test Loss: 0.02957228384912014\n",
      "Epochs: 360 | MSE Train Loss: 0.02545742131769657 | MSE Test Loss: 0.029481153935194016\n",
      "Epochs: 370 | MSE Train Loss: 0.025368716567754745 | MSE Test Loss: 0.029349103569984436\n",
      "Epochs: 380 | MSE Train Loss: 0.02528284303843975 | MSE Test Loss: 0.02925797738134861\n",
      "Epochs: 390 | MSE Train Loss: 0.02520090527832508 | MSE Test Loss: 0.02920892834663391\n",
      "Epochs: 400 | MSE Train Loss: 0.025112653151154518 | MSE Test Loss: 0.02919088304042816\n",
      "Epochs: 410 | MSE Train Loss: 0.02502833493053913 | MSE Test Loss: 0.029180001467466354\n",
      "Epochs: 420 | MSE Train Loss: 0.024944011121988297 | MSE Test Loss: 0.029169123619794846\n",
      "Epochs: 430 | MSE Train Loss: 0.02485968917608261 | MSE Test Loss: 0.029158249497413635\n",
      "Epochs: 440 | MSE Train Loss: 0.024775367230176926 | MSE Test Loss: 0.02914736233651638\n",
      "Epochs: 450 | MSE Train Loss: 0.024691257625818253 | MSE Test Loss: 0.029137004166841507\n",
      "Epochs: 460 | MSE Train Loss: 0.024609219282865524 | MSE Test Loss: 0.0291263647377491\n",
      "Epochs: 470 | MSE Train Loss: 0.02454613894224167 | MSE Test Loss: 0.029116246849298477\n",
      "Epochs: 480 | MSE Train Loss: 0.024504482746124268 | MSE Test Loss: 0.029108915477991104\n",
      "Epochs: 490 | MSE Train Loss: 0.024461479857563972 | MSE Test Loss: 0.029102077707648277\n"
     ]
    }
   ],
   "source": [
    "torch.manual_seed(42)\n",
    "\n",
    "num_epochs = 500\n",
    "\n",
    "train_loss_values = []\n",
    "test_loss_values = []\n",
    "epoch_count = []\n",
    "\n",
    "for epoch in range(num_epochs):\n",
    "    model.train() # Put the model in training mode\n",
    "\n",
    "    #1. Forward pass on training data using the forward method inside\n",
    "    y_pred = model(train_data)\n",
    "\n",
    "    #2. Calculate the loss\n",
    "    loss = loss_fn(y_pred, train_label)\n",
    "\n",
    "    #3. Zero grad\n",
    "    optimizer.zero_grad()\n",
    "\n",
    "    #4. Loss backward\n",
    "    loss.backward()\n",
    "\n",
    "    #5. Progress the optimizer\n",
    "    optimizer.step()\n",
    "\n",
    "    ### Testing\n",
    "\n",
    "    # Put the model in evaluation mode\n",
    "    model.eval()\n",
    "\n",
    "    with torch.inference_mode():\n",
    "        #1. Forward pass on test data\n",
    "        test_pred = model(test_data)\n",
    "\n",
    "        #2. Calculate loss on test_data\n",
    "        test_loss = loss_fn(test_pred, test_label)\n",
    "\n",
    "        if epoch % 10 == 0:\n",
    "            epoch_count.append(epoch)\n",
    "            train_loss_values.append(loss.detach().numpy())\n",
    "            test_loss_values.append(test_loss.detach().numpy())\n",
    "            print(f\"Epochs: {epoch} | MSE Train Loss: {loss} | MSE Test Loss: {test_loss}\")"
   ]
  },
  {
   "cell_type": "code",
   "execution_count": 277,
   "metadata": {},
   "outputs": [
    {
     "data": {
      "text/plain": [
       "<matplotlib.legend.Legend at 0x162dd6d7160>"
      ]
     },
     "execution_count": 277,
     "metadata": {},
     "output_type": "execute_result"
    },
    {
     "data": {
      "image/png": "[encoded data removed]",
      "text/plain": [
       "<Figure size 350x250 with 1 Axes>"
      ]
     },
     "metadata": {},
     "output_type": "display_data"
    }
   ],
   "source": [
    "plt.figure(figsize = (3.5, 2.5))\n",
    "plt.plot(epoch_count, train_loss_values, label = \"Train loss\")\n",
    "plt.plot(epoch_count, test_loss_values, label = \"Test loss\")\n",
    "plt.ylabel(\"loss\")\n",
    "plt.xlabel(\"epochs\")\n",
    "plt.yscale('log')\n",
    "plt.title(label = \"Training loss and test loss curves\")\n",
    "plt.legend()"
   ]
  },
  {
   "cell_type": "code",
   "execution_count": 278,
   "metadata": {},
   "outputs": [
    {
     "name": "stdout",
     "output_type": "stream",
     "text": [
      "OrderedDict([('weight', tensor([0.6693])), ('bias', tensor([0.3671]))])\n",
      "weight =  0.7\n",
      "bias =  0.3\n"
     ]
    }
   ],
   "source": [
    "print(model.state_dict())\n",
    "print(\"weight = \", weight)\n",
    "print(\"bias = \", bias)"
   ]
  },
  {
   "cell_type": "code",
   "execution_count": 279,
   "metadata": {},
   "outputs": [
    {
     "data": {
      "image/png": "[encoded data removed]",
      "text/plain": [
       "<Figure size 350x250 with 1 Axes>"
      ]
     },
     "metadata": {},
     "output_type": "display_data"
    }
   ],
   "source": [
    "with torch.inference_mode():\n",
    "    y_pred = model(np.concatenate((train_data, test_data)))\n",
    "plot(\n",
    "    train_data, train_label, test_data, test_label, pred = y_pred\n",
    ")"
   ]
  }
 ],
 "metadata": {
  "kernelspec": {
   "display_name": "Python 3",
   "language": "python",
   "name": "python3"
  },
  "language_info": {
   "codemirror_mode": {
    "name": "ipython",
    "version": 3
   },
   "file_extension": ".py",
   "mimetype": "text/x-python",
   "name": "python",
   "nbconvert_exporter": "python",
   "pygments_lexer": "ipython3",
   "version": "3.9.21"
  }
 },
 "nbformat": 4,
 "nbformat_minor": 2
}
