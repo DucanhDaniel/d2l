{
 "cells": [
  {
   "cell_type": "code",
   "execution_count": 257,
   "metadata": {},
   "outputs": [
    {
     "data": {
      "text/plain": [
       "'2.6.0+cu124'"
      ]
     },
     "execution_count": 257,
     "metadata": {},
     "output_type": "execute_result"
    }
   ],
   "source": [
    "import torch\n",
    "from torch import nn\n",
    "from matplotlib import pyplot as plt\n",
    "import numpy as np\n",
    "torch.__version__"
   ]
  },
  {
   "cell_type": "markdown",
   "metadata": {},
   "source": [
    "#### 1. Data (Preparing and loading)\n",
    "1. Turn data into numbers\n",
    "2. Build a model to learn the presentation as best as possible"
   ]
  },
  {
   "cell_type": "code",
   "execution_count": 258,
   "metadata": {},
   "outputs": [],
   "source": [
    "weight, bias = 0.7, 0.3\n",
    "X = torch.arange(\n",
    "    start = 0, end = 1, step = 0.01\n",
    ").unsqueeze(dim = 1)\n",
    "X.shape\n",
    "y = X * weight + bias\n",
    "noise = torch.rand_like(y) * 0.1\n",
    "y += noise"
   ]
  },
  {
   "cell_type": "markdown",
   "metadata": {},
   "source": [
    "#### Split data into training and test sets\n",
    "- Training set: The model learns from this data, amound of total data: 60 - 80%\n",
    "- Validation set: The model gets tuned on this data, amound: 10 - 20%\n",
    "- Testing set: The model get evaluated on this data to test what is has learned, amound: 10 - 20%"
   ]
  },
  {
   "cell_type": "code",
   "execution_count": 259,
   "metadata": {},
   "outputs": [
    {
     "data": {
      "text/plain": [
       "(torch.Size([60, 1]), torch.Size([20, 1]), torch.Size([80, 1]))"
      ]
     },
     "execution_count": 259,
     "metadata": {},
     "output_type": "execute_result"
    }
   ],
   "source": [
    "# Create train/valid/test split\n",
    "train_size, val_size, test_size = int(len(y) * 0.6), int(len(y) * 0.2), int(len(y) * 0.2)\n",
    "train_data = X[:train_size]\n",
    "test_data = X[train_size:(train_size + test_size)]\n",
    "val_data = X[len(test_data):]\n",
    "\n",
    "train_label = y[:train_size]\n",
    "test_label = y[train_size:(train_size + test_size)]\n",
    "val_label = y[len(test_data):]\n",
    "\n",
    "train_data.shape, test_data.shape, val_data.shape"
   ]
  },
  {
   "cell_type": "code",
   "execution_count": 260,
   "metadata": {},
   "outputs": [
    {
     "data": {
      "image/png": "[encoded data removed]",
      "text/plain": [
       "<Figure size 350x250 with 1 Axes>"
      ]
     },
     "metadata": {},
     "output_type": "display_data"
    }
   ],
   "source": [
    "def plot(\n",
    "        train_data, train_label,\n",
    "        test_data, test_label, \n",
    "        # valid_data, valid_label, \n",
    "        pred = None\n",
    "):\n",
    "    plt.figure(figsize = (3.5, 2.5))\n",
    "\n",
    "    # Plot training data in blue\n",
    "    plt.scatter(train_data, train_label, c = 'b', s = 4, label = 'training data')\n",
    "\n",
    "    plt.scatter(test_data, test_label, c = 'r', s = 4, label = 'test data')\n",
    "    \n",
    "    if pred is not None:\n",
    "        # Plot the predictions in red (predictions were made on the test data)\n",
    "        plt.plot(np.concatenate((train_data, test_data)), pred, c=\"g\", label=\"Predictions\")\n",
    "\n",
    "    # Show the legend\n",
    "    plt.legend(prop={\"size\": 9})\n",
    "\n",
    "plot(train_data, train_label, test_data, test_label)"
   ]
  },
  {
   "cell_type": "code",
   "execution_count": 261,
   "metadata": {},
   "outputs": [],
   "source": [
    "from torch import tensor\n",
    "\n",
    "class LinearRegressionModel(nn.Module):\n",
    "    def __init__(self):\n",
    "        super().__init__()\n",
    "        self.weight = nn.Parameter(torch.randn(1, dtype = torch.float32), requires_grad=True)\n",
    "        self.bias = nn.Parameter(torch.randn(1, dtype = torch.float32), requires_grad = True)\n",
    "    def forward(self, x: torch.Tensor):\n",
    "        return self.weight * x + self.bias\n"
   ]
  },
  {
   "cell_type": "markdown",
   "metadata": {},
   "source": [
    "#### Pytorch module:\n",
    "- torch.nn: Contains all of the building blocks for computational graph\n",
    "- torch.nn.Parameter: Stores tensors that can be used with nn.Module. If require_grad = True then gradients will be calculated automatically.\n",
    "- torch.nn.Module: The base class of all neural network modules, all the building blocks for neural networks are subclasses. If you are building a neural netword in PyTorch, your models should subclass nn.Module, requires a forward() method to be implemented.\n",
    "- torch.optim: Contains various optimization algorithm which impove gradient descent and in turn reduce the loss."
   ]
  },
  {
   "cell_type": "code",
   "execution_count": 262,
   "metadata": {},
   "outputs": [
    {
     "data": {
      "text/plain": [
       "[Parameter containing:\n",
       " tensor([0.3367], requires_grad=True),\n",
       " Parameter containing:\n",
       " tensor([0.1288], requires_grad=True)]"
      ]
     },
     "execution_count": 262,
     "metadata": {},
     "output_type": "execute_result"
    }
   ],
   "source": [
    "torch.manual_seed(seed = 42)\n",
    "\n",
    "model = LinearRegressionModel()\n",
    "\n",
    "list(model.parameters())"
   ]
  },
  {
   "cell_type": "code",
   "execution_count": 263,
   "metadata": {},
   "outputs": [
    {
     "data": {
      "text/plain": [
       "OrderedDict([('weight', tensor([0.3367])), ('bias', tensor([0.1288]))])"
      ]
     },
     "execution_count": 263,
     "metadata": {},
     "output_type": "execute_result"
    }
   ],
   "source": [
    "model.state_dict()"
   ]
  },
  {
   "cell_type": "markdown",
   "metadata": {},
   "source": [
    "#### Make predictions with model\n",
    "- Using torch.inference_mode()\n",
    "- torch.inference_mode() is used when using a model for inference (making predictions). It turns off a bunch of things (like gradient tracking, which is necessary for training but not for inference) to make forward-passes faster.\n",
    "-  In older PyTorch code, you may also see torch.no_grad() being used for inference. While torch.inference_mode() and torch.no_grad() do similar things, torch.inference_mode() is newer, potentially faster and preferred. See this Tweet from PyTorch for more."
   ]
  },
  {
   "cell_type": "code",
   "execution_count": 264,
   "metadata": {},
   "outputs": [
    {
     "data": {
      "image/png": "[encoded data removed]",
      "text/plain": [
       "<Figure size 350x250 with 1 Axes>"
      ]
     },
     "metadata": {},
     "output_type": "display_data"
    }
   ],
   "source": [
    "with torch.inference_mode():\n",
    "    y_pred = model(np.concatenate((train_data, test_data)))\n",
    "plot(\n",
    "    train_data, train_label, test_data, test_label, pred = y_pred\n",
    ")"
   ]
  },
  {
   "cell_type": "markdown",
   "metadata": {},
   "source": [
    "- Loss function: Measure how wrong your model's prediction are compare to the truth labels. __Lower the better__\n",
    "- Optimizer: Tells your model how to update its internal parameters to best lower the loss."
   ]
  },
  {
   "cell_type": "code",
   "execution_count": 265,
   "metadata": {},
   "outputs": [],
   "source": [
    "loss_fn = nn.L1Loss()\n",
    "\n",
    "optimizer = torch.optim.SGD(params = model.parameters(), lr = 0.01)\n"
   ]
  },
  {
   "cell_type": "markdown",
   "metadata": {},
   "source": [
    "#### Training loop\n",
    "1. Forward pass: The model goes through all the training data once performing its forward() function calculations.\n",
    "2. Calculate the loss: The model output are compared to the ground truth and evaluate to see how wrong they are.\n",
    "3. Zero gradient: The optimizers gradient are set to zero so they can be recalculated for the specific training step.\n",
    "4. Backpropagation: Compute the gradient of the loss with respect to every model paramater to be updated.\n",
    "5. Update the optimizer: Update the parameters with requires_grad = True.\n",
    "\n",
    "#### Testing loop\n",
    "1. Forward pass\n",
    "2. Calculate the loss\n",
    "3. Calculate evaluation metrics"
   ]
  },
  {
   "cell_type": "code",
   "execution_count": 266,
   "metadata": {},
   "outputs": [
    {
     "name": "stdout",
     "output_type": "stream",
     "text": [
      "Epochs: 0 | MSE Train Loss: 0.3277507722377777 | MSE Test Loss: 0.4653809666633606\n",
      "Epochs: 10 | MSE Train Loss: 0.2190481722354889 | MSE Test Loss: 0.34487831592559814\n",
      "Epochs: 20 | MSE Train Loss: 0.11034568399190903 | MSE Test Loss: 0.22437579929828644\n",
      "Epochs: 30 | MSE Train Loss: 0.053430572152137756 | MSE Test Loss: 0.14473900198936462\n",
      "Epochs: 40 | MSE Train Loss: 0.04427291825413704 | MSE Test Loss: 0.11406679451465607\n",
      "Epochs: 50 | MSE Train Loss: 0.04213828593492508 | MSE Test Loss: 0.10416996479034424\n",
      "Epochs: 60 | MSE Train Loss: 0.04024050384759903 | MSE Test Loss: 0.09821353852748871\n",
      "Epochs: 70 | MSE Train Loss: 0.03845420852303505 | MSE Test Loss: 0.09338252246379852\n",
      "Epochs: 80 | MSE Train Loss: 0.036950767040252686 | MSE Test Loss: 0.08897797018289566\n",
      "Epochs: 90 | MSE Train Loss: 0.03575596585869789 | MSE Test Loss: 0.08519449084997177\n"
     ]
    }
   ],
   "source": [
    "torch.manual_seed(42)\n",
    "\n",
    "num_epochs = 100\n",
    "\n",
    "train_loss_values = []\n",
    "test_loss_values = []\n",
    "epoch_count = []\n",
    "\n",
    "for epoch in range(num_epochs):\n",
    "    model.train() # Put the model in training mode\n",
    "\n",
    "    #1. Forward pass on training data using the forward method inside\n",
    "    y_pred = model(train_data)\n",
    "\n",
    "    #2. Calculate the loss\n",
    "    loss = loss_fn(y_pred, train_label)\n",
    "\n",
    "    #3. Zero grad\n",
    "    optimizer.zero_grad()\n",
    "\n",
    "    #4. Loss backward\n",
    "    loss.backward()\n",
    "\n",
    "    #5. Progress the optimizer\n",
    "    optimizer.step()\n",
    "\n",
    "    ### Testing\n",
    "\n",
    "    # Put the model in evaluation mode\n",
    "    model.eval()\n",
    "\n",
    "    with torch.inference_mode():\n",
    "        #1. Forward pass on test data\n",
    "        test_pred = model(test_data)\n",
    "\n",
    "        #2. Calculate loss on test_data\n",
    "        test_loss = loss_fn(test_pred, test_label)\n",
    "\n",
    "        if epoch % 10 == 0:\n",
    "            epoch_count.append(epoch)\n",
    "            train_loss_values.append(loss.detach().numpy())\n",
    "            test_loss_values.append(test_loss.detach().numpy())\n",
    "            print(f\"Epochs: {epoch} | MSE Train Loss: {loss} | MSE Test Loss: {test_loss}\")"
   ]
  },
  {
   "cell_type": "code",
   "execution_count": 267,
   "metadata": {},
   "outputs": [
    {
     "data": {
      "text/plain": [
       "<matplotlib.legend.Legend at 0x2d0c6121dc0>"
      ]
     },
     "execution_count": 267,
     "metadata": {},
     "output_type": "execute_result"
    },
    {
     "data": {
      "image/png": "[encoded data removed]",
      "text/plain": [
       "<Figure size 350x250 with 1 Axes>"
      ]
     },
     "metadata": {},
     "output_type": "display_data"
    }
   ],
   "source": [
    "plt.figure(figsize = (3.5, 2.5))\n",
    "plt.plot(epoch_count, train_loss_values, label = \"Train loss\")\n",
    "plt.plot(epoch_count, test_loss_values, label = \"Test loss\")\n",
    "plt.ylabel(\"loss\")\n",
    "plt.xlabel(\"epochs\")\n",
    "plt.yscale('log')\n",
    "plt.title(label = \"Training loss and test loss curves\")\n",
    "plt.legend()"
   ]
  },
  {
   "cell_type": "code",
   "execution_count": 268,
   "metadata": {},
   "outputs": [
    {
     "name": "stdout",
     "output_type": "stream",
     "text": [
      "OrderedDict([('weight', tensor([0.5133])), ('bias', tensor([0.4028]))])\n",
      "weight =  0.7\n",
      "bias =  0.3\n"
     ]
    }
   ],
   "source": [
    "print(model.state_dict())\n",
    "print(\"weight = \", weight)\n",
    "print(\"bias = \", bias)"
   ]
  },
  {
   "cell_type": "code",
   "execution_count": 269,
   "metadata": {},
   "outputs": [
    {
     "data": {
      "image/png": "[encoded data removed]",
      "text/plain": [
       "<Figure size 350x250 with 1 Axes>"
      ]
     },
     "metadata": {},
     "output_type": "display_data"
    }
   ],
   "source": [
    "with torch.inference_mode():\n",
    "    y_pred = model(np.concatenate((train_data, test_data)))\n",
    "plot(\n",
    "    train_data, train_label, test_data, test_label, pred = y_pred\n",
    ")"
   ]
  },
  {
   "cell_type": "markdown",
   "metadata": {},
   "source": [
    "#### Create data loader for getting batches"
   ]
  },
  {
   "cell_type": "code",
   "execution_count": 270,
   "metadata": {},
   "outputs": [],
   "source": [
    "from torch.utils.data import TensorDataset, DataLoader\n",
    "\n",
    "def get_data_loader(X, y, batch_size):\n",
    "    dataset = TensorDataset(X, y)\n",
    "    return DataLoader(dataset, batch_size=batch_size, shuffle=True)\n",
    "\n",
    "test_iter = get_data_loader(test_data, test_label, batch_size = 5)"
   ]
  },
  {
   "cell_type": "code",
   "execution_count": 271,
   "metadata": {},
   "outputs": [
    {
     "name": "stdout",
     "output_type": "stream",
     "text": [
      "X:  tensor([[0.6800],\n",
      "        [0.7400],\n",
      "        [0.7700],\n",
      "        [0.7900],\n",
      "        [0.6100]])\n",
      "y:  tensor([[0.7827],\n",
      "        [0.9109],\n",
      "        [0.8902],\n",
      "        [0.9234],\n",
      "        [0.7589]])\n",
      "X:  tensor([[0.7500],\n",
      "        [0.7800],\n",
      "        [0.6900],\n",
      "        [0.6300],\n",
      "        [0.7100]])\n",
      "y:  tensor([[0.8444],\n",
      "        [0.8578],\n",
      "        [0.8644],\n",
      "        [0.7999],\n",
      "        [0.8761]])\n",
      "X:  tensor([[0.6400],\n",
      "        [0.6000],\n",
      "        [0.7000],\n",
      "        [0.6700],\n",
      "        [0.7300]])\n",
      "y:  tensor([[0.8132],\n",
      "        [0.7962],\n",
      "        [0.8085],\n",
      "        [0.8020],\n",
      "        [0.8923]])\n",
      "X:  tensor([[0.7600],\n",
      "        [0.7200],\n",
      "        [0.6600],\n",
      "        [0.6200],\n",
      "        [0.6500]])\n",
      "y:  tensor([[0.9233],\n",
      "        [0.8371],\n",
      "        [0.8051],\n",
      "        [0.8209],\n",
      "        [0.7974]])\n"
     ]
    }
   ],
   "source": [
    "for X, y in test_iter:\n",
    "    print(\"X: \", X)\n",
    "    print(\"y: \", y)\n",
    "    "
   ]
  },
  {
   "cell_type": "code",
   "execution_count": 272,
   "metadata": {},
   "outputs": [],
   "source": [
    "class LinearRegressionModel(nn.Module):\n",
    "    def __init__(self, num_features):\n",
    "        super().__init__()\n",
    "        self.net = nn.Sequential(nn.Linear(num_features, 1, bias = True))\n",
    "    def forward(self, x):\n",
    "        return self.net(x)"
   ]
  },
  {
   "cell_type": "code",
   "execution_count": 273,
   "metadata": {},
   "outputs": [
    {
     "name": "stdout",
     "output_type": "stream",
     "text": [
      "tensor([[-0.8140, -0.7360, -0.8371, -0.9224,  1.8113],\n",
      "        [ 1.3690, -0.6950, -0.3489, -0.4579, -1.2322]]) tensor([[ 4.0240],\n",
      "        [-3.1147]])\n",
      "tensor([[ 1.0514,  0.0075, -0.0774,  0.5397,  0.5655],\n",
      "        [-0.0646,  3.4456,  0.3673, -0.3919,  0.1606]]) tensor([[10.8557],\n",
      "        [12.7455]])\n",
      "tensor([[-0.2016, -1.9768,  0.9275,  0.7894,  0.7825],\n",
      "        [ 0.4463, -0.5218,  0.8302, -0.6920, -0.4720]]) tensor([[10.1254],\n",
      "        [ 2.3513]])\n",
      "tensor([[-6.4659e-02, -2.3021e-04,  5.6931e-01,  7.4762e-01,  2.1337e+00],\n",
      "        [-3.3634e-02, -7.9826e-01, -2.6482e-01, -1.6661e-01,  2.5182e-01]]) tensor([[19.8351],\n",
      "        [ 2.6208]])\n",
      "tensor([[-0.8810,  0.3484, -1.1756, -0.0783, -0.9706],\n",
      "        [-1.3667,  0.3298,  0.0176,  0.0782,  0.1932]]) tensor([[-4.6019],\n",
      "        [ 6.5534]])\n",
      "tensor([[ 1.2752,  1.2704, -0.0750, -2.2950, -1.3631],\n",
      "        [ 0.0697, -1.6034, -0.4298,  0.5762,  0.6829]]) tensor([[-6.0951],\n",
      "        [ 5.5129]])\n",
      "tensor([[-1.8284, -0.1418, -0.2439, -0.7832, -0.2678],\n",
      "        [-0.1850, -1.0381, -0.1013, -0.9272,  0.7344]]) tensor([[-3.1563],\n",
      "        [ 2.0374]])\n",
      "tensor([[ 0.4664,  0.6667, -1.1753,  0.3581,  0.4788],\n",
      "        [-0.5081, -0.6185, -1.6470, -1.0362, -0.9711]]) tensor([[  7.9512],\n",
      "        [-12.2831]])\n",
      "asdasdasd\n",
      "tensor([[ 0.2745,  0.5569, -0.2322, -0.0597, -1.6665],\n",
      "        [-0.3948,  0.0877,  1.0938, -0.1177, -0.2986]]) tensor([[-2.2537],\n",
      "        [ 6.8942]])\n",
      "tensor([[-1.2894e+00,  1.0763e+00, -2.2879e+00, -4.8341e-01,  5.6000e-01],\n",
      "        [-6.4659e-02, -2.3021e-04,  5.6931e-01,  7.4762e-01,  2.1337e+00]]) tensor([[-1.5029],\n",
      "        [19.8351]])\n",
      "tensor([[ 1.8592,  0.0561, -0.7647, -0.0553,  1.2049],\n",
      "        [-1.2692,  0.3258, -1.4584,  1.8989, -0.0406]]) tensor([[13.3289],\n",
      "        [ 7.7188]])\n",
      "tensor([[ 0.3233, -0.1720, -1.3672,  0.6497, -0.3372],\n",
      "        [ 0.8963,  0.0499,  2.2667, -0.4880,  1.1914]]) tensor([[ 1.4637],\n",
      "        [18.4307]])\n",
      "tensor([[-0.0336, -0.7983, -0.2648, -0.1666,  0.2518],\n",
      "        [-1.5844, -2.5447,  1.3719, -0.5379, -0.1756]]) tensor([[ 2.6208],\n",
      "        [-0.3786]])\n",
      "tensor([[-0.0646,  3.4456,  0.3673, -0.3919,  0.1606],\n",
      "        [ 0.1266, -0.6901, -0.5622,  0.8253,  2.2683]]) tensor([[12.7455],\n",
      "        [18.0219]])\n",
      "tensor([[ 0.5069, -0.4752, -0.4920, -0.1360,  1.6354],\n",
      "        [-1.8284, -0.1418, -0.2439, -0.7832, -0.2678]]) tensor([[10.7022],\n",
      "        [-3.1563]])\n",
      "tensor([[ 0.3772,  0.4843, -0.0304,  1.0925,  1.4625],\n",
      "        [-1.0602,  0.0034, -1.0240,  0.2240, -0.7555]]) tensor([[18.4493],\n",
      "        [-0.8898]])\n"
     ]
    }
   ],
   "source": [
    "def create_linear_reg_data(weight, bias, data_size, num_features):\n",
    "    X = torch.randn(size = (data_size, num_features))\n",
    "    y = torch.matmul(X, weight) + bias\n",
    "    noise = torch.randn_like(y)\n",
    "    y += noise\n",
    "    return X, y\n",
    "\n",
    "def create_data_iter(weight, bias, train_size = 256, test_size = 128, batch_size = 32, valid_size = None, num_features = 5):\n",
    "    X, y = create_linear_reg_data(weight, bias, train_size, num_features)\n",
    "    train_iter = get_data_loader(X, y, batch_size)\n",
    "\n",
    "    X, y = create_linear_reg_data(weight, bias, test_size, num_features)\n",
    "    test_iter = get_data_loader(X, y, batch_size)\n",
    "\n",
    "    if (valid_size is not None):\n",
    "        X, y = create_linear_reg_data(weight, bias, valid_size, num_features)\n",
    "        valid_iter = get_data_loader(X, y, batch_size)\n",
    "        return train_iter, test_iter, valid_iter\n",
    "    \n",
    "    return train_iter, test_iter\n",
    "\n",
    "weight = torch.tensor([1., 2., 3., 4., 5.]).reshape(5, 1)\n",
    "bias = torch.tensor([5.])\n",
    "\n",
    "train_iter, test_iter = create_data_iter(weight, bias)\n",
    "for X, y in train_iter:\n",
    "    print(X[0:2], y[0:2])\n",
    "print(\"asdasdasd\")\n",
    "for X, y in train_iter:\n",
    "    print(X[0:2], y[0:2])"
   ]
  },
  {
   "cell_type": "code",
   "execution_count": 274,
   "metadata": {},
   "outputs": [
    {
     "name": "stdout",
     "output_type": "stream",
     "text": [
      "Epoch: 0 | L1Loss Train: 0.24776619113981724 | L1Loss Test: 0.24218587577342987\n",
      "Epoch: 5 | L1Loss Train: 0.15233839116990566 | L1Loss Test: 0.1263229101896286\n",
      "Epoch: 10 | L1Loss Train: 0.06586691318079829 | L1Loss Test: 0.06737842410802841\n",
      "Epoch: 15 | L1Loss Train: 0.025358097860589623 | L1Loss Test: 0.019180916249752045\n",
      "Epoch: 20 | L1Loss Train: 0.02458079275675118 | L1Loss Test: 0.01782439649105072\n"
     ]
    }
   ],
   "source": [
    "import torch.optim.sgd\n",
    "\n",
    "model = LinearRegressionModel(5)\n",
    "loss_fn = nn.L1Loss()\n",
    "optimizer = torch.optim.SGD(params = model.parameters(), lr = 0.1)\n",
    "\n",
    "def train_epoch(model: nn.Module, train_iter, test_iter):\n",
    "    model.train()\n",
    "    train_loss = 0\n",
    "    test_loss = 0\n",
    "    num_train = 0\n",
    "    for X, y in train_iter:\n",
    "        y_hat = model(X)\n",
    "        loss = loss_fn(y_hat, y)\n",
    "        \n",
    "        optimizer.zero_grad()\n",
    "        loss.backward()\n",
    "        optimizer.step()\n",
    "        train_loss += loss.detach().numpy()\n",
    "        # print(len(y))\n",
    "        num_train += len(y)\n",
    "\n",
    "    model.eval()\n",
    "    with torch.no_grad():\n",
    "        for X, y in test_iter:\n",
    "            y_hat = model(X)\n",
    "            loss = loss_fn(y_hat, y)\n",
    "            test_loss = (loss.detach().numpy()) / len(y)\n",
    "            break\n",
    "    return train_loss / num_train, test_loss\n",
    "\n",
    "def train(model: nn.Module, train_iter, test_iter, num_epochs):\n",
    "    train_plot_data = []\n",
    "    test_plot_data = []\n",
    "    for epoch in range(num_epochs):\n",
    "        train_loss, test_loss = train_epoch(model, train_iter, test_iter)\n",
    "        train_plot_data.append(train_loss)\n",
    "        test_plot_data.append(test_loss)\n",
    "        if (epoch % 5 == 0):\n",
    "            print(f\"Epoch: {epoch} | L1Loss Train: {train_loss} | L1Loss Test: {test_loss}\")\n",
    "    \n",
    "    return train_plot_data, test_plot_data\n",
    "    \n",
    "num_epochs = 25\n",
    "train_plot_data, test_plot_data = train(model, train_iter, test_iter, num_epochs)    \n"
   ]
  },
  {
   "cell_type": "code",
   "execution_count": 275,
   "metadata": {},
   "outputs": [
    {
     "name": "stdout",
     "output_type": "stream",
     "text": [
      "[Parameter containing:\n",
      "tensor([[0.9595, 1.9527, 3.1009, 4.0410, 4.9017]], requires_grad=True), Parameter containing:\n",
      "tensor([4.8552], requires_grad=True)]\n",
      "tensor([[1.],\n",
      "        [2.],\n",
      "        [3.],\n",
      "        [4.],\n",
      "        [5.]])\n",
      "tensor([5.])\n"
     ]
    }
   ],
   "source": [
    "print(list(model.parameters()))\n",
    "print(weight)\n",
    "print(bias)\n"
   ]
  },
  {
   "cell_type": "code",
   "execution_count": 276,
   "metadata": {},
   "outputs": [
    {
     "data": {
      "image/png": "[encoded data removed]",
      "text/plain": [
       "<Figure size 750x550 with 1 Axes>"
      ]
     },
     "metadata": {},
     "output_type": "display_data"
    }
   ],
   "source": [
    "plt.figure(figsize = (7.5, 5.5))\n",
    "plt.plot(np.arange(0, num_epochs), train_plot_data, label = \"train_loss\")\n",
    "plt.plot(np.arange(0, num_epochs), test_plot_data, label = \"test_loss\")\n",
    "plt.legend()\n",
    "plt.show()"
   ]
  }
 ],
 "metadata": {
  "kernelspec": {
   "display_name": "Python 3",
   "language": "python",
   "name": "python3"
  },
  "language_info": {
   "codemirror_mode": {
    "name": "ipython",
    "version": 3
   },
   "file_extension": ".py",
   "mimetype": "text/x-python",
   "name": "python",
   "nbconvert_exporter": "python",
   "pygments_lexer": "ipython3",
   "version": "3.9.21"
  }
 },
 "nbformat": 4,
 "nbformat_minor": 2
}
