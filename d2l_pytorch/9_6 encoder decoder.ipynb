{
 "cells": [
  {
   "attachments": {
    "image.png": {
     "image/png": "[encoded data removed]"
    }
   },
   "cell_type": "markdown",
   "metadata": {},
   "source": [
    "### 9.6 Kiến trúc mã hóa - giải mã\n",
    "- Kiến trúc mã hóa - giải mã (encoder - decoder achitecture) là một khuôn mẫu thiết kế mạng nơ ron. Kiến trúc này có hai phần: Bộ mã hóa và bộ giải mã. \n",
    "- Bộ mã hóa đóng vai trò mã hóa đầu vào thành trạng thái chứa vài tensor, tiếp đó trạng thái được truyền vào bộ giải mã để sinh đầu ra. \n",
    "- Trong dịch máy, bộ mã hóa biến đổi một câu nguồn, ví dụ như \"Hello world.\" thành trạng thái, chẳng hạn là một vector chứa thông tin ngữ nghĩa của câu đó. Sau đó bộ giải mã sử dụng trạng thái này để dịch câu sang ngôn ngữ đích, ví dụ sang tiếng Pháp.\n",
    "\n",
    "    ![image.png](attachment:image.png)"
   ]
  },
  {
   "cell_type": "code",
   "execution_count": 2,
   "metadata": {},
   "outputs": [],
   "source": [
    "from d2l import torch as d2l\n",
    "import torch\n",
    "from torch import nn"
   ]
  },
  {
   "cell_type": "markdown",
   "metadata": {},
   "source": [
    "#### 9.6.1 Bộ mã hóa\n",
    "- Bộ mã hóa là một mạng nơ ron thông thường, nhận đầu vào, ví dụ như một câu nguồn và trả về đầu ra."
   ]
  },
  {
   "cell_type": "code",
   "execution_count": 3,
   "metadata": {},
   "outputs": [],
   "source": [
    "class Encoder(nn.Module):\n",
    "    def __init__(self):\n",
    "        super().__init__()\n",
    "\n",
    "    # later there can be additional arguments\n",
    "    def forward(self, X, *args):\n",
    "        raise NotImplementedError"
   ]
  },
  {
   "cell_type": "markdown",
   "metadata": {},
   "source": [
    "#### 9.6.2 Bộ giải mã\n",
    "- Bộ giải mã có thêm phương thức __init_state__ nhằm phân tích đầu ra của bộ mã hóa với nhưng thông tin bổ sung (nếu có), như độ dài hợp lệ của đầu vào, để đưa ra trạng thái cần thiết. Trong lan truyền xuôi, bộ giải mã nhận hai đầu vào, ví dụ như một câu đích và trạng thái. Nó trả về đầu ra với trạng thái nhiều khả năng đã thau đổi nếu bộ mã hóa chứa các tầng RNN."
   ]
  },
  {
   "cell_type": "code",
   "execution_count": 4,
   "metadata": {},
   "outputs": [],
   "source": [
    "class Decoder(nn.Module):\n",
    "    def __init__(self):\n",
    "        super().__init__()\n",
    "\n",
    "    # Later there can be additional arguments (e.g., length excluding padding)\n",
    "    def init_state(self, enc_all_outputs, *args):\n",
    "        raise NotImplementedError\n",
    "    \n",
    "    def forward(self, X, state):\n",
    "        raise NotImplementedError"
   ]
  },
  {
   "cell_type": "markdown",
   "metadata": {},
   "source": [
    "#### 9.6.3 Mô hình\n",
    "- Mô hình mã hóa - giải mã bao gồm một bộ mã hóa và giải mã. Chúng ta lập trình phương thức truyền xuôi cho quá. Phương thức này nhận cả đầu vào bộ mõa hóa và đầu vào bộ giải mã cùng các đối số bổ sung bắt buộc. Mô hình tính đưa ra của bộ mã hóa để khởi tạo trạng thái bộ giải mã, sau đó trả về đầu ra của bộ giải mã."
   ]
  },
  {
   "cell_type": "code",
   "execution_count": 5,
   "metadata": {},
   "outputs": [],
   "source": [
    "class EncoderDecoder(d2l.Classifier):\n",
    "    def __init__(self, encoder, decoder):\n",
    "        super().__init__()\n",
    "        self.save_hyperparameters()\n",
    "\n",
    "    def forward(self, enc_X, dec_X, *args):\n",
    "        enc_all_outputs = self.encoder(enc_X, *args)\n",
    "        dec_state = self.decoder.init_state(enc_all_outputs, *args)\n",
    "        return self.devocer(dec_X, dec_state)[0]"
   ]
  }
 ],
 "metadata": {
  "kernelspec": {
   "display_name": "Python 3",
   "language": "python",
   "name": "python3"
  },
  "language_info": {
   "codemirror_mode": {
    "name": "ipython",
    "version": 3
   },
   "file_extension": ".py",
   "mimetype": "text/x-python",
   "name": "python",
   "nbconvert_exporter": "python",
   "pygments_lexer": "ipython3",
   "version": "3.9.21"
  }
 },
 "nbformat": 4,
 "nbformat_minor": 2
}
