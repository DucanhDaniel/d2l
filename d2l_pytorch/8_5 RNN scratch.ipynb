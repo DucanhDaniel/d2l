{
 "cells": [
  {
   "cell_type": "markdown",
   "metadata": {},
   "source": [
    "### Lập trình mạng nơ ron hồi tiếp từ đầu\n",
    "- Trong phần này, ta lập trình từ đầu mô hình ngôn ngữ được giới thiệu trong chương trước. Mô hình này dựa trên mạng nơ ron hồi tiếp ở cấp độ ký tự được huấn luyện trên tiểu thuyết The Time Machine. Ta bắt đầu với việc đọc tập dữ liệu."
   ]
  },
  {
   "cell_type": "code",
   "execution_count": 14,
   "metadata": {},
   "outputs": [],
   "source": [
    "from d2l import torch as d2l\n",
    "import math\n",
    "import torch\n",
    "from torch import nn\n",
    "from torch.nn import functional as F\n",
    "\n",
    "batch_size, num_steps = 32, 35\n",
    "data = d2l.TimeMachine(batch_size, num_steps)"
   ]
  },
  {
   "cell_type": "code",
   "execution_count": 15,
   "metadata": {},
   "outputs": [
    {
     "name": "stdout",
     "output_type": "stream",
     "text": [
      "[(' ', 32775), ('e', 17838), ('t', 13515), ('a', 11704), ('i', 10138), ('n', 9917), ('o', 9758), ('s', 8486), ('h', 8257), ('r', 7674), ('d', 6337), ('l', 6146), ('m', 4043), ('u', 3805), ('c', 3424), ('f', 3354), ('w', 3225), ('g', 3075), ('y', 2679), ('p', 2427), ('b', 1897), ('v', 1295), ('k', 1087), ('x', 236), ('z', 144), ('j', 97), ('q', 95)]\n"
     ]
    }
   ],
   "source": [
    "print(data.vocab.token_freqs)"
   ]
  },
  {
   "cell_type": "code",
   "execution_count": 16,
   "metadata": {},
   "outputs": [],
   "source": [
    "data_iter = data.get_dataloader(train = True)\n"
   ]
  },
  {
   "cell_type": "code",
   "execution_count": null,
   "metadata": {},
   "outputs": [
    {
     "name": "stdout",
     "output_type": "stream",
     "text": [
      "tensor([[20,  0,  2,  ..., 10, 15,  8],\n",
      "        [ 6,  0, 20,  ...,  9, 16, 14],\n",
      "        [ 6,  5,  0,  ...,  0, 21, 19],\n",
      "        ...,\n",
      "        [ 0, 14,  2,  ...,  0, 13,  2],\n",
      "        [16, 19,  6,  ...,  2, 20,  0],\n",
      "        [ 0, 24,  9,  ...,  0,  2, 20]]) tensor([[ 0,  2, 15,  ..., 15,  8,  0],\n",
      "        [ 0, 20,  0,  ..., 16, 14,  6],\n",
      "        [ 5,  0, 21,  ..., 21, 19,  2],\n",
      "        ...,\n",
      "        [14,  2, 26,  ..., 13,  2, 17],\n",
      "        [19,  6,  0,  ..., 20,  0, 16],\n",
      "        [24,  9, 26,  ...,  2, 20,  0]])\n"
     ]
    }
   ],
   "source": [
    "# In ra một minibatch\n",
    "for X, y in data_iter:\n",
    "    print(X, y)\n",
    "    break"
   ]
  },
  {
   "cell_type": "code",
   "execution_count": 23,
   "metadata": {},
   "outputs": [
    {
     "name": "stdout",
     "output_type": "stream",
     "text": [
      "[' ', 'a', 'n', ' ', 'a', 'b', 's', 'o', 'l', 'u', 't', 'e', 'l', 'y', ' ', 'u', 'n', 'a', 'c', 'c', 'o', 'u', 'n', 't', 'a', 'b', 'l', 'e', ' ', 't', 'h', 'i', 'n', 'g', ' ']\n",
      " an absolutely unaccountable thing \n"
     ]
    }
   ],
   "source": [
    "vocab = data.vocab\n",
    "print(vocab.to_tokens(y[0]))\n",
    "str = \"\"\n",
    "for chr in vocab.to_tokens(y[0]):\n",
    "    str += chr\n",
    "print(str)"
   ]
  },
  {
   "cell_type": "code",
   "execution_count": null,
   "metadata": {},
   "outputs": [],
   "source": [
    "###############\n",
    "train_iter, vocab = data.get_dataloader(train = True), data.vocab"
   ]
  },
  {
   "cell_type": "markdown",
   "metadata": {},
   "source": [
    "#### 1. Biểu diễn one hot"
   ]
  },
  {
   "cell_type": "code",
   "execution_count": null,
   "metadata": {},
   "outputs": [
    {
     "data": {
      "text/plain": [
       "tensor([[1, 0, 0, 0],\n",
       "        [0, 1, 0, 0],\n",
       "        [0, 0, 1, 0],\n",
       "        [0, 0, 0, 1]])"
      ]
     },
     "execution_count": 26,
     "metadata": {},
     "output_type": "execute_result"
    }
   ],
   "source": [
    "# Biểu diễn one-hot trong pytorch\n",
    "F.one_hot(input = torch.tensor([0, 1, 2, 3]), num_classes=4)"
   ]
  },
  {
   "cell_type": "markdown",
   "metadata": {},
   "source": [
    "Kích thước minibatch mà ta lấy mẫu ở mỗi lần là __(Kích thước batch, bước thời gian)__. Hàm one_hot biển đổi một minibatch như vậy thành một tensor 3 chiều với kích thước chiều cuối cùng bằng bộ từ vựng. Chúng ta thường xuyên chuyển vị đầu vào để có đầu ra với kích thước __(bước thời gian, kích thước batch, kích thước bộ từ vựng)__ phù hợp hơn để đưa vào mô hình chuỗi."
   ]
  },
  {
   "cell_type": "code",
   "execution_count": 27,
   "metadata": {},
   "outputs": [
    {
     "name": "stdout",
     "output_type": "stream",
     "text": [
      "torch.Size([32, 35])\n",
      "torch.Size([35, 32, 28])\n"
     ]
    }
   ],
   "source": [
    "print(X.shape)\n",
    "print(F.one_hot(input = X.T, num_classes= len(vocab)).shape)"
   ]
  },
  {
   "cell_type": "markdown",
   "metadata": {},
   "source": [
    "#### 2. Khởi tạo tham số mô hình\n",
    "- Tiếp theo ta khởi tạo các tham số cho mô hình RNN. Số nút ẩn num_hiddens là tham số có thể điều chỉnh."
   ]
  },
  {
   "cell_type": "code",
   "execution_count": null,
   "metadata": {},
   "outputs": [],
   "source": [
    "def get_params(vocab_size, num_hiddens, device):\n",
    "    num_inputs = num_outputs = vocab_size\n",
    "\n",
    "    # Hidden layer parameters\n",
    "    W_xh = torch.rand(size = (num_inputs, num_hiddens), device = device)\n",
    "    W_hh = torch.rand(size = (num_hiddens, num_hiddens), device = device)\n",
    "    b_h = torch.zeros(size = (num_hiddens, 1), device = device)\n",
    "\n",
    "    # Output layer parameters\n",
    "    W_hq = torch.rand(size = (num_hiddens, num_outputs), device = device)\n",
    "    b_q = torch.zeros(size = (num_outputs, 1), device = device)\n",
    "\n",
    "    params = [W_xh, W_hh, b_h, W_hq, b_q]\n",
    "\n",
    "    for param in params:\n",
    "        param.requires_grad_(True)"
   ]
  }
 ],
 "metadata": {
  "kernelspec": {
   "display_name": "Python 3",
   "language": "python",
   "name": "python3"
  },
  "language_info": {
   "codemirror_mode": {
    "name": "ipython",
    "version": 3
   },
   "file_extension": ".py",
   "mimetype": "text/x-python",
   "name": "python",
   "nbconvert_exporter": "python",
   "pygments_lexer": "ipython3",
   "version": "3.9.21"
  }
 },
 "nbformat": 4,
 "nbformat_minor": 2
}
