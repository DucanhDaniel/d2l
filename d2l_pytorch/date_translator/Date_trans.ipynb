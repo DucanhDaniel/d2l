{
  "cells": [
    {
      "cell_type": "code",
      "execution_count": 310,
      "metadata": {
        "id": "A5JTFzHyijga"
      },
      "outputs": [],
      "source": [
        "# !pip install faker\n",
        "# !pip install babel\n",
        "# !pip install tensorflow\n",
        "# !pip install numpy\n",
        "# !pip install matplotlib\n",
        "# !pip install tqdm\n"
      ]
    },
    {
      "cell_type": "code",
      "execution_count": 311,
      "metadata": {
        "id": "QXtwRfdzr7iB"
      },
      "outputs": [],
      "source": [
        "# !pip install wandb"
      ]
    },
    {
      "cell_type": "code",
      "execution_count": 312,
      "metadata": {
        "colab": {
          "base_uri": "https://localhost:8080/"
        },
        "id": "11VTxglUsAPS",
        "outputId": "cc87bf97-a727-476b-ee8f-63a2a17622a2"
      },
      "outputs": [
        {
          "name": "stdout",
          "output_type": "stream",
          "text": [
            "\u001b[34m\u001b[1mwandb\u001b[0m: Currently logged in as: \u001b[33mducanh2002add\u001b[0m (\u001b[33mducanh2002add-hanoi-university-of-science-and-technology\u001b[0m) to \u001b[32mhttps://api.wandb.ai\u001b[0m. Use \u001b[1m`wandb login --relogin`\u001b[0m to force relogin\n"
          ]
        }
      ],
      "source": [
        "!wandb login"
      ]
    },
    {
      "cell_type": "code",
      "execution_count": 313,
      "metadata": {
        "id": "46XRJBlPuCFq"
      },
      "outputs": [],
      "source": [
        "import utils"
      ]
    },
    {
      "cell_type": "code",
      "execution_count": 314,
      "metadata": {
        "colab": {
          "base_uri": "https://localhost:8080/"
        },
        "id": "Htp-KtMDux_a",
        "outputId": "a6deb44f-2caa-4efd-86d3-ed38279b1ee8"
      },
      "outputs": [
        {
          "name": "stderr",
          "output_type": "stream",
          "text": [
            "100%|██████████| 20000/20000 [00:00<00:00, 36046.93it/s]\n"
          ]
        }
      ],
      "source": [
        "total_examples = 20000\n",
        "dataset, human_vocab, machine_vocab, inv_machine_vocab = utils.load_dataset(total_examples)\n",
        "# Train parameters\n",
        "num_epochs = 100\n",
        "batch_size = total_examples\n",
        "input_dim = len(human_vocab)\n",
        "output_dim = len(machine_vocab)\n",
        "hidden_dim = 512\n",
        "learning_rate = 0.00004\n",
        "batch_size = 512\n",
        "num_layers = 5"
      ]
    },
    {
      "cell_type": "code",
      "execution_count": 315,
      "metadata": {
        "colab": {
          "base_uri": "https://localhost:8080/",
          "height": 404
        },
        "id": "OzVqWXJhsudL",
        "outputId": "d684a4d4-1589-48e4-aab8-f421a388596a"
      },
      "outputs": [
        {
          "data": {
            "text/html": [],
            "text/plain": [
              "<IPython.core.display.HTML object>"
            ]
          },
          "metadata": {},
          "output_type": "display_data"
        },
        {
          "data": {
            "text/html": [
              "<br>    <style><br>        .wandb-row {<br>            display: flex;<br>            flex-direction: row;<br>            flex-wrap: wrap;<br>            justify-content: flex-start;<br>            width: 100%;<br>        }<br>        .wandb-col {<br>            display: flex;<br>            flex-direction: column;<br>            flex-basis: 100%;<br>            flex: 1;<br>            padding: 10px;<br>        }<br>    </style><br><div class=\"wandb-row\"><div class=\"wandb-col\"><h3>Run history:</h3><br/><table class=\"wandb\"><tr><td>Loss</td><td>█▄▄▄▄▄▃▃▂▂▂▂▂▂▂▂▂▂▂▂▁▁▁▁▁▁▁▁▁▁▁▁▁▁▁▁▁▁▁▁</td></tr></table><br/></div><div class=\"wandb-col\"><h3>Run summary:</h3><br/><table class=\"wandb\"><tr><td>Loss</td><td>1.21053</td></tr></table><br/></div></div>"
            ],
            "text/plain": [
              "<IPython.core.display.HTML object>"
            ]
          },
          "metadata": {},
          "output_type": "display_data"
        },
        {
          "data": {
            "text/html": [
              " View run <strong style=\"color:#cdcd00\">hardy-vortex-1</strong> at: <a href='https://wandb.ai/ducanh2002add-hanoi-university-of-science-and-technology/date-translation-project/runs/iqdgup0k' target=\"_blank\">https://wandb.ai/ducanh2002add-hanoi-university-of-science-and-technology/date-translation-project/runs/iqdgup0k</a><br> View project at: <a href='https://wandb.ai/ducanh2002add-hanoi-university-of-science-and-technology/date-translation-project' target=\"_blank\">https://wandb.ai/ducanh2002add-hanoi-university-of-science-and-technology/date-translation-project</a><br>Synced 5 W&B file(s), 0 media file(s), 0 artifact file(s) and 0 other file(s)"
            ],
            "text/plain": [
              "<IPython.core.display.HTML object>"
            ]
          },
          "metadata": {},
          "output_type": "display_data"
        },
        {
          "data": {
            "text/html": [
              "Find logs at: <code>./wandb/run-20250408_184138-iqdgup0k/logs</code>"
            ],
            "text/plain": [
              "<IPython.core.display.HTML object>"
            ]
          },
          "metadata": {},
          "output_type": "display_data"
        },
        {
          "data": {
            "text/html": [
              "Tracking run with wandb version 0.19.9"
            ],
            "text/plain": [
              "<IPython.core.display.HTML object>"
            ]
          },
          "metadata": {},
          "output_type": "display_data"
        },
        {
          "data": {
            "text/html": [
              "Run data is saved locally in <code>/content/wandb/run-20250408_184633-rbl6n1dt</code>"
            ],
            "text/plain": [
              "<IPython.core.display.HTML object>"
            ]
          },
          "metadata": {},
          "output_type": "display_data"
        },
        {
          "data": {
            "text/html": [
              "Syncing run <strong><a href='https://wandb.ai/ducanh2002add-hanoi-university-of-science-and-technology/date-translation-project/runs/rbl6n1dt' target=\"_blank\">desert-oath-2</a></strong> to <a href='https://wandb.ai/ducanh2002add-hanoi-university-of-science-and-technology/date-translation-project' target=\"_blank\">Weights & Biases</a> (<a href='https://wandb.me/developer-guide' target=\"_blank\">docs</a>)<br>"
            ],
            "text/plain": [
              "<IPython.core.display.HTML object>"
            ]
          },
          "metadata": {},
          "output_type": "display_data"
        },
        {
          "data": {
            "text/html": [
              " View project at <a href='https://wandb.ai/ducanh2002add-hanoi-university-of-science-and-technology/date-translation-project' target=\"_blank\">https://wandb.ai/ducanh2002add-hanoi-university-of-science-and-technology/date-translation-project</a>"
            ],
            "text/plain": [
              "<IPython.core.display.HTML object>"
            ]
          },
          "metadata": {},
          "output_type": "display_data"
        },
        {
          "data": {
            "text/html": [
              " View run at <a href='https://wandb.ai/ducanh2002add-hanoi-university-of-science-and-technology/date-translation-project/runs/rbl6n1dt' target=\"_blank\">https://wandb.ai/ducanh2002add-hanoi-university-of-science-and-technology/date-translation-project/runs/rbl6n1dt</a>"
            ],
            "text/plain": [
              "<IPython.core.display.HTML object>"
            ]
          },
          "metadata": {},
          "output_type": "display_data"
        }
      ],
      "source": [
        "import wandb\n",
        "run = wandb.init(\n",
        "    # Set the wandb entity where your project will be logged (generally your team name).\n",
        "    entity=\"ducanh2002add-hanoi-university-of-science-and-technology\",\n",
        "    # Set the wandb project where this run will be logged.\n",
        "    project=\"date-translation-project\",\n",
        "    # Track hyperparameters and run metadata.\n",
        "    config={\n",
        "        \"learning_rate\": learning_rate,\n",
        "        \"architecture\": \"LSTM\",\n",
        "        \"dataset\": \"faker + babel\",\n",
        "        \"epochs\": num_epochs,\n",
        "        \"num_layers\": num_layers,\n",
        "        \"hidden_dim\": hidden_dim,\n",
        "        \"batch_size\": batch_size,\n",
        "        \"total_examples\": total_examples,\n",
        "        \"input_dim\": input_dim,\n",
        "        \"output_dim\": output_dim,\n",
        "\n",
        "    }\n",
        ")"
      ]
    },
    {
      "cell_type": "code",
      "execution_count": 316,
      "metadata": {
        "colab": {
          "base_uri": "https://localhost:8080/"
        },
        "id": "j8NOG4UXvKnS",
        "outputId": "38abc35f-a244-487a-b89a-7fd458db4ec1"
      },
      "outputs": [
        {
          "data": {
            "text/plain": [
              "[('tuesday january 17 2006', '=2006-01-17'),\n",
              " ('14 august 1982', '=1982-08-14'),\n",
              " ('friday november 1 1991', '=1991-11-01'),\n",
              " ('21 may 2007', '=2007-05-21'),\n",
              " ('20 sep 2015', '=2015-09-20')]"
            ]
          },
          "execution_count": 316,
          "metadata": {},
          "output_type": "execute_result"
        }
      ],
      "source": [
        "dataset[:5]"
      ]
    },
    {
      "cell_type": "code",
      "execution_count": 317,
      "metadata": {
        "id": "0exuVi-hueD6"
      },
      "outputs": [],
      "source": [
        "maximum_human_length = 30\n",
        "maximum_machine_length = 11\n",
        "X, Y, X_onehot, Y_onehot = utils.preprocess_data(dataset, human_vocab,\n",
        "                                                 machine_vocab,\n",
        "                                                 maximum_human_length,\n",
        "                                                 maximum_machine_length)"
      ]
    },
    {
      "cell_type": "code",
      "execution_count": 318,
      "metadata": {
        "colab": {
          "base_uri": "https://localhost:8080/"
        },
        "id": "3izzoFEDewFK",
        "outputId": "4a79226c-62bd-4759-d2ce-166b92954ed8"
      },
      "outputs": [
        {
          "data": {
            "text/plain": [
              "{' ': 0,\n",
              " '.': 1,\n",
              " '/': 2,\n",
              " '0': 3,\n",
              " '1': 4,\n",
              " '2': 5,\n",
              " '3': 6,\n",
              " '4': 7,\n",
              " '5': 8,\n",
              " '6': 9,\n",
              " '7': 10,\n",
              " '8': 11,\n",
              " '9': 12,\n",
              " 'a': 13,\n",
              " 'b': 14,\n",
              " 'c': 15,\n",
              " 'd': 16,\n",
              " 'e': 17,\n",
              " 'f': 18,\n",
              " 'g': 19,\n",
              " 'h': 20,\n",
              " 'i': 21,\n",
              " 'j': 22,\n",
              " 'l': 23,\n",
              " 'm': 24,\n",
              " 'n': 25,\n",
              " 'o': 26,\n",
              " 'p': 27,\n",
              " 'r': 28,\n",
              " 's': 29,\n",
              " 't': 30,\n",
              " 'u': 31,\n",
              " 'v': 32,\n",
              " 'w': 33,\n",
              " 'y': 34,\n",
              " '<unk>': 35,\n",
              " '<pad>': 36,\n",
              " '<eos>': 37,\n",
              " '=': 38}"
            ]
          },
          "execution_count": 318,
          "metadata": {},
          "output_type": "execute_result"
        }
      ],
      "source": [
        "human_vocab"
      ]
    },
    {
      "cell_type": "code",
      "execution_count": 319,
      "metadata": {
        "colab": {
          "base_uri": "https://localhost:8080/"
        },
        "id": "atlkemeovSky",
        "outputId": "e11bb26f-1ebb-4ad6-9337-ccc97550790e"
      },
      "outputs": [
        {
          "data": {
            "text/plain": [
              "{'-': 0,\n",
              " '0': 1,\n",
              " '1': 2,\n",
              " '2': 3,\n",
              " '3': 4,\n",
              " '4': 5,\n",
              " '5': 6,\n",
              " '6': 7,\n",
              " '7': 8,\n",
              " '8': 9,\n",
              " '9': 10,\n",
              " '=': 11,\n",
              " '<unk>': 12,\n",
              " '<pad>': 13,\n",
              " '<eos>': 14}"
            ]
          },
          "execution_count": 319,
          "metadata": {},
          "output_type": "execute_result"
        }
      ],
      "source": [
        "machine_vocab"
      ]
    },
    {
      "cell_type": "code",
      "execution_count": 320,
      "metadata": {
        "colab": {
          "base_uri": "https://localhost:8080/"
        },
        "id": "jqtP1-R2vaVK",
        "outputId": "07db4a5a-ec79-4464-a378-231393816ff7"
      },
      "outputs": [
        {
          "name": "stdout",
          "output_type": "stream",
          "text": [
            "X.shape:  (20000, 30)\n",
            "Y.shape:  (20000, 11)\n",
            "X_onehot.shape (20000, 30, 39)\n",
            "Y_onehot.shape:  (20000, 11, 15)\n"
          ]
        }
      ],
      "source": [
        "print(\"X.shape: \", X.shape)\n",
        "print(\"Y.shape: \", Y.shape)\n",
        "print(\"X_onehot.shape\", X_onehot.shape)\n",
        "print(\"Y_onehot.shape: \", Y_onehot.shape)"
      ]
    },
    {
      "cell_type": "code",
      "execution_count": 321,
      "metadata": {
        "colab": {
          "base_uri": "https://localhost:8080/"
        },
        "id": "jNBdpFomvzYr",
        "outputId": "d064166c-838e-4ccc-917a-9e326f0c4f9d"
      },
      "outputs": [
        {
          "name": "stdout",
          "output_type": "stream",
          "text": [
            "Source date: tuesday january 17 2006\n",
            "Target date: =2006-01-17\n",
            "\n",
            "Source after preprocessing (indices): [30 31 17 29 16 13 34  0 22 13 25 31 13 28 34  0  4 10  0  5  3  3  9 36\n",
            " 36 36 36 36 36 36]\n",
            "Target after preprocessing (indices): [11  3  1  1  7  0  1  2  0  2  8]\n",
            "\n",
            "Source after preprocessing (one-hot): [[0. 0. 0. ... 0. 0. 0.]\n",
            " [0. 0. 0. ... 0. 0. 0.]\n",
            " [0. 0. 0. ... 0. 0. 0.]\n",
            " ...\n",
            " [0. 0. 0. ... 1. 0. 0.]\n",
            " [0. 0. 0. ... 1. 0. 0.]\n",
            " [0. 0. 0. ... 1. 0. 0.]]\n",
            "Target after preprocessing (one-hot): [[0. 0. 0. 0. 0. 0. 0. 0. 0. 0. 0. 1. 0. 0. 0.]\n",
            " [0. 0. 0. 1. 0. 0. 0. 0. 0. 0. 0. 0. 0. 0. 0.]\n",
            " [0. 1. 0. 0. 0. 0. 0. 0. 0. 0. 0. 0. 0. 0. 0.]\n",
            " [0. 1. 0. 0. 0. 0. 0. 0. 0. 0. 0. 0. 0. 0. 0.]\n",
            " [0. 0. 0. 0. 0. 0. 0. 1. 0. 0. 0. 0. 0. 0. 0.]\n",
            " [1. 0. 0. 0. 0. 0. 0. 0. 0. 0. 0. 0. 0. 0. 0.]\n",
            " [0. 1. 0. 0. 0. 0. 0. 0. 0. 0. 0. 0. 0. 0. 0.]\n",
            " [0. 0. 1. 0. 0. 0. 0. 0. 0. 0. 0. 0. 0. 0. 0.]\n",
            " [1. 0. 0. 0. 0. 0. 0. 0. 0. 0. 0. 0. 0. 0. 0.]\n",
            " [0. 0. 1. 0. 0. 0. 0. 0. 0. 0. 0. 0. 0. 0. 0.]\n",
            " [0. 0. 0. 0. 0. 0. 0. 0. 1. 0. 0. 0. 0. 0. 0.]]\n"
          ]
        }
      ],
      "source": [
        "index = 0\n",
        "print(\"Source date:\", dataset[index][0])\n",
        "print(\"Target date:\", dataset[index][1])\n",
        "print()\n",
        "print(\"Source after preprocessing (indices):\", X[index])\n",
        "print(\"Target after preprocessing (indices):\", Y[index])\n",
        "print()\n",
        "print(\"Source after preprocessing (one-hot):\", X_onehot[index])\n",
        "print(\"Target after preprocessing (one-hot):\", Y_onehot[index])"
      ]
    },
    {
      "cell_type": "code",
      "execution_count": 321,
      "metadata": {
        "id": "TnnZX2Hu6gSi"
      },
      "outputs": [],
      "source": [
        "\n"
      ]
    },
    {
      "cell_type": "markdown",
      "metadata": {
        "id": "-qB4DQ4gmw5q"
      },
      "source": []
    },
    {
      "cell_type": "code",
      "execution_count": 322,
      "metadata": {
        "colab": {
          "base_uri": "https://localhost:8080/"
        },
        "id": "pR1IUdsl7LyT",
        "outputId": "9b989203-bf74-4300-e19e-465d61cc7b16"
      },
      "outputs": [
        {
          "name": "stdout",
          "output_type": "stream",
          "text": [
            "True\n",
            "cuda\n",
            "2.6.0+cu124\n"
          ]
        }
      ],
      "source": [
        "import torch\n",
        "print(torch.cuda.is_available())\n",
        "import torch.nn as nn\n",
        "device = \"cuda\" if torch.cuda.is_available() else \"cpu\"\n",
        "print(device)\n",
        "print(torch.__version__)"
      ]
    },
    {
      "cell_type": "code",
      "execution_count": 323,
      "metadata": {
        "id": "_Fx1YSb47amq"
      },
      "outputs": [],
      "source": [
        "class Encoder(nn.Module):\n",
        "  def __init__(self, input_dim, hidden_dim, num_layers, dropout = 0.):\n",
        "    super().__init__()\n",
        "    self.device = device\n",
        "    self.rnn = nn.LSTM(input_dim, hidden_dim, num_layers, dropout=dropout)\n",
        "\n",
        "  # src is onehot_encoding\n",
        "  def forward(self, src):\n",
        "    outputs, (hidden, cell) = self.rnn(src)\n",
        "    return hidden, cell"
      ]
    },
    {
      "cell_type": "code",
      "execution_count": 324,
      "metadata": {
        "colab": {
          "base_uri": "https://localhost:8080/",
          "height": 477
        },
        "id": "g-NrLDrn7_17",
        "outputId": "9fa4381d-0f13-47c1-fc0d-24c1a6d6b03e"
      },
      "outputs": [
        {
          "name": "stdout",
          "output_type": "stream",
          "text": [
            "input_test.shape: (step_size, batch_size, len(human_vocab)) \n",
            " torch.Size([30, 20000, 39])\n",
            "cuda\n"
          ]
        },
        {
          "ename": "OutOfMemoryError",
          "evalue": "CUDA out of memory. Tried to allocate 5.72 GiB. GPU 0 has a total capacity of 14.74 GiB of which 810.12 MiB is free. Process 73837 has 13.95 GiB memory in use. Of the allocated memory 12.34 GiB is allocated by PyTorch, and 1.47 GiB is reserved by PyTorch but unallocated. If reserved but unallocated memory is large try setting PYTORCH_CUDA_ALLOC_CONF=expandable_segments:True to avoid fragmentation.  See documentation for Memory Management  (https://pytorch.org/docs/stable/notes/cuda.html#environment-variables)",
          "output_type": "error",
          "traceback": [
            "\u001b[0;31m---------------------------------------------------------------------------\u001b[0m",
            "\u001b[0;31mOutOfMemoryError\u001b[0m                          Traceback (most recent call last)",
            "\u001b[0;32m<ipython-input-324-8fee894f07ce>\u001b[0m in \u001b[0;36m<cell line: 0>\u001b[0;34m()\u001b[0m\n\u001b[1;32m      3\u001b[0m \u001b[0mprint\u001b[0m\u001b[0;34m(\u001b[0m\u001b[0;34m\"input_test.shape: (step_size, batch_size, len(human_vocab)) \\n\"\u001b[0m\u001b[0;34m,\u001b[0m \u001b[0minput_test\u001b[0m\u001b[0;34m.\u001b[0m\u001b[0mshape\u001b[0m\u001b[0;34m)\u001b[0m\u001b[0;34m\u001b[0m\u001b[0;34m\u001b[0m\u001b[0m\n\u001b[1;32m      4\u001b[0m \u001b[0mprint\u001b[0m\u001b[0;34m(\u001b[0m\u001b[0mencoder_test\u001b[0m\u001b[0;34m.\u001b[0m\u001b[0mdevice\u001b[0m\u001b[0;34m)\u001b[0m\u001b[0;34m\u001b[0m\u001b[0;34m\u001b[0m\u001b[0m\n\u001b[0;32m----> 5\u001b[0;31m \u001b[0mhidden_test\u001b[0m\u001b[0;34m,\u001b[0m \u001b[0mcell_test\u001b[0m \u001b[0;34m=\u001b[0m \u001b[0mencoder_test\u001b[0m\u001b[0;34m(\u001b[0m\u001b[0minput_test\u001b[0m\u001b[0;34m)\u001b[0m\u001b[0;34m\u001b[0m\u001b[0;34m\u001b[0m\u001b[0m\n\u001b[0m\u001b[1;32m      6\u001b[0m \u001b[0mprint\u001b[0m\u001b[0;34m(\u001b[0m\u001b[0;34m\"hidden_test.shape: (step_size, batch_size, hidden_size) \\n\"\u001b[0m\u001b[0;34m,\u001b[0m \u001b[0mhidden_test\u001b[0m\u001b[0;34m.\u001b[0m\u001b[0mshape\u001b[0m\u001b[0;34m)\u001b[0m\u001b[0;34m\u001b[0m\u001b[0;34m\u001b[0m\u001b[0m\n\u001b[1;32m      7\u001b[0m \u001b[0mprint\u001b[0m\u001b[0;34m(\u001b[0m\u001b[0;34m\"cell_test.shape: (step_size, batch_size, hidden_size) \\n\"\u001b[0m\u001b[0;34m,\u001b[0m \u001b[0mcell_test\u001b[0m\u001b[0;34m.\u001b[0m\u001b[0mshape\u001b[0m\u001b[0;34m)\u001b[0m\u001b[0;34m\u001b[0m\u001b[0;34m\u001b[0m\u001b[0m\n",
            "\u001b[0;32m/usr/local/lib/python3.11/dist-packages/torch/nn/modules/module.py\u001b[0m in \u001b[0;36m_wrapped_call_impl\u001b[0;34m(self, *args, **kwargs)\u001b[0m\n\u001b[1;32m   1737\u001b[0m             \u001b[0;32mreturn\u001b[0m \u001b[0mself\u001b[0m\u001b[0;34m.\u001b[0m\u001b[0m_compiled_call_impl\u001b[0m\u001b[0;34m(\u001b[0m\u001b[0;34m*\u001b[0m\u001b[0margs\u001b[0m\u001b[0;34m,\u001b[0m \u001b[0;34m**\u001b[0m\u001b[0mkwargs\u001b[0m\u001b[0;34m)\u001b[0m  \u001b[0;31m# type: ignore[misc]\u001b[0m\u001b[0;34m\u001b[0m\u001b[0;34m\u001b[0m\u001b[0m\n\u001b[1;32m   1738\u001b[0m         \u001b[0;32melse\u001b[0m\u001b[0;34m:\u001b[0m\u001b[0;34m\u001b[0m\u001b[0;34m\u001b[0m\u001b[0m\n\u001b[0;32m-> 1739\u001b[0;31m             \u001b[0;32mreturn\u001b[0m \u001b[0mself\u001b[0m\u001b[0;34m.\u001b[0m\u001b[0m_call_impl\u001b[0m\u001b[0;34m(\u001b[0m\u001b[0;34m*\u001b[0m\u001b[0margs\u001b[0m\u001b[0;34m,\u001b[0m \u001b[0;34m**\u001b[0m\u001b[0mkwargs\u001b[0m\u001b[0;34m)\u001b[0m\u001b[0;34m\u001b[0m\u001b[0;34m\u001b[0m\u001b[0m\n\u001b[0m\u001b[1;32m   1740\u001b[0m \u001b[0;34m\u001b[0m\u001b[0m\n\u001b[1;32m   1741\u001b[0m     \u001b[0;31m# torchrec tests the code consistency with the following code\u001b[0m\u001b[0;34m\u001b[0m\u001b[0;34m\u001b[0m\u001b[0m\n",
            "\u001b[0;32m/usr/local/lib/python3.11/dist-packages/torch/nn/modules/module.py\u001b[0m in \u001b[0;36m_call_impl\u001b[0;34m(self, *args, **kwargs)\u001b[0m\n\u001b[1;32m   1748\u001b[0m                 \u001b[0;32mor\u001b[0m \u001b[0m_global_backward_pre_hooks\u001b[0m \u001b[0;32mor\u001b[0m \u001b[0m_global_backward_hooks\u001b[0m\u001b[0;34m\u001b[0m\u001b[0;34m\u001b[0m\u001b[0m\n\u001b[1;32m   1749\u001b[0m                 or _global_forward_hooks or _global_forward_pre_hooks):\n\u001b[0;32m-> 1750\u001b[0;31m             \u001b[0;32mreturn\u001b[0m \u001b[0mforward_call\u001b[0m\u001b[0;34m(\u001b[0m\u001b[0;34m*\u001b[0m\u001b[0margs\u001b[0m\u001b[0;34m,\u001b[0m \u001b[0;34m**\u001b[0m\u001b[0mkwargs\u001b[0m\u001b[0;34m)\u001b[0m\u001b[0;34m\u001b[0m\u001b[0;34m\u001b[0m\u001b[0m\n\u001b[0m\u001b[1;32m   1751\u001b[0m \u001b[0;34m\u001b[0m\u001b[0m\n\u001b[1;32m   1752\u001b[0m         \u001b[0mresult\u001b[0m \u001b[0;34m=\u001b[0m \u001b[0;32mNone\u001b[0m\u001b[0;34m\u001b[0m\u001b[0;34m\u001b[0m\u001b[0m\n",
            "\u001b[0;32m<ipython-input-323-ecc7fe321025>\u001b[0m in \u001b[0;36mforward\u001b[0;34m(self, src)\u001b[0m\n\u001b[1;32m      7\u001b[0m   \u001b[0;31m# src is onehot_encoding\u001b[0m\u001b[0;34m\u001b[0m\u001b[0;34m\u001b[0m\u001b[0m\n\u001b[1;32m      8\u001b[0m   \u001b[0;32mdef\u001b[0m \u001b[0mforward\u001b[0m\u001b[0;34m(\u001b[0m\u001b[0mself\u001b[0m\u001b[0;34m,\u001b[0m \u001b[0msrc\u001b[0m\u001b[0;34m)\u001b[0m\u001b[0;34m:\u001b[0m\u001b[0;34m\u001b[0m\u001b[0;34m\u001b[0m\u001b[0m\n\u001b[0;32m----> 9\u001b[0;31m     \u001b[0moutputs\u001b[0m\u001b[0;34m,\u001b[0m \u001b[0;34m(\u001b[0m\u001b[0mhidden\u001b[0m\u001b[0;34m,\u001b[0m \u001b[0mcell\u001b[0m\u001b[0;34m)\u001b[0m \u001b[0;34m=\u001b[0m \u001b[0mself\u001b[0m\u001b[0;34m.\u001b[0m\u001b[0mrnn\u001b[0m\u001b[0;34m(\u001b[0m\u001b[0msrc\u001b[0m\u001b[0;34m)\u001b[0m\u001b[0;34m\u001b[0m\u001b[0;34m\u001b[0m\u001b[0m\n\u001b[0m\u001b[1;32m     10\u001b[0m     \u001b[0;32mreturn\u001b[0m \u001b[0mhidden\u001b[0m\u001b[0;34m,\u001b[0m \u001b[0mcell\u001b[0m\u001b[0;34m\u001b[0m\u001b[0;34m\u001b[0m\u001b[0m\n",
            "\u001b[0;32m/usr/local/lib/python3.11/dist-packages/torch/nn/modules/module.py\u001b[0m in \u001b[0;36m_wrapped_call_impl\u001b[0;34m(self, *args, **kwargs)\u001b[0m\n\u001b[1;32m   1737\u001b[0m             \u001b[0;32mreturn\u001b[0m \u001b[0mself\u001b[0m\u001b[0;34m.\u001b[0m\u001b[0m_compiled_call_impl\u001b[0m\u001b[0;34m(\u001b[0m\u001b[0;34m*\u001b[0m\u001b[0margs\u001b[0m\u001b[0;34m,\u001b[0m \u001b[0;34m**\u001b[0m\u001b[0mkwargs\u001b[0m\u001b[0;34m)\u001b[0m  \u001b[0;31m# type: ignore[misc]\u001b[0m\u001b[0;34m\u001b[0m\u001b[0;34m\u001b[0m\u001b[0m\n\u001b[1;32m   1738\u001b[0m         \u001b[0;32melse\u001b[0m\u001b[0;34m:\u001b[0m\u001b[0;34m\u001b[0m\u001b[0;34m\u001b[0m\u001b[0m\n\u001b[0;32m-> 1739\u001b[0;31m             \u001b[0;32mreturn\u001b[0m \u001b[0mself\u001b[0m\u001b[0;34m.\u001b[0m\u001b[0m_call_impl\u001b[0m\u001b[0;34m(\u001b[0m\u001b[0;34m*\u001b[0m\u001b[0margs\u001b[0m\u001b[0;34m,\u001b[0m \u001b[0;34m**\u001b[0m\u001b[0mkwargs\u001b[0m\u001b[0;34m)\u001b[0m\u001b[0;34m\u001b[0m\u001b[0;34m\u001b[0m\u001b[0m\n\u001b[0m\u001b[1;32m   1740\u001b[0m \u001b[0;34m\u001b[0m\u001b[0m\n\u001b[1;32m   1741\u001b[0m     \u001b[0;31m# torchrec tests the code consistency with the following code\u001b[0m\u001b[0;34m\u001b[0m\u001b[0;34m\u001b[0m\u001b[0m\n",
            "\u001b[0;32m/usr/local/lib/python3.11/dist-packages/torch/nn/modules/module.py\u001b[0m in \u001b[0;36m_call_impl\u001b[0;34m(self, *args, **kwargs)\u001b[0m\n\u001b[1;32m   1748\u001b[0m                 \u001b[0;32mor\u001b[0m \u001b[0m_global_backward_pre_hooks\u001b[0m \u001b[0;32mor\u001b[0m \u001b[0m_global_backward_hooks\u001b[0m\u001b[0;34m\u001b[0m\u001b[0;34m\u001b[0m\u001b[0m\n\u001b[1;32m   1749\u001b[0m                 or _global_forward_hooks or _global_forward_pre_hooks):\n\u001b[0;32m-> 1750\u001b[0;31m             \u001b[0;32mreturn\u001b[0m \u001b[0mforward_call\u001b[0m\u001b[0;34m(\u001b[0m\u001b[0;34m*\u001b[0m\u001b[0margs\u001b[0m\u001b[0;34m,\u001b[0m \u001b[0;34m**\u001b[0m\u001b[0mkwargs\u001b[0m\u001b[0;34m)\u001b[0m\u001b[0;34m\u001b[0m\u001b[0;34m\u001b[0m\u001b[0m\n\u001b[0m\u001b[1;32m   1751\u001b[0m \u001b[0;34m\u001b[0m\u001b[0m\n\u001b[1;32m   1752\u001b[0m         \u001b[0mresult\u001b[0m \u001b[0;34m=\u001b[0m \u001b[0;32mNone\u001b[0m\u001b[0;34m\u001b[0m\u001b[0;34m\u001b[0m\u001b[0m\n",
            "\u001b[0;32m/usr/local/lib/python3.11/dist-packages/torch/nn/modules/rnn.py\u001b[0m in \u001b[0;36mforward\u001b[0;34m(self, input, hx)\u001b[0m\n\u001b[1;32m   1122\u001b[0m \u001b[0;34m\u001b[0m\u001b[0m\n\u001b[1;32m   1123\u001b[0m         \u001b[0;32mif\u001b[0m \u001b[0mbatch_sizes\u001b[0m \u001b[0;32mis\u001b[0m \u001b[0;32mNone\u001b[0m\u001b[0;34m:\u001b[0m\u001b[0;34m\u001b[0m\u001b[0;34m\u001b[0m\u001b[0m\n\u001b[0;32m-> 1124\u001b[0;31m             result = _VF.lstm(\n\u001b[0m\u001b[1;32m   1125\u001b[0m                 \u001b[0minput\u001b[0m\u001b[0;34m,\u001b[0m\u001b[0;34m\u001b[0m\u001b[0;34m\u001b[0m\u001b[0m\n\u001b[1;32m   1126\u001b[0m                 \u001b[0mhx\u001b[0m\u001b[0;34m,\u001b[0m\u001b[0;34m\u001b[0m\u001b[0;34m\u001b[0m\u001b[0m\n",
            "\u001b[0;31mOutOfMemoryError\u001b[0m: CUDA out of memory. Tried to allocate 5.72 GiB. GPU 0 has a total capacity of 14.74 GiB of which 810.12 MiB is free. Process 73837 has 13.95 GiB memory in use. Of the allocated memory 12.34 GiB is allocated by PyTorch, and 1.47 GiB is reserved by PyTorch but unallocated. If reserved but unallocated memory is large try setting PYTORCH_CUDA_ALLOC_CONF=expandable_segments:True to avoid fragmentation.  See documentation for Memory Management  (https://pytorch.org/docs/stable/notes/cuda.html#environment-variables)"
          ]
        }
      ],
      "source": [
        "encoder_test = Encoder(len(human_vocab), hidden_dim, 1).to(device)\n",
        "input_test = torch.tensor(data = X_onehot, dtype = torch.float, device = device).swapaxes(0, 1)\n",
        "print(\"input_test.shape: (step_size, batch_size, len(human_vocab)) \\n\", input_test.shape)\n",
        "print(encoder_test.device)\n",
        "hidden_test, cell_test = encoder_test(input_test)\n",
        "print(\"hidden_test.shape: (step_size, batch_size, hidden_size) \\n\", hidden_test.shape)\n",
        "print(\"cell_test.shape: (step_size, batch_size, hidden_size) \\n\", cell_test.shape)"
      ]
    },
    {
      "cell_type": "code",
      "execution_count": null,
      "metadata": {
        "id": "jBJmLsOf-AOj"
      },
      "outputs": [],
      "source": [
        "class Decoder(nn.Module):\n",
        "  def __init__(self, input_size, hidden_size, output_size, num_layers):\n",
        "    super(Decoder, self).__init__()\n",
        "    self.rnn = nn.LSTM(input_size, hidden_size, num_layers)\n",
        "    self.fc = nn.Linear(hidden_size, output_size)\n",
        "\n",
        "  def forward(self, X, hidden, cell):\n",
        "    # Shape of X: (batch_size, len(machine_vocab)), X is onehot encoding\n",
        "    X = X.unsqueeze(0)\n",
        "    output, (hidden, cell) = self.rnn(X, (hidden, cell))\n",
        "    predictions = self.fc(output)\n",
        "    predictions = predictions.squeeze(0)\n",
        "    return predictions, hidden, cell"
      ]
    },
    {
      "cell_type": "code",
      "execution_count": null,
      "metadata": {
        "id": "JuFUWybl-7QK"
      },
      "outputs": [],
      "source": [
        "decoder_test = Decoder(len(machine_vocab), hidden_dim, len(machine_vocab), 1).to(device)\n",
        "input_test = torch.tensor(data = Y_onehot[:, 0, :], dtype = torch.float, device = device)\n",
        "print(\"input_test.shape: (batch_size, len(machine_vocab)) \\n\", input_test.shape)\n",
        "prediction_test, hidden_test, cell_test = decoder_test(input_test, hidden_test, cell_test)\n",
        "print(\"prediction_test.shape: (batch_size, len(machine_vocab))\\n\", prediction_test.shape)\n",
        "print(\"hidden_test.shape: (1 = step_size, batch_size, hidden_size)\\n\", hidden_test.shape)\n",
        "print(\"cell_test.shape: (1 = step_size, batch_size, hidden_size)\\n\", cell_test.shape)"
      ]
    },
    {
      "cell_type": "code",
      "execution_count": null,
      "metadata": {
        "id": "Czdv9rzuBwnD"
      },
      "outputs": [],
      "source": [
        "import numpy\n",
        "class Seq2Seq(nn.Module):\n",
        "  def __init__(self, encoder : Encoder, decoder : Decoder):\n",
        "    super().__init__()\n",
        "    self.encoder = encoder\n",
        "    self.decoder = decoder\n",
        "  def get_tensor(self, src, tgt):\n",
        "    src = src.swapaxes(0, 1)\n",
        "    if type(src) == numpy.ndarray:\n",
        "      src = torch.tensor(data = src, dtype = torch.float, device = device)\n",
        "    if type(tgt) == numpy.ndarray:\n",
        "      tgt = torch.tensor(data = tgt, dtype = torch.float, device = device)\n",
        "    # src = torch.tensor(data = src, dtype = torch.float, device = device).swapaxes(0, 1)\n",
        "    # tgt = torch.tensor(data = tgt, dtype = torch.float, device = device)\n",
        "    return src, tgt\n",
        "  def forward(self, src, tgt, teacher_forcing_ratio = 0.5):\n",
        "    src, tgt = self.get_tensor(src, tgt)\n",
        "\n",
        "    batch_size = src.shape[1]\n",
        "    trg_len = tgt.shape[1]\n",
        "    trg_vocab_size = len(machine_vocab)\n",
        "\n",
        "    outputs = torch.zeros(trg_len, batch_size, trg_vocab_size).to(device)\n",
        "\n",
        "    hidden, cell = self.encoder(src)\n",
        "\n",
        "    x = tgt[:, 0, :]\n",
        "    for t in range(1, trg_len):\n",
        "      x, hidden, cell = self.decoder(x, hidden, cell)\n",
        "\n",
        "      outputs[t] = x\n",
        "      # shape: (batch_size, 1)\n",
        "      best_guess = x.argmax(dim = 1)\n",
        "\n",
        "      x = nn.functional.one_hot(x.argmax(dim = 1), num_classes = trg_vocab_size).to(torch.float)\n",
        "\n",
        "    return outputs.swapaxes(0, 1)"
      ]
    },
    {
      "cell_type": "code",
      "execution_count": null,
      "metadata": {
        "id": "GdG0Ww49GEGS"
      },
      "outputs": [],
      "source": [
        "model_test = Seq2Seq(encoder_test, decoder_test).to(device)\n",
        "outputs = model_test(X_onehot, Y_onehot)\n",
        "print(\"outputs.shape: (batch_size, trg_len - 1, trg_vocab_size)\\n\", outputs.shape)"
      ]
    },
    {
      "cell_type": "code",
      "execution_count": null,
      "metadata": {
        "id": "mWCZT21rH-vC"
      },
      "outputs": [],
      "source": [
        "machine_vocab['<pad>']"
      ]
    },
    {
      "cell_type": "code",
      "execution_count": null,
      "metadata": {
        "id": "TPuCmmcDGVPa"
      },
      "outputs": [],
      "source": [
        "encoder = Encoder(len(human_vocab), hidden_dim, num_layers).to(device)\n",
        "decoder = Decoder(len(machine_vocab), hidden_dim, len(machine_vocab), num_layers).to(device)\n",
        "model = Seq2Seq(encoder, decoder).to(device)\n",
        "\n",
        "loss_fn = nn.CrossEntropyLoss(ignore_index = machine_vocab['<pad>'])\n",
        "optimizer = torch.optim.Adam(model.parameters(), lr = learning_rate)"
      ]
    },
    {
      "cell_type": "code",
      "execution_count": null,
      "metadata": {
        "id": "S4a4f_NZK1lT"
      },
      "outputs": [],
      "source": [
        "from torch.utils.data import DataLoader, TensorDataset\n",
        "\n",
        "X_onehot_tensor = torch.tensor(data = X_onehot, dtype = torch.float, device = device)\n",
        "Y_onehot_tensor = torch.tensor(data = Y_onehot, dtype = torch.float, device = device)\n",
        "Y_tensor = torch.tensor(data = Y[:, :], device = device)\n",
        "\n",
        "# Tạo DataLoader\n",
        "dataset1 = TensorDataset(X_onehot_tensor, Y_onehot_tensor, Y_tensor)\n",
        "dataloader = DataLoader(dataset1, batch_size=batch_size, shuffle=True)\n",
        "\n",
        "# Training loop\n",
        "for epoch in range(num_epochs):\n",
        "  model.train()\n",
        "  for batch_idx, (X_batch, Y_onehot_batch, Y_batch) in enumerate(dataloader):\n",
        "    # X_batch, Y_onehot_batch, Y_batch = batch\n",
        "    y_pred = model(X_batch, Y_onehot_batch)\n",
        "\n",
        "    y_pred = y_pred.reshape(-1, y_pred.shape[-1])\n",
        "    Y_batch = Y_batch.reshape(-1)\n",
        "\n",
        "    l = loss_fn(y_pred, Y_batch)\n",
        "    optimizer.zero_grad()\n",
        "    l.backward()\n",
        "    optimizer.step()\n",
        "\n",
        "    print(f\"Epoch: {epoch}, Batch: {batch_idx}, Loss: {l.item()}\")\n",
        "    run.log(\n",
        "        {\n",
        "            \"Loss\": l.item()\n",
        "        }\n",
        "    )"
      ]
    },
    {
      "cell_type": "code",
      "execution_count": null,
      "metadata": {
        "id": "kfpJzc7zIpQJ"
      },
      "outputs": [],
      "source": [
        "# X_onehot_tensor = torch.tensor(data = X_onehot, dtype = torch.float, device = device)\n",
        "# Y_onehot_tensor = torch.tensor(data = Y_onehot, dtype = torch.float, device = device)\n",
        "# Y_tensor = torch.tensor(data = Y[:, :], device = device)\n",
        "# for epoch in range(num_epochs):\n",
        "#   model.train()\n",
        "\n",
        "#   y_pred = model(X_onehot_tensor, Y_onehot_tensor)\n",
        "\n",
        "#   y_pred = y_pred.reshape(-1, y_pred.shape[-1])  # Reshape to [batch_size * target_sequence_length, target_vocabulary_size]\n",
        "#   Y_tensor = Y_tensor.reshape(-1)\n",
        "#   # print(\"y_pred.shape: \", y_pred.shape)\n",
        "#   # print(\"Y_tensor.shape: \", Y_tensor.shape)\n",
        "#   l = loss_fn(y_pred, Y_tensor)\n",
        "#   optimizer.zero_grad()\n",
        "#   l.backward()\n",
        "#   optimizer.step()\n",
        "#   print(\"Epoch: \", epoch, \"Loss: \", l.item())\n"
      ]
    },
    {
      "cell_type": "code",
      "execution_count": null,
      "metadata": {
        "id": "JTfs1l5UPvR6"
      },
      "outputs": [],
      "source": [
        "import numpy as np"
      ]
    },
    {
      "cell_type": "code",
      "execution_count": null,
      "metadata": {
        "id": "loCjZQGioO2O"
      },
      "outputs": [],
      "source": [
        "total_examples = 10\n",
        "dataset, _, _, _ = utils.load_dataset(total_examples)"
      ]
    },
    {
      "cell_type": "code",
      "execution_count": null,
      "metadata": {
        "id": "xo0A1Ee8QF1i"
      },
      "outputs": [],
      "source": [
        "EXAMPLES = []\n",
        "for i in range(min(10, len(dataset))):\n",
        "  EXAMPLES.append(dataset[i][0])"
      ]
    },
    {
      "cell_type": "code",
      "execution_count": null,
      "metadata": {
        "id": "Dis4xzeVQP_K"
      },
      "outputs": [],
      "source": [
        "EXAMPLES"
      ]
    },
    {
      "cell_type": "code",
      "execution_count": null,
      "metadata": {
        "id": "5WuMtnZQUzAC"
      },
      "outputs": [],
      "source": [
        "def predict(model, src_sentence, num_preds = 11):\n",
        "    list_tokens = utils.string_to_int(src_sentence, 30, human_vocab)\n",
        "    # print(list_tokens)\n",
        "    X = torch.tensor(list_tokens, device = device)\n",
        "    X = nn.functional.one_hot(X, num_classes = len(human_vocab)).to(torch.float)\n",
        "    # print(list_tokens)\n",
        "    # print(X)\n",
        "    X = X.unsqueeze(0).swapaxes(0, 1)\n",
        "    # print(X.shape)\n",
        "    with torch.no_grad():\n",
        "        hidden, cell = model.encoder(X)\n",
        "    X = torch.tensor(machine_vocab['='], device = device).unsqueeze(0)\n",
        "    X = nn.functional.one_hot(X, num_classes = len(machine_vocab)).to(torch.float)\n",
        "    # print(X.shape)\n",
        "\n",
        "    result = []\n",
        "    for _ in range(num_preds):\n",
        "        with torch.no_grad():\n",
        "            X, hidden, cell = model.decoder(X, hidden, cell)\n",
        "            # X = X.argmax(1)\n",
        "\n",
        "            best_guess = X.argmax(dim = 1)\n",
        "\n",
        "            X = nn.functional.one_hot(X.argmax(dim = 1), num_classes = len(machine_vocab)).to(torch.float)\n",
        "        result.append(best_guess.cpu().numpy()[0])\n",
        "\n",
        "    # print(data.tgt_vocab.to_tokens(result))\n",
        "    final_sentene = [inv_machine_vocab[x] for x in result]\n",
        "    return \"\".join(final_sentene[:-1])\n",
        "for txt in EXAMPLES:\n",
        "  print(f\"{txt}  ->  {predict(model, txt)} \")"
      ]
    },
    {
      "cell_type": "code",
      "execution_count": null,
      "metadata": {
        "id": "l3JhBK8QVzaC"
      },
      "outputs": [],
      "source": []
    }
  ],
  "metadata": {
    "accelerator": "GPU",
    "colab": {
      "gpuType": "T4",
      "provenance": []
    },
    "kernelspec": {
      "display_name": "Python 3",
      "name": "python3"
    }
  },
  "nbformat": 4,
  "nbformat_minor": 0
}
