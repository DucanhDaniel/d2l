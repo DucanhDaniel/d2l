{
 "cells": [
  {
   "cell_type": "code",
   "execution_count": 49,
   "metadata": {},
   "outputs": [],
   "source": [
    "%matplotlib inline\n",
    "from d2l import mxnet as d2l\n",
    "from mxnet import np, npx\n",
    "import random\n",
    "npx.set_np()"
   ]
  },
  {
   "cell_type": "markdown",
   "metadata": {},
   "source": [
    "Thực hiện thí nghiệm tung xúc sắc. Phân phối mà gán các xác suất cho các lựa chọn rời rạc được gọi là phân phối đa thức.\n",
    "Trong MXNet, ta có thể lấy mẫu từ phân phối đa thức với hàm np.random.multinomial, muốn lấy một mẫu đơn thì ta chỉ cần đưa vào hàm này một vector chứa các xác suất. Hàm np.random.multinomial sẽ cho kết quả là một vector có chiều dài tương tự, trong vector này, giá trị tại chỉ số i là số lần kết quả i xuất hiện."
   ]
  },
  {
   "cell_type": "code",
   "execution_count": 51,
   "metadata": {},
   "outputs": [
    {
     "data": {
      "text/plain": [
       "array([0.1412, 0.1334, 0.142 , 0.1384, 0.1432, 0.3018])"
      ]
     },
     "execution_count": 51,
     "metadata": {},
     "output_type": "execute_result"
    }
   ],
   "source": [
    "fair_probs = [1.0 / 6] * 6\n",
    "counts = np.random.multinomial(10, fair_probs, size = 500)\n",
    "cum_counts = counts.astype(np.float32).sum(axis = 0)\n",
    "cum_counts/5000"
   ]
  }
 ],
 "metadata": {
  "kernelspec": {
   "display_name": "Python 3",
   "language": "python",
   "name": "python3"
  },
  "language_info": {
   "codemirror_mode": {
    "name": "ipython",
    "version": 3
   },
   "file_extension": ".py",
   "mimetype": "text/x-python",
   "name": "python",
   "nbconvert_exporter": "python",
   "pygments_lexer": "ipython3",
   "version": "3.7.12"
  }
 },
 "nbformat": 4,
 "nbformat_minor": 2
}
