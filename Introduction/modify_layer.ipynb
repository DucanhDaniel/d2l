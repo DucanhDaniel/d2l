{
 "cells": [
  {
   "cell_type": "markdown",
   "metadata": {},
   "source": [
    "### Các tầng tùy chỉnh\n",
    "- Một trong những yếu tố dẫn đến thành công của học sâu là sự đa dạng của các tầng. Những tầng này có thể được sắp xếp theo nhiều cách sáng tạo để thiết kế nên những kiến trúc phù hợp với nhiều tác vụ khác nhau.\n",
    "- Phần này sẽ hướng dẫn ta xây dựng một tầng tùy chỉnh"
   ]
  },
  {
   "cell_type": "markdown",
   "metadata": {},
   "source": [
    "#### 1. Các tầng không có tham số\n",
    "- Để bắt đầu, ta tạo một tầng tùy chỉnh (một khối) không chứa bất kỳ tham số nào. Lớp __CenteredLayer__ chỉ đơn thuần trừ đi giá trị trung bình từ đầu vào của nó. \n",
    "- Để xây dựng ta chỉ cần kế thừa từ lớp Block và lập trình phương thức forward."
   ]
  },
  {
   "cell_type": "code",
   "execution_count": 7,
   "metadata": {},
   "outputs": [],
   "source": [
    "from mxnet import gluon, np, npx\n",
    "from mxnet.gluon import nn\n",
    "npx.set_np()\n",
    "\n",
    "# **kwargs giúp CenteredLayer có thể kế thừa tất cả các tham số từ nn.Block một cách linh hoạt, \n",
    "# Giúp lớp mở rộng mà không cần định nghĩa lại tất cả các tham số của lớp cha.\n",
    "class CenteredLayer(nn.Block):\n",
    "    def __init__(self, **kwargs):\n",
    "        super(CenteredLayer, self).__init__(**kwargs)\n",
    "    def forward(self, x):\n",
    "        return x - x.mean()"
   ]
  },
  {
   "cell_type": "code",
   "execution_count": 8,
   "metadata": {},
   "outputs": [
    {
     "data": {
      "text/plain": [
       "array([-2., -1.,  0.,  1.,  2.])"
      ]
     },
     "execution_count": 8,
     "metadata": {},
     "output_type": "execute_result"
    }
   ],
   "source": [
    "layer = CenteredLayer()\n",
    "x = np.array(range(0, 5))\n",
    "layer(x)"
   ]
  },
  {
   "cell_type": "markdown",
   "metadata": {},
   "source": [
    "Chúng ta có thể kết hợp tầng này như là một thành phần để xây dựng các mô hình phức tạp hơn.\n",
    "Để kiểm tra thêm, ta có thể truyền dữ liệu ngẫu nhiên qua mạng và kiểm tra xem chúng thực sự đã có giá trị trung bình về không hay chưa. Do đang làm việc với số thực dấu phẩy động nên ta sẽ thấy một giá trị khác không  rất nhỏ."
   ]
  },
  {
   "cell_type": "code",
   "execution_count": 9,
   "metadata": {},
   "outputs": [
    {
     "data": {
      "text/plain": [
       "array(1.1175871e-09)"
      ]
     },
     "execution_count": 9,
     "metadata": {},
     "output_type": "execute_result"
    }
   ],
   "source": [
    "net = nn.Sequential()\n",
    "net.add(nn.Dense(128), CenteredLayer())\n",
    "net.initialize()\n",
    "\n",
    "y = net(x)\n",
    "y.mean()"
   ]
  },
  {
   "cell_type": "markdown",
   "metadata": {},
   "source": [
    "#### 2. Tầng có tham số\n",
    "- Ta chuyển sang việc định nghĩa các tầng chứa tham số có thể điều chỉnh được trong quá trình huấn luyện. \n",
    "- Để tự động hóa công việc lặp lại, lớp Parameter và từ điển ParameterDict cung cấp một số tính năng quản trị cơ bản gồm truy cập, khởi tạo, chia sẻ, lưu và nạp các tham số mô hình.\n",
    "- Bằng cách này, cùng với nhiều lợi ích khác, ta không cần phải viết lại các thủ tục tuần tự hóa cho mỗi tầng tùy chỉnh mới.\n",
    "- Lớp Block chứa biến __params__ với kiểu dữ liệu __ParameterDict__. Từ điển này ánh xạ các xâu ký tự biển thị __tên tham số__  đến các __tham số__  mô hình (Thuộc kiểu __Parameter__). __ParameterDict__ cũng cung cấp hàm __get__ giúp việc tạo tham số mới với tên và chiều cụ thể trở nên dễ dàng."
   ]
  },
  {
   "cell_type": "code",
   "execution_count": 11,
   "metadata": {},
   "outputs": [
    {
     "data": {
      "text/plain": [
       "(\n",
       "  Parameter param2 (shape=(2, 3), dtype=<class 'numpy.float32'>)\n",
       ")"
      ]
     },
     "execution_count": 11,
     "metadata": {},
     "output_type": "execute_result"
    }
   ],
   "source": [
    "params = gluon.ParameterDict()\n",
    "params.get('param2', shape = (2, 3))\n",
    "params"
   ]
  },
  {
   "cell_type": "markdown",
   "metadata": {},
   "source": [
    "Giờ ta đã có tất cả các thành phần cơ bản cần thiết để tự tạo một phiên bản tùy chỉnh của tầng Dense trong Gluon. Chú ý rằng tầng nà yêu cầu hai tham số, trọng số và hệ số điều chỉnh. Trong cách lập trình này, ta sử dụng hàm kích hoạt mặc định là ReLU.\n",
    "- Trong hàm __ __init__ __, in_units và units biểu thị lần lượt số lượng đầu vào và đầu ra"
   ]
  },
  {
   "cell_type": "code",
   "execution_count": 13,
   "metadata": {},
   "outputs": [],
   "source": [
    "class MyDense(nn.Block):\n",
    "    # units: The number of outputs in this layer;\n",
    "    # in_units: The number of inputs in this layer\n",
    "    def __init__(self, units, in_units, **kwargs):\n",
    "        super(MyDense, self).__init__(**kwargs)\n",
    "        self.weight = self.params.get('myweight', shape = (in_units, units))\n",
    "        self.bias = self.params.get('mybias', shape = (1, units))\n",
    "    \n",
    "    def forward(self, x):\n",
    "        linear = np.dot(x, self.weight.data()) + self.bias.data()\n",
    "        return npx.relu(linear)"
   ]
  },
  {
   "cell_type": "markdown",
   "metadata": {},
   "source": [
    "Việc đặt tên cho các tham số cho phép ta truy cập chúng theo tên thông qua tra cứu từ điển sau này. Nhìn chung, ta sẽ muốn đăt cho các biến tên đơn giản biểu thị mục đích rõ ràng của chúng. Tiếp theo, ta sẽ khởi tạo lớp MyDense và truy cập các tham số mô hình. \n",
    "Lưu ý rằng tên của khối sẽ được tự động thêm vào trước tên các tham số."
   ]
  },
  {
   "cell_type": "code",
   "execution_count": 14,
   "metadata": {},
   "outputs": [
    {
     "data": {
      "text/plain": [
       "mydense0_ (\n",
       "  Parameter mydense0_myweight (shape=(3, 10), dtype=<class 'numpy.float32'>)\n",
       "  Parameter mydense0_mybias (shape=(1, 10), dtype=<class 'numpy.float32'>)\n",
       ")"
      ]
     },
     "execution_count": 14,
     "metadata": {},
     "output_type": "execute_result"
    }
   ],
   "source": [
    "dense = MyDense(units=10, in_units=3)\n",
    "dense.params"
   ]
  },
  {
   "cell_type": "code",
   "execution_count": 22,
   "metadata": {},
   "outputs": [
    {
     "data": {
      "text/plain": [
       "array([[0.38301522, 0.20578627, 0.        , 0.02557632, 0.21038195,\n",
       "        0.06228156, 0.40721476, 0.52872777, 0.55179757, 1.0025297 ],\n",
       "       [0.3586089 , 0.2058548 , 0.        , 0.02261066, 0.2091816 ,\n",
       "        0.07510042, 0.37659347, 0.46959838, 0.52717686, 0.9419422 ]])"
      ]
     },
     "execution_count": 22,
     "metadata": {},
     "output_type": "execute_result"
    }
   ],
   "source": [
    "dense.initialize(force_reinit=True)\n",
    "dense(np.random.uniform(low = 5, high = 6, size = (2, 3)))"
   ]
  },
  {
   "cell_type": "markdown",
   "metadata": {},
   "source": [
    "- Các tầng tùy chỉnh có thể được dùng để xây dựng mô hình. Chúng có thể được sử dụng như các tầng được kết nối dày đặc được lập trình sẵn.\n",
    "- Ngoại lệ duy nhất là việc suy luận kích thước sẽ không được thực hiện tự động."
   ]
  },
  {
   "cell_type": "code",
   "execution_count": 44,
   "metadata": {},
   "outputs": [
    {
     "data": {
      "text/plain": [
       "array([[0.        , 0.00169223, 0.06004107],\n",
       "       [0.        , 0.00709664, 0.05866113]])"
      ]
     },
     "execution_count": 44,
     "metadata": {},
     "output_type": "execute_result"
    }
   ],
   "source": [
    "net = nn.Sequential()\n",
    "net.add(\n",
    "    MyDense(10, 3),\n",
    "    MyDense(3, 10)\n",
    ")\n",
    "net.initialize(force_reinit=True)\n",
    "net(np.random.normal(size = (2, 3)))"
   ]
  }
 ],
 "metadata": {
  "kernelspec": {
   "display_name": "Python 3",
   "language": "python",
   "name": "python3"
  },
  "language_info": {
   "codemirror_mode": {
    "name": "ipython",
    "version": 3
   },
   "file_extension": ".py",
   "mimetype": "text/x-python",
   "name": "python",
   "nbconvert_exporter": "python",
   "pygments_lexer": "ipython3",
   "version": "3.7.12"
  }
 },
 "nbformat": 4,
 "nbformat_minor": 2
}
