{
 "cells": [
  {
   "cell_type": "markdown",
   "metadata": {},
   "source": [
    "### Dự đoán giá nhà trên Kaggle\n",
    "#### 1. Tải và lưu trữ bộ dữ liệu\n",
    "- Ta sẽ cần tải và thử nghiệm nhiều mô hình trên các tập dữ liệu khác nhau. Ta sẽ lập trình một số hàm tiện ích để hỗ trợ cho việc tải dữ liệu. \n",
    "- Đầu tiên ta cần tạp một từ điển DATA_HUB nhằm ánh xạ một xâu ký tự đến đường dẫn (URL) với SHA-1 của tệp tại đường dẫn đó, trong đó SHA-1 dùng để xác minh tính toàn vẹn của tệp. Các tập dữ liệu này được lưu trữ trên trang DATA_URL."
   ]
  },
  {
   "cell_type": "code",
   "execution_count": 55,
   "metadata": {},
   "outputs": [],
   "source": [
    "import os\n",
    "from mxnet import gluon\n",
    "from d2l import mxnet as d2l\n",
    "import zipfile\n",
    "import tarfile\n",
    "\n",
    "DATA_HUB = dict()\n",
    "\n",
    "DATA_URL = 'http://d2l-data.s3-accelerate.amazonaws.com/'"
   ]
  },
  {
   "cell_type": "markdown",
   "metadata": {},
   "source": [
    "- Hàm dowload dưới đây tải tập dữ liệu có tên name từ đường dẫn tương ứng và lưu nó tại bộ nhớ cục bộ (mặc định tại ../data). Nếu tệp trên đã tồn tại trong bộ nhớ đệm và SHA-1 của nó khớp với tệp trong DATA_HUB, tệp trong bộ nhớ sẽ được sử dụng luôn mà không cần tải lại.\n",
    "- Điều này nghĩa là ta chỉ cần tải tập dữ liệu đúng một lần khi có kết nối mạng. Hàm dowload trả về tên của tệp được tải xuống."
   ]
  },
  {
   "cell_type": "code",
   "execution_count": 56,
   "metadata": {},
   "outputs": [],
   "source": [
    "def dowload(name, cahe_dir = '../data'):\n",
    "    \"\"\"Dowload a file inserted into DATA_HUB, return the local file name\"\"\"\n",
    "    assert name in DATA_HUB, \"%s doesn't exist\" % name\n",
    "    url, sha1 = DATA_HUB[name]\n",
    "    # d2l.mkdir_if_not_exist(cahe_dir)\n",
    "    return gluon.utils.download(url, cahe_dir, sha1_hash = sha1)\n"
   ]
  },
  {
   "cell_type": "markdown",
   "metadata": {},
   "source": [
    "- Ta cần lập trình thêm hai hàm khác, một hàm để tải và giải nén tệp zip/tar và hàm còn lại để tải tất cả các file từ DATA_HUB về bộ nhớ đệm. "
   ]
  },
  {
   "cell_type": "code",
   "execution_count": 57,
   "metadata": {},
   "outputs": [],
   "source": [
    "def dowload_extract(name, folder = None):\n",
    "    \"\"\"Dowload nd extract a zip/tar file\"\"\"\n",
    "    fname = dowload(name)\n",
    "    base_dir = os.path.dirname(fname)\n",
    "    data_dir, ext = os.path.splitext(fname)\n",
    "\n",
    "    if ext == '.zip':\n",
    "        fp = zipfile.ZipFile(fname, 'r')\n",
    "    elif ext == '.tar' or ext == '.gz':\n",
    "        fp = tarfile.open(fname, 'r')\n",
    "    else:\n",
    "        assert False, \"Only zip/tar files can be extracted\"\n",
    "    \n",
    "    fp.extractall(base_dir)\n",
    "    if folder:\n",
    "        return base_dir + '/' + folder + '/'\n",
    "    else:\n",
    "        return data_dir + '/'\n",
    "def dowload_all():\n",
    "    for name in DATA_HUB:\n",
    "        dowload(name)"
   ]
  },
  {
   "cell_type": "markdown",
   "metadata": {},
   "source": [
    "#### 2. Truy cập và đọc bộ dữ liệu\n",
    "- Lưu ý rằng dữ liệu của cuộc thi được tách thành tập huấn luyện và tập kiểm tra. Mỗi tập dữ liệu bao gồm giá tiền của ngôi nhà và các thuộc tính liên quan bao gồm loại đường phố, năm xây dựng, ...\n",
    "- Các đặc trưng được biểu diễn bởi nhiều kiểu dữ liệu. Ví dụ, năm xây dựng được biểu diễn bởi số nguyên, kiểu mái nhà là đặc trưng hạng mục rời rạc còn các đặc trưng khác thì được biểu diễn bởi số thực dấu phẩy động.\n",
    "- Đây là khi ta đối mặt với vấn đề thực tiễn, mở một vài mẫu dữ liệu bị thiếu và được đơn thuần chú thích là 'na'."
   ]
  },
  {
   "cell_type": "code",
   "execution_count": 58,
   "metadata": {},
   "outputs": [],
   "source": [
    "from mxnet import autograd, init, np, npx\n",
    "from mxnet.gluon import nn\n",
    "import pandas as pd\n",
    "npx.set_np()"
   ]
  },
  {
   "cell_type": "markdown",
   "metadata": {},
   "source": [
    "- Để thuận tiện, ta sẽ tải và lưu tập dữ liệu giá nhà Kaggle từ trang web DATA_URL. Với những cuộc thi Kaggle khác, có thể ta sẽ phải tải dữ liệu về theo cách thủ công."
   ]
  },
  {
   "cell_type": "code",
   "execution_count": 59,
   "metadata": {},
   "outputs": [],
   "source": [
    "# Saved in the d2l package for later use\n",
    "DATA_HUB['kaggle_house_train'] = (\n",
    "    DATA_URL + 'kaggle_house_pred_train.csv',\n",
    "    '585e9cc93e70b39160e7921475f9bcd7d31219ce')\n",
    "\n",
    "# Saved in the d2l package for later use\n",
    "DATA_HUB['kaggle_house_test'] = (\n",
    "    DATA_URL + 'kaggle_house_pred_test.csv',\n",
    "    'fa19780a7b011d9b009e8bff8e99922a8ee2eb90')"
   ]
  },
  {
   "cell_type": "code",
   "execution_count": 60,
   "metadata": {},
   "outputs": [],
   "source": [
    "train_data = pd.read_csv(dowload('kaggle_house_train'))\n",
    "test_data = pd.read_csv(dowload('kaggle_house_test'))"
   ]
  },
  {
   "cell_type": "markdown",
   "metadata": {},
   "source": [
    "- Tập huấn luyện chứa 1460 mẫu, 80 đặc trưng và 1 nhãn. Tập kiểm tra chứa 1459 mẫu và 80 đặc trưng."
   ]
  },
  {
   "cell_type": "code",
   "execution_count": 61,
   "metadata": {},
   "outputs": [
    {
     "name": "stdout",
     "output_type": "stream",
     "text": [
      "(1460, 81)\n",
      "(1459, 80)\n"
     ]
    }
   ],
   "source": [
    "print(train_data.shape)\n",
    "print(test_data.shape)"
   ]
  },
  {
   "cell_type": "markdown",
   "metadata": {},
   "source": [
    "- Hãy cùng xem xét 4 đặc trưng đầu tiên, 2 đặc trưng cuối cùng và nhãn của 10 mẫu đầu tiên."
   ]
  },
  {
   "cell_type": "code",
   "execution_count": 62,
   "metadata": {},
   "outputs": [
    {
     "name": "stdout",
     "output_type": "stream",
     "text": [
      "   Id  MSSubClass MSZoning  LotFrontage SaleType SaleCondition  SalePrice\n",
      "0   1          60       RL         65.0       WD        Normal     208500\n",
      "1   2          20       RL         80.0       WD        Normal     181500\n",
      "2   3          60       RL         68.0       WD        Normal     223500\n",
      "3   4          70       RL         60.0       WD       Abnorml     140000\n",
      "4   5          60       RL         84.0       WD        Normal     250000\n",
      "5   6          50       RL         85.0       WD        Normal     143000\n",
      "6   7          20       RL         75.0       WD        Normal     307000\n",
      "7   8          60       RL          NaN       WD        Normal     200000\n",
      "8   9          50       RM         51.0       WD       Abnorml     129900\n",
      "9  10         190       RL         50.0       WD        Normal     118000\n"
     ]
    }
   ],
   "source": [
    "print(train_data.iloc[0:10, [0, 1, 2, 3, -3, -2, -1]])"
   ]
  },
  {
   "cell_type": "markdown",
   "metadata": {},
   "source": [
    "- Có thể thấy với mỗi mẫu, đặc trưng đầu tiên là ID. Điều này giúp mô hình xác định được từng mẫu. Mặc dù việc này khá thuận tiện nhưng nó không mang bất kỳ thông tin nào cho mục đích dự đoán. Do đó chúng ta sẽ lược bỏ nó ra khỏi tập dữ liệu trước khi đưa vào mạng nơ ron."
   ]
  },
  {
   "cell_type": "code",
   "execution_count": 63,
   "metadata": {},
   "outputs": [
    {
     "name": "stdout",
     "output_type": "stream",
     "text": [
      "   MSSubClass MSZoning  LotFrontage  LotArea  YrSold SaleType SaleCondition\n",
      "0          60       RL         65.0     8450    2008       WD        Normal\n",
      "1          20       RL         80.0     9600    2007       WD        Normal\n",
      "2          60       RL         68.0    11250    2008       WD        Normal\n",
      "3          70       RL         60.0     9550    2006       WD       Abnorml\n",
      "4          60       RL         84.0    14260    2008       WD        Normal\n",
      "5          50       RL         85.0    14115    2009       WD        Normal\n",
      "6          20       RL         75.0    10084    2007       WD        Normal\n",
      "7          60       RL          NaN    10382    2009       WD        Normal\n",
      "8          50       RM         51.0     6120    2008       WD       Abnorml\n",
      "9         190       RL         50.0     7420    2008       WD        Normal\n"
     ]
    }
   ],
   "source": [
    "all_features = pd.concat((train_data.iloc[:, 1:-1], test_data.iloc[:, 1:]))\n",
    "print(all_features.iloc[0:10, [0, 1, 2, 3, -3, -2, -1]])"
   ]
  },
  {
   "attachments": {
    "image.png": {
     "image/png": "[encoded data removed]"
    }
   },
   "cell_type": "markdown",
   "metadata": {},
   "source": [
    "#### 3. Tiền xử lý dữ liệu\n",
    "- Trước khi đưa dữ liệu vào mạng học sâu, ta cần thực hiện một số phép xử lý. Bắt đầu với các đặc trưng số học. Trước hết ta thay thế các giá trị còn thiếu bằng giá trị trung bình. Đây là chiến lược hợp lý nếu các đặc trưng bị thiếu một cách ngẫu nhiên. Để đưa tất cả các đặc trưng số học về cùng một khoảng giá trị, ta thực hiện để chúng có trung bình bằng không và phương sai bằng cách:\n",
    "\n",
    "    ![image.png](attachment:image.png)\n",
    "\n",
    "- Để kiểm tra xem công thức trên có chuyển đổi x thành dữ liệu với trung bình bằng 0 hay không thì ta có thể tính:\n",
    "    + E[(x - nguy)/sigma] = (nguy - nguy)/sigma = 0\n",
    "- Với phương sai:\n",
    "    + E[(x - nguy)^2] = sigma ^ 2\n",
    "- Như vậy biến chuyển đổi sẽ có phương sai đơn vị.\n",
    "\n",
    "- Lý do của việc chuẩn hóa dữ liệu là do ta KHÔNG THỂ BIẾT TRƯỚC ĐẶC TRƯNG NÀO LÀ ĐẶC TRƯNG QUAN TRỌNG."
   ]
  },
  {
   "cell_type": "code",
   "execution_count": 64,
   "metadata": {},
   "outputs": [
    {
     "name": "stdout",
     "output_type": "stream",
     "text": [
      "Index(['MSSubClass', 'LotFrontage', 'LotArea', 'OverallQual', 'OverallCond',\n",
      "       'YearBuilt', 'YearRemodAdd', 'MasVnrArea', 'BsmtFinSF1', 'BsmtFinSF2',\n",
      "       'BsmtUnfSF', 'TotalBsmtSF', '1stFlrSF', '2ndFlrSF', 'LowQualFinSF',\n",
      "       'GrLivArea', 'BsmtFullBath', 'BsmtHalfBath', 'FullBath', 'HalfBath',\n",
      "       'BedroomAbvGr', 'KitchenAbvGr', 'TotRmsAbvGrd', 'Fireplaces',\n",
      "       'GarageYrBlt', 'GarageCars', 'GarageArea', 'WoodDeckSF', 'OpenPorchSF',\n",
      "       'EnclosedPorch', '3SsnPorch', 'ScreenPorch', 'PoolArea', 'MiscVal',\n",
      "       'MoSold', 'YrSold'],\n",
      "      dtype='object')\n",
      "   MSSubClass MSZoning  LotFrontage   LotArea    YrSold SaleType SaleCondition\n",
      "0    0.067320       RL    -0.184443 -0.217841  0.157619       WD        Normal\n",
      "1   -0.873466       RL     0.458096 -0.072032 -0.602858       WD        Normal\n",
      "2    0.067320       RL    -0.055935  0.137173  0.157619       WD        Normal\n",
      "3    0.302516       RL    -0.398622 -0.078371 -1.363335       WD       Abnorml\n",
      "4    0.067320       RL     0.629439  0.518814  0.157619       WD        Normal\n",
      "5   -0.167877       RL     0.672275  0.500430  0.918095       WD        Normal\n",
      "6   -0.873466       RL     0.243916 -0.010665 -0.602858       WD        Normal\n",
      "7    0.067320       RL     0.000000  0.027119  0.918095       WD        Normal\n",
      "8   -0.167877       RM    -0.784145 -0.513264  0.157619       WD       Abnorml\n",
      "9    3.124875       RL    -0.826981 -0.348436  0.157619       WD        Normal\n"
     ]
    }
   ],
   "source": [
    "numeric_features = all_features.dtypes[all_features.dtypes != 'object'].index\n",
    "print(numeric_features)\n",
    "\n",
    "all_features[numeric_features] = all_features[numeric_features].apply(\n",
    "    lambda x: (x - x.mean()) / (x.std())\n",
    ")\n",
    "\n",
    "# After standardizing the data all means vanish, hence we can set missing values to 0\n",
    "all_features[numeric_features] = all_features[numeric_features].fillna(0)\n",
    "print(all_features.iloc[0:10, [0, 1, 2, 3, -3, -2, -1]])\n"
   ]
  },
  {
   "cell_type": "markdown",
   "metadata": {},
   "source": [
    "- Tiếp theo ta sẽ xử lý các giá trị rời rạc như biến MSZoning. Ta sẽ thay thế chúng bằng biểu diễn one-hit theo đúng cách ta đã chuyển đổi dữ liệu phân loại đa lớp thành vector chứa 0 và 1. \n",
    "- Ví dụ, MSZoning bao gồm các giá trị RL và RM tương ứng lần lượt với vector (1, 0) và (0, 1). Việc này được thực hiện tự động trong pandas"
   ]
  },
  {
   "cell_type": "code",
   "execution_count": 65,
   "metadata": {},
   "outputs": [
    {
     "name": "stdout",
     "output_type": "stream",
     "text": [
      "(2919, 331)\n",
      "   MSSubClass  SaleCondition_Normal  SaleCondition_Partial  SaleCondition_nan\n",
      "0    0.067320                     1                      0                  0\n",
      "1   -0.873466                     1                      0                  0\n",
      "2    0.067320                     1                      0                  0\n",
      "3    0.302516                     0                      0                  0\n",
      "4    0.067320                     1                      0                  0\n",
      "5   -0.167877                     1                      0                  0\n",
      "6   -0.873466                     1                      0                  0\n",
      "7    0.067320                     1                      0                  0\n",
      "8   -0.167877                     0                      0                  0\n",
      "9    3.124875                     1                      0                  0\n"
     ]
    }
   ],
   "source": [
    "# Dummy_na = True refers to a missing values being a legal eigenvalues and \n",
    "# creates an indicative feature for it\n",
    "all_features = pd.get_dummies(all_features, dummy_na=True)\n",
    "print(all_features.shape)\n",
    "print(all_features.iloc[0:10, [0, -3, -2, -1]])"
   ]
  }
 ],
 "metadata": {
  "kernelspec": {
   "display_name": "Python 3",
   "language": "python",
   "name": "python3"
  },
  "language_info": {
   "codemirror_mode": {
    "name": "ipython",
    "version": 3
   },
   "file_extension": ".py",
   "mimetype": "text/x-python",
   "name": "python",
   "nbconvert_exporter": "python",
   "pygments_lexer": "ipython3",
   "version": "3.7.12"
  }
 },
 "nbformat": 4,
 "nbformat_minor": 2
}
