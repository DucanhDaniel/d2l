{
 "cells": [
  {
   "cell_type": "markdown",
   "metadata": {},
   "source": [
    "### Đọc ghi tệp\n",
    "- Đến nay, ta đã thảo luận về cách xử lý dữ liệu và cách xây dựng, huấn luyện, kiểm tra những mô hình học sâu. Tuy nhiên, có thể đến một lúc nào đó ta sẽ cảm thấy hài lòng với những gì thu được và muốn lưu lại kết quả để sau này sử dụng trong những bối cảnh khác nhau (thậm chí có thể đưa ra kết quả dựn đoán khi triển khai). \n",
    "- Ngoài ra, khi vận hành một quá trình huấn luyện dài hơi, tốt nhất là lưu kết quả trung gian một cách định kỳ nhằm đảm bảo rằng ta sẽ không mất kết quả tính toán sau nhiều ngày nến chẳng may gặp vấn đề.\n",
    "\n",
    "#### 1. Đọc và lưu các ndarray\n",
    "- Đối với ndarray riêng lẻ, ta có thể sử dụng trực tiếp các hàm load và save để đọc và ghi tương ứng. Cả hai hàm đều yêu cầu ta cung cấp tên, hàm save yêu cầu đầu vào với biến đã được lưu."
   ]
  },
  {
   "cell_type": "code",
   "execution_count": null,
   "metadata": {},
   "outputs": [],
   "source": [
    "from mxnet import np, npx\n",
    "from mxnet.gluon import nn\n",
    "npx.set_np()\n",
    "\n",
    "x = np.arange(4)\n",
    "npx.save('x-file', x)"
   ]
  },
  {
   "cell_type": "markdown",
   "metadata": {},
   "source": [
    "Bây giờ, ta có thể đọc lại dữ liệu từ các tệp được bảo lưu vào trong bộ nhớ."
   ]
  },
  {
   "cell_type": "code",
   "execution_count": 2,
   "metadata": {},
   "outputs": [
    {
     "data": {
      "text/plain": [
       "[array([0., 1., 2., 3.])]"
      ]
     },
     "execution_count": 2,
     "metadata": {},
     "output_type": "execute_result"
    }
   ],
   "source": [
    "x2 = npx.load('x-file')\n",
    "x2"
   ]
  },
  {
   "cell_type": "markdown",
   "metadata": {},
   "source": [
    "MXNet đồng thời cho phép ta lưu một danh sách các ndarray và đọc lại chúng vào trong bộ nhớ."
   ]
  },
  {
   "cell_type": "code",
   "execution_count": 3,
   "metadata": {},
   "outputs": [
    {
     "data": {
      "text/plain": [
       "(array([0., 1., 2., 3.]), array([0., 0., 0., 0.]))"
      ]
     },
     "execution_count": 3,
     "metadata": {},
     "output_type": "execute_result"
    }
   ],
   "source": [
    "y = np.zeros(4)\n",
    "npx.save('x-files', [x, y])\n",
    "x2, y2 = npx.load('x-files')\n",
    "x2, y2"
   ]
  },
  {
   "cell_type": "markdown",
   "metadata": {},
   "source": [
    "Ta còn có thể ghi và đọc một từ điển ánh xạ từ một chuỗi sang một ndarray. Điều này khá là thuận tiện khi chúng ta muốn đọc hoặc ghi tất cả các trọng số của mô hình."
   ]
  },
  {
   "cell_type": "code",
   "execution_count": 4,
   "metadata": {},
   "outputs": [
    {
     "data": {
      "text/plain": [
       "{'x': array([0., 1., 2., 3.]), 'y': array([0., 0., 0., 0.])}"
      ]
     },
     "execution_count": 4,
     "metadata": {},
     "output_type": "execute_result"
    }
   ],
   "source": [
    "mydict = {'x': x, 'y' : y}\n",
    "npx.save('mydict', mydict)\n",
    "mydict2 = npx.load('mydict')\n",
    "mydict2"
   ]
  },
  {
   "cell_type": "markdown",
   "metadata": {},
   "source": [
    "#### 2. Tham số mô hình Gluon\n",
    "- Khả năng lưu từng vector trọng số đơn lẻ hoặc các ndarray tensor khác là hữu ích nhưng sẽ mất nhiều thời gian nếu ta muốn lưu và sau đó nạp lại toàn bộ mô hình do có thể có hàng trăm nhóm tham số rải rác xuyên suốt mô hình.\n",
    "- Vì lý do đó Gluon cung cấp sẵn tính năng lưu và nạp toàn bộ các mạng. Một chi tiết quan trọng cần lưu ý là __chức năng này chỉ lưu các tham số của mô hình, không phải toàn bộ mô hình__. Tức là nếu ta có một MLP ba tầng, ta __cần chỉ rõ kiến trúc này một cách riêng lẻ__.  Lý do là vì bản thân các mô hình có thể chứa mã nguồn bất kỳ, chúng không được thêm vào tập tin dễ dàng như các tham số.\n",
    "- Vì vậy, để khôi phục lại một mô hình thì chũng ta cần xây dựng lại kiến trúc của nó từ mã nguồn rồi nạp các tham số từ ổ cứng vào kiến trúc này.\n",
    "- Việc khởi tạo trễ lúc này rất có lợi bởi ta chỉ cần định nghĩa một mô hình mà không cần gán giá trị cụ thể cho tham số."
   ]
  },
  {
   "cell_type": "code",
   "execution_count": 5,
   "metadata": {},
   "outputs": [
    {
     "data": {
      "text/plain": [
       "array([[ 0.04769547,  0.01613292,  0.0163198 , -0.05325831, -0.01625958,\n",
       "        -0.00756938, -0.0219499 ,  0.09401564, -0.02075765,  0.03281157],\n",
       "       [ 0.05781221,  0.01893527, -0.00019526, -0.0217602 , -0.00246077,\n",
       "        -0.04333879, -0.00157848,  0.08837229,  0.03380634,  0.02674502]])"
      ]
     },
     "execution_count": 5,
     "metadata": {},
     "output_type": "execute_result"
    }
   ],
   "source": [
    "class MLP(nn.Block):\n",
    "    def __init__(self, **kwargs):\n",
    "        super(MLP, self).__init__(**kwargs)\n",
    "        self.hidden = nn.Dense(256, activation='relu')\n",
    "        self.output = nn.Dense(10)\n",
    "    def forward(self, x):\n",
    "        return self.output(self.hidden(x))\n",
    "\n",
    "net = MLP()\n",
    "net.initialize()\n",
    "x = np.random.uniform(size = (2, 10))\n",
    "net(x)"
   ]
  },
  {
   "cell_type": "markdown",
   "metadata": {},
   "source": [
    "Tiếp theo, ta lưu các tham số của mô hình vào tệp __mlp.params__. Những khối Gluon hỗ trợ phương thức từ hàm __save_parameter__ nhằm ghi lại tất cả các tham số vào ổ cứng được cung cấp với một chuỗi những tên tệp."
   ]
  },
  {
   "cell_type": "code",
   "execution_count": 6,
   "metadata": {},
   "outputs": [],
   "source": [
    "net.save_parameters('mlp.params')"
   ]
  },
  {
   "cell_type": "markdown",
   "metadata": {},
   "source": [
    "Để khôi phục mô hình, ta tạo một đối tượng khác dựa trên mô hình MLP gốc. Thay vì khởi tạo ngẫu nhiên những tham số của mô hình, ta đọc các tham số được lưu trực tiếp trong tập tin sử dụng __load_parameters__."
   ]
  },
  {
   "cell_type": "code",
   "execution_count": 7,
   "metadata": {},
   "outputs": [],
   "source": [
    "clone = MLP()\n",
    "clone.load_parameters('mlp.params')"
   ]
  },
  {
   "cell_type": "code",
   "execution_count": 8,
   "metadata": {},
   "outputs": [
    {
     "data": {
      "text/plain": [
       "array([[ True,  True,  True,  True,  True,  True,  True,  True,  True,\n",
       "         True],\n",
       "       [ True,  True,  True,  True,  True,  True,  True,  True,  True,\n",
       "         True]])"
      ]
     },
     "execution_count": 8,
     "metadata": {},
     "output_type": "execute_result"
    }
   ],
   "source": [
    "yclone = clone(x)\n",
    "y = net(x)\n",
    "yclone == y"
   ]
  }
 ],
 "metadata": {
  "kernelspec": {
   "display_name": "Python 3",
   "language": "python",
   "name": "python3"
  },
  "language_info": {
   "codemirror_mode": {
    "name": "ipython",
    "version": 3
   },
   "file_extension": ".py",
   "mimetype": "text/x-python",
   "name": "python",
   "nbconvert_exporter": "python",
   "pygments_lexer": "ipython3",
   "version": "3.7.12"
  }
 },
 "nbformat": 4,
 "nbformat_minor": 2
}
