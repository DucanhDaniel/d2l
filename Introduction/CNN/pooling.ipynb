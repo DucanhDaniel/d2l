{
 "cells": [
  {
   "attachments": {
    "image.png": {
     "image/png": "[encoded data removed]"
    }
   },
   "cell_type": "markdown",
   "metadata": {},
   "source": [
    "### Gộp (Pooling)\n",
    "- Khi xử lý ảnh, ta thường muốn giảm dần độ phân giải không gian giữa các biểu diễn ẩn, tổng hợp thông tin lại để khi càng đi sâu vào trong, vùng tiếp nhận ở đầu vảo ảnh hưởng đến mỗi nút ẩn càng lớn.\n",
    "- Nhiệm vụ cuối cùng thường là trả lời một câu hỏi nào đó về toàn bộ tấm ảnh, vậy nên các nút của tầng cuối cùng thường cần phải chịu ảnh hưởng của toàn bộ đầu vào. Bằng cách gộp dần thông tin lại để tạo ra các ánh xạ đặc trung thưa dần, ta sẽ học được một biểu diễn toàn cục, trong khi vẫn có thể giữ nguyên toàn bộ lợi thế đến từ các tầng tích chập xử lý trung gian.\n",
    "- Hơn nữa, khi phát hiện các đặc trưng cấp thấp như cạnh, ta thường muốn cách biểu diễn này bất biến với phép tịnh tiến trong một chừng mực nào đó. Ví dụ, nếu ta lấy ảnh X với một ranh giới rõ rệt giữa màu đen và màu trăng và dich chuyển toàn bộ tấm ảnh sang trải một điểm ảnh, tức là Z[i, j] = X[i, j + 1] thì đầu ra có thể sẽ khác đi rất nhiều.\n",
    "- Ta sẽ cần đến các tầng gộp, với hai chức năng là giảm dộ nhạy cảm của các tầng tích chập đối với vị trí và giảm kích thước của các biểu diễn.\n",
    "\n",
    "#### 1. Gộp cực đại và gộp trung bình\n",
    "- Giống như các tầng tích chập, các toán tử gộp bao gồm một cửa số có kích thước cố định trượt trên tất cả các vùng đàu vào với giá trị sải bước nhất định, tính toán một giá trị đầu ra duy nhất tại mỗi vị trí mà cửa số trượt qua.\n",
    "- Tuy nhiên, không giống như phép tương quan chéo giữa đầu vào và hạt nhân, tầng gộp không chứa bộ lọc. Đây có thể là phép tính giá trị cực đại hoặc trung bình trong cửa sổ gộp. Các phép tính này được gọi là __gộp cực đại__ và __gộp trung bình__.\n",
    "\n",
    "    \n",
    "    ![image.png](attachment:image.png)\n",
    "\n"
   ]
  },
  {
   "cell_type": "code",
   "execution_count": 18,
   "metadata": {},
   "outputs": [],
   "source": [
    "from d2l import mxnet as d2l\n",
    "from mxnet import np, npx\n",
    "from mxnet.gluon import nn\n",
    "npx.set_np()\n",
    "\n",
    "def pool2d(X, pool_size, mode = 'max'):\n",
    "    if hasattr(pool_size, '__len__'):\n",
    "        pool_shape = pool_size\n",
    "    else:\n",
    "        pool_shape = (pool_size, pool_size)\n",
    "    \n",
    "    Y_shape = (X.shape[0] - pool_shape[0] + 1, X.shape[1] - pool_shape[1] + 1)\n",
    "    Y = np.zeros(shape = Y_shape)\n",
    "    \n",
    "    for i in range(Y_shape[0]):\n",
    "        for j in range(Y_shape[1]):\n",
    "            tmp = X[i:i + pool_shape[0], j:j + pool_shape[1]]\n",
    "            if mode == 'max':\n",
    "                Y[i][j] = np.max(tmp)\n",
    "            elif mode == 'avg':\n",
    "                Y[i][j] = np.mean(tmp)\n",
    "    return Y\n",
    "\n"
   ]
  },
  {
   "cell_type": "code",
   "execution_count": 19,
   "metadata": {},
   "outputs": [
    {
     "data": {
      "text/plain": [
       "array([[4., 5.],\n",
       "       [7., 8.]])"
      ]
     },
     "execution_count": 19,
     "metadata": {},
     "output_type": "execute_result"
    }
   ],
   "source": [
    "X = np.array([[0, 1, 2], [3, 4, 5], [6, 7, 8]])\n",
    "pool2d(X, (2, 2))"
   ]
  },
  {
   "cell_type": "code",
   "execution_count": 20,
   "metadata": {},
   "outputs": [
    {
     "data": {
      "text/plain": [
       "array([[2., 3.],\n",
       "       [5., 6.]])"
      ]
     },
     "execution_count": 20,
     "metadata": {},
     "output_type": "execute_result"
    }
   ],
   "source": [
    "X = np.array([[0, 1, 2], [3, 4, 5], [6, 7, 8]])\n",
    "pool2d(X, (2, 2), 'avg')"
   ]
  },
  {
   "cell_type": "markdown",
   "metadata": {},
   "source": [
    "#### 2. Đệm và sải bước\n",
    "- Giống như các tầng tích chập, các tầng gộp cũng có thể thay đổi kích thước đầu ra, và cũng như trước, ta có thể thay đổi cách thước hoạt động của tầng hộp để đạt được kích thước đầu ra như mong muốn bằng cách thêm đệm vào đầu ra và điều chỉnh sải bước. \n",
    "- Ta minh họa bằng cách sử dụng đệm và sải bước trong các tầng gộp cực đại hai chiều MaxPool2D trong module nn của thư viện MXNet Gluon.\n",
    "- Đầu tiên, ta tạo ra dữ liệu đâu vào kích thước (1, 1, 4, 4) trong đó hai chiều đầu tiên lần lượt là kích thước batch và số kênh."
   ]
  },
  {
   "cell_type": "code",
   "execution_count": 21,
   "metadata": {},
   "outputs": [
    {
     "data": {
      "text/plain": [
       "array([[[[ 0.,  1.,  2.,  3.],\n",
       "         [ 4.,  5.,  6.,  7.],\n",
       "         [ 8.,  9., 10., 11.],\n",
       "         [12., 13., 14., 15.]]]])"
      ]
     },
     "execution_count": 21,
     "metadata": {},
     "output_type": "execute_result"
    }
   ],
   "source": [
    "X = np.arange(16).reshape(1, 1, 4, 4)\n",
    "X"
   ]
  },
  {
   "cell_type": "code",
   "execution_count": 22,
   "metadata": {},
   "outputs": [
    {
     "data": {
      "text/plain": [
       "array([[[[10.]]]])"
      ]
     },
     "execution_count": 22,
     "metadata": {},
     "output_type": "execute_result"
    }
   ],
   "source": [
    "pool2d = nn.MaxPool2D(pool_size=(3, 3))\n",
    "pool2d(X)"
   ]
  },
  {
   "cell_type": "code",
   "execution_count": 23,
   "metadata": {},
   "outputs": [
    {
     "data": {
      "text/plain": [
       "array([[[[ 5.,  7.],\n",
       "         [13., 15.]]]])"
      ]
     },
     "execution_count": 23,
     "metadata": {},
     "output_type": "execute_result"
    }
   ],
   "source": [
    "pool2d = nn.MaxPool2D(pool_size = 3, padding = 1, strides = 2)\n",
    "pool2d(X)"
   ]
  },
  {
   "cell_type": "markdown",
   "metadata": {},
   "source": [
    "#### 3. Với đầu vào đa kênh\n",
    "- Khi xử lý dữ liệu đầu vào đa kênh, tầng hộp sẽ áp dụng lên từng kênh một cách riêng biệt thay vì cộng từng phần tử tương ứng của các kênh lại với nhau như tầng tích chập. Điều này có nghĩa là số lượng kênh đầu ra của tầng gộp sẽ giống số lượng kênh đầu vào.\n",
    "- Dưới đây ta sẽ ghép hai mảng X và X + 1 theo chiều kênh để tạo ra đầu vào 2 kênh."
   ]
  },
  {
   "cell_type": "code",
   "execution_count": 24,
   "metadata": {},
   "outputs": [
    {
     "data": {
      "text/plain": [
       "array([[[[ 0.,  1.,  2.,  3.],\n",
       "         [ 4.,  5.,  6.,  7.],\n",
       "         [ 8.,  9., 10., 11.],\n",
       "         [12., 13., 14., 15.]],\n",
       "\n",
       "        [[ 1.,  2.,  3.,  4.],\n",
       "         [ 5.,  6.,  7.,  8.],\n",
       "         [ 9., 10., 11., 12.],\n",
       "         [13., 14., 15., 16.]]]])"
      ]
     },
     "execution_count": 24,
     "metadata": {},
     "output_type": "execute_result"
    }
   ],
   "source": [
    "X = np.concatenate((X, X + 1), axis = 1)\n",
    "X"
   ]
  },
  {
   "cell_type": "code",
   "execution_count": 25,
   "metadata": {},
   "outputs": [
    {
     "data": {
      "text/plain": [
       "array([[[[ 5.,  7.],\n",
       "         [13., 15.]],\n",
       "\n",
       "        [[ 6.,  8.],\n",
       "         [14., 16.]]]])"
      ]
     },
     "execution_count": 25,
     "metadata": {},
     "output_type": "execute_result"
    }
   ],
   "source": [
    "pool2d = nn.MaxPool2D(3, padding = 1, strides = 2)\n",
    "pool2d(X)"
   ]
  }
 ],
 "metadata": {
  "kernelspec": {
   "display_name": "Python 3",
   "language": "python",
   "name": "python3"
  },
  "language_info": {
   "codemirror_mode": {
    "name": "ipython",
    "version": 3
   },
   "file_extension": ".py",
   "mimetype": "text/x-python",
   "name": "python",
   "nbconvert_exporter": "python",
   "pygments_lexer": "ipython3",
   "version": "3.7.12"
  }
 },
 "nbformat": 4,
 "nbformat_minor": 2
}
